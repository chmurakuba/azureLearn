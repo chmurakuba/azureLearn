{
    "metadata": {
        "kernelspec": {
            "name": "SQL",
            "display_name": "SQL",
            "language": "sql"
        },
        "language_info": {
            "name": "sql",
            "version": ""
        }
    },
    "nbformat_minor": 2,
    "nbformat": 4,
    "cells": [
        {
            "cell_type": "code",
            "source": [
                "USE [WideWorldImportersDW]\r\n",
                "GO\r\n",
                "SELECT COUNT(*) AS [#Sales]\r\n",
                "FROM [Fact].[Sale]"
            ],
            "metadata": {
                "azdata_cell_guid": "e367be99-b739-4f03-981f-1857e7920f6f",
                "tags": []
            },
            "outputs": [
                {
                    "output_type": "display_data",
                    "data": {
                        "text/html": "Commands completed successfully."
                    },
                    "metadata": {}
                },
                {
                    "output_type": "display_data",
                    "data": {
                        "text/html": "(1 row affected)"
                    },
                    "metadata": {}
                },
                {
                    "output_type": "display_data",
                    "data": {
                        "text/html": "Total execution time: 00:00:00.131"
                    },
                    "metadata": {}
                },
                {
                    "output_type": "execute_result",
                    "execution_count": 1,
                    "data": {
                        "application/vnd.dataresource+json": {
                            "schema": {
                                "fields": [
                                    {
                                        "name": "#Sales"
                                    }
                                ]
                            },
                            "data": [
                                {
                                    "0": "228265"
                                }
                            ]
                        },
                        "text/html": "<table><tr><th>#Sales</th></tr><tr><td>228265</td></tr></table>"
                    },
                    "metadata": {
                        "azdata_chartOptions": {
                            "type": "bar",
                            "dataDirection": "horizontal",
                            "columnsAsLabels": true,
                            "labelFirstColumn": false,
                            "legendPosition": "top"
                        }
                    }
                }
            ],
            "execution_count": 1
        },
        {
            "cell_type": "code",
            "source": [
                "USE [WideWorldImporters]\r\n",
                "GO\r\n",
                "SELECT COUNT(*) AS [#Sales]\r\n",
                "FROM [Sales].[Orders]\r\n",
                "UNION ALL\r\n",
                "SELECT COUNT(*) AS [#Sales]\r\n",
                "FROM [Sales].[OrderLines]\r\n",
                "UNION ALL\r\n",
                "SELECT COUNT(*) AS [#Sales]\r\n",
                "FROM [Sales].[Invoices]"
            ],
            "metadata": {
                "azdata_cell_guid": "b89e336d-d423-49d2-9011-8764ffb84956"
            },
            "outputs": [
                {
                    "output_type": "display_data",
                    "data": {
                        "text/html": "Commands completed successfully."
                    },
                    "metadata": {}
                },
                {
                    "output_type": "display_data",
                    "data": {
                        "text/html": "(3 rows affected)"
                    },
                    "metadata": {}
                },
                {
                    "output_type": "display_data",
                    "data": {
                        "text/html": "Total execution time: 00:00:00.015"
                    },
                    "metadata": {}
                },
                {
                    "output_type": "execute_result",
                    "execution_count": 10,
                    "data": {
                        "application/vnd.dataresource+json": {
                            "schema": {
                                "fields": [
                                    {
                                        "name": "#Sales"
                                    }
                                ]
                            },
                            "data": [
                                {
                                    "0": "73595"
                                },
                                {
                                    "0": "231412"
                                },
                                {
                                    "0": "70510"
                                }
                            ]
                        },
                        "text/html": "<table><tr><th>#Sales</th></tr><tr><td>73595</td></tr><tr><td>231412</td></tr><tr><td>70510</td></tr></table>"
                    },
                    "metadata": {
                        "azdata_chartOptions": {
                            "type": "bar",
                            "dataDirection": "horizontal",
                            "columnsAsLabels": true,
                            "labelFirstColumn": false,
                            "legendPosition": "top"
                        }
                    }
                }
            ],
            "execution_count": 10
        },
        {
            "cell_type": "code",
            "source": [
                "USE [WideWorldImportersDW]\r\n",
                "GO\r\n",
                "SELECT SUM(Profit) AS [#Sales]\r\n",
                "FROM [Fact].[Sale];"
            ],
            "metadata": {
                "azdata_cell_guid": "d67957d8-5843-4597-8f9f-f2d98c191681"
            },
            "outputs": [
                {
                    "output_type": "display_data",
                    "data": {
                        "text/html": "Commands completed successfully."
                    },
                    "metadata": {}
                },
                {
                    "output_type": "display_data",
                    "data": {
                        "text/html": "(1 row affected)"
                    },
                    "metadata": {}
                },
                {
                    "output_type": "display_data",
                    "data": {
                        "text/html": "Total execution time: 00:00:00.045"
                    },
                    "metadata": {}
                },
                {
                    "output_type": "execute_result",
                    "execution_count": 11,
                    "data": {
                        "application/vnd.dataresource+json": {
                            "schema": {
                                "fields": [
                                    {
                                        "name": "#Sales"
                                    }
                                ]
                            },
                            "data": [
                                {
                                    "0": "85729180.90"
                                }
                            ]
                        },
                        "text/html": "<table><tr><th>#Sales</th></tr><tr><td>85729180.90</td></tr></table>"
                    },
                    "metadata": {}
                }
            ],
            "execution_count": 11
        },
        {
            "cell_type": "code",
            "source": [
                "USE [WideWorldImportersDW]\r\n",
                "GO\r\n",
                "SELECT d.[Calendar Month Label], COUNT(*) as Sales\r\n",
                "FROM [Fact].[Sale] as fs\r\n",
                "JOIN [Dimension].[Date] as d\r\n",
                "ON d.Date = fs.[Invoice Date Key]\r\n",
                "GROUP BY d.[Calendar Month Label]"
            ],
            "metadata": {
                "azdata_cell_guid": "04ba8681-fb5f-42f1-bbd0-31832b2c5636"
            },
            "outputs": [
                {
                    "output_type": "display_data",
                    "data": {
                        "text/html": "Commands completed successfully."
                    },
                    "metadata": {}
                },
                {
                    "output_type": "display_data",
                    "data": {
                        "text/html": "(41 rows affected)"
                    },
                    "metadata": {}
                },
                {
                    "output_type": "display_data",
                    "data": {
                        "text/html": "Total execution time: 00:00:00.015"
                    },
                    "metadata": {}
                },
                {
                    "output_type": "execute_result",
                    "execution_count": 13,
                    "data": {
                        "application/vnd.dataresource+json": {
                            "schema": {
                                "fields": [
                                    {
                                        "name": "Calendar Month Label"
                                    },
                                    {
                                        "name": "Sales"
                                    }
                                ]
                            },
                            "data": [
                                {
                                    "0": "CY2013-Jul",
                                    "1": "5834"
                                },
                                {
                                    "0": "CY2013-Sep",
                                    "1": "5021"
                                },
                                {
                                    "0": "CY2015-Apr",
                                    "1": "6549"
                                },
                                {
                                    "0": "CY2015-Jun",
                                    "1": "6084"
                                },
                                {
                                    "0": "CY2014-Oct",
                                    "1": "5983"
                                },
                                {
                                    "0": "CY2013-Oct",
                                    "1": "5097"
                                },
                                {
                                    "0": "CY2014-Dec",
                                    "1": "5924"
                                },
                                {
                                    "0": "CY2013-May",
                                    "1": "5617"
                                },
                                {
                                    "0": "CY2014-Mar",
                                    "1": "5070"
                                },
                                {
                                    "0": "CY2015-Mar",
                                    "1": "5877"
                                },
                                {
                                    "0": "CY2015-May",
                                    "1": "6000"
                                },
                                {
                                    "0": "CY2013-Mar",
                                    "1": "5330"
                                },
                                {
                                    "0": "CY2013-Apr",
                                    "1": "5254"
                                },
                                {
                                    "0": "CY2014-Apr",
                                    "1": "5443"
                                },
                                {
                                    "0": "CY2014-Jun",
                                    "1": "5798"
                                },
                                {
                                    "0": "CY2015-Jan",
                                    "1": "5651"
                                },
                                {
                                    "0": "CY2016-May",
                                    "1": "6351"
                                },
                                {
                                    "0": "CY2014-May",
                                    "1": "5930"
                                },
                                {
                                    "0": "CY2014-Nov",
                                    "1": "5070"
                                },
                                {
                                    "0": "CY2016-Apr",
                                    "1": "5923"
                                },
                                {
                                    "0": "CY2013-Jan",
                                    "1": "5246"
                                },
                                {
                                    "0": "CY2013-Dec",
                                    "1": "4909"
                                },
                                {
                                    "0": "CY2014-Jul",
                                    "1": "6227"
                                },
                                {
                                    "0": "CY2015-Sep",
                                    "1": "6297"
                                },
                                {
                                    "0": "CY2015-Nov",
                                    "1": "5625"
                                },
                                {
                                    "0": "CY2014-Sep",
                                    "1": "5059"
                                },
                                {
                                    "0": "CY2015-Dec",
                                    "1": "5981"
                                },
                                {
                                    "0": "CY2016-Jan",
                                    "1": "5914"
                                },
                                {
                                    "0": "CY2016-Feb",
                                    "1": "5196"
                                },
                                {
                                    "0": "CY2013-Jun",
                                    "1": "5287"
                                },
                                {
                                    "0": "CY2014-Jan",
                                    "1": "5610"
                                },
                                {
                                    "0": "CY2013-Feb",
                                    "1": "3707"
                                },
                                {
                                    "0": "CY2016-Mar",
                                    "1": "6074"
                                },
                                {
                                    "0": "CY2013-Aug",
                                    "1": "4767"
                                },
                                {
                                    "0": "CY2015-Jul",
                                    "1": "6955"
                                },
                                {
                                    "0": "CY2014-Feb",
                                    "1": "4768"
                                },
                                {
                                    "0": "CY2015-Feb",
                                    "1": "5406"
                                },
                                {
                                    "0": "CY2015-Aug",
                                    "1": "5321"
                                },
                                {
                                    "0": "CY2015-Oct",
                                    "1": "6152"
                                },
                                {
                                    "0": "CY2014-Aug",
                                    "1": "5059"
                                },
                                {
                                    "0": "CY2013-Nov",
                                    "1": "4899"
                                }
                            ]
                        },
                        "text/html": "<table><tr><th>Calendar Month Label</th><th>Sales</th></tr><tr><td>CY2013-Jul</td><td>5834</td></tr><tr><td>CY2013-Sep</td><td>5021</td></tr><tr><td>CY2015-Apr</td><td>6549</td></tr><tr><td>CY2015-Jun</td><td>6084</td></tr><tr><td>CY2014-Oct</td><td>5983</td></tr><tr><td>CY2013-Oct</td><td>5097</td></tr><tr><td>CY2014-Dec</td><td>5924</td></tr><tr><td>CY2013-May</td><td>5617</td></tr><tr><td>CY2014-Mar</td><td>5070</td></tr><tr><td>CY2015-Mar</td><td>5877</td></tr><tr><td>CY2015-May</td><td>6000</td></tr><tr><td>CY2013-Mar</td><td>5330</td></tr><tr><td>CY2013-Apr</td><td>5254</td></tr><tr><td>CY2014-Apr</td><td>5443</td></tr><tr><td>CY2014-Jun</td><td>5798</td></tr><tr><td>CY2015-Jan</td><td>5651</td></tr><tr><td>CY2016-May</td><td>6351</td></tr><tr><td>CY2014-May</td><td>5930</td></tr><tr><td>CY2014-Nov</td><td>5070</td></tr><tr><td>CY2016-Apr</td><td>5923</td></tr><tr><td>CY2013-Jan</td><td>5246</td></tr><tr><td>CY2013-Dec</td><td>4909</td></tr><tr><td>CY2014-Jul</td><td>6227</td></tr><tr><td>CY2015-Sep</td><td>6297</td></tr><tr><td>CY2015-Nov</td><td>5625</td></tr><tr><td>CY2014-Sep</td><td>5059</td></tr><tr><td>CY2015-Dec</td><td>5981</td></tr><tr><td>CY2016-Jan</td><td>5914</td></tr><tr><td>CY2016-Feb</td><td>5196</td></tr><tr><td>CY2013-Jun</td><td>5287</td></tr><tr><td>CY2014-Jan</td><td>5610</td></tr><tr><td>CY2013-Feb</td><td>3707</td></tr><tr><td>CY2016-Mar</td><td>6074</td></tr><tr><td>CY2013-Aug</td><td>4767</td></tr><tr><td>CY2015-Jul</td><td>6955</td></tr><tr><td>CY2014-Feb</td><td>4768</td></tr><tr><td>CY2015-Feb</td><td>5406</td></tr><tr><td>CY2015-Aug</td><td>5321</td></tr><tr><td>CY2015-Oct</td><td>6152</td></tr><tr><td>CY2014-Aug</td><td>5059</td></tr><tr><td>CY2013-Nov</td><td>4899</td></tr></table>"
                    },
                    "metadata": {
                        "azdata_chartOptions": {
                            "type": "bar",
                            "dataDirection": "vertical",
                            "columnsAsLabels": true,
                            "labelFirstColumn": false,
                            "legendPosition": "top"
                        }
                    }
                }
            ],
            "execution_count": 13
        },
        {
            "cell_type": "code",
            "source": [
                "USE [WideWorldImportersDW]\r\n",
                "GO\r\n",
                "SELECT\r\n",
                "        c.[City Key]\r\n",
                "       ,c.[City]\r\n",
                "       ,COUNT(*) AS products_sold\r\n",
                "       ,SUM(fs.quantity) AS qof_products_sold\r\n",
                "\t   ,CAST((COUNT(*)*1.0/SUM(COUNT(*)) OVER())*100 AS DECIMAL(5,3)) AS pct_total\r\n",
                "FROM\r\n",
                "     Fact.Sale AS fs\r\n",
                "JOIN dimension.city AS c\r\n",
                "ON c.[City Key] = fs.[City Key]\r\n",
                "GROUP BY\r\n",
                "        c.[City Key]\r\n",
                "       ,c.[City]\r\n",
                "ORDER BY products_sold DESC;"
            ],
            "metadata": {
                "azdata_cell_guid": "b235c4a3-72c0-48fd-9132-d9f69eeca3e3"
            },
            "outputs": [
                {
                    "output_type": "display_data",
                    "data": {
                        "text/html": "Commands completed successfully."
                    },
                    "metadata": {}
                },
                {
                    "output_type": "display_data",
                    "data": {
                        "text/html": "(1240 rows affected)"
                    },
                    "metadata": {}
                },
                {
                    "output_type": "display_data",
                    "data": {
                        "text/html": "Total execution time: 00:00:00.065"
                    },
                    "metadata": {}
                },
                {
                    "output_type": "execute_result",
                    "execution_count": 2,
                    "data": {
                        "application/vnd.dataresource+json": {
                            "schema": {
                                "fields": [
                                    {
                                        "name": "City Key"
                                    },
                                    {
                                        "name": "City"
                                    },
                                    {
                                        "name": "products_sold"
                                    },
                                    {
                                        "name": "qof_products_sold"
                                    },
                                    {
                                        "name": "pct_total"
                                    }
                                ]
                            },
                            "data": [
                                {
                                    "0": "72610",
                                    "1": "Akhiok",
                                    "2": "732",
                                    "3": "30999",
                                    "4": "0.321"
                                },
                                {
                                    "0": "64723",
                                    "1": "Cherry Grove Beach",
                                    "2": "678",
                                    "3": "25558",
                                    "4": "0.297"
                                },
                                {
                                    "0": "92524",
                                    "1": "Sinclair",
                                    "2": "671",
                                    "3": "26557",
                                    "4": "0.294"
                                },
                                {
                                    "0": "81238",
                                    "1": "East Fultonham",
                                    "2": "633",
                                    "3": "21754",
                                    "4": "0.277"
                                },
                                {
                                    "0": "82686",
                                    "1": "Teutopolis",
                                    "2": "631",
                                    "3": "23120",
                                    "4": "0.276"
                                },
                                {
                                    "0": "81012",
                                    "1": "Rockwall",
                                    "2": "544",
                                    "3": "21338",
                                    "4": "0.238"
                                },
                                {
                                    "0": "67264",
                                    "1": "La Bolt",
                                    "2": "451",
                                    "3": "17139",
                                    "4": "0.198"
                                },
                                {
                                    "0": "49531",
                                    "1": "Tolna",
                                    "2": "443",
                                    "3": "16240",
                                    "4": "0.194"
                                },
                                {
                                    "0": "53088",
                                    "1": "North Crows Nest",
                                    "2": "443",
                                    "3": "17684",
                                    "4": "0.194"
                                },
                                {
                                    "0": "68739",
                                    "1": "Tschetter Colony",
                                    "2": "436",
                                    "3": "16929",
                                    "4": "0.191"
                                },
                                {
                                    "0": "68127",
                                    "1": "Mashulaville",
                                    "2": "435",
                                    "3": "15681",
                                    "4": "0.191"
                                },
                                {
                                    "0": "57487",
                                    "1": "Gresston",
                                    "2": "434",
                                    "3": "17199",
                                    "4": "0.190"
                                },
                                {
                                    "0": "65245",
                                    "1": "Lesslie",
                                    "2": "428",
                                    "3": "16480",
                                    "4": "0.188"
                                },
                                {
                                    "0": "47479",
                                    "1": "Minidoka",
                                    "2": "419",
                                    "3": "15857",
                                    "4": "0.184"
                                },
                                {
                                    "0": "70282",
                                    "1": "Federalsburg",
                                    "2": "418",
                                    "3": "16503",
                                    "4": "0.183"
                                },
                                {
                                    "0": "40704",
                                    "1": "Kapa'a",
                                    "2": "416",
                                    "3": "15293",
                                    "4": "0.182"
                                },
                                {
                                    "0": "49497",
                                    "1": "Sentinel Butte",
                                    "2": "415",
                                    "3": "18050",
                                    "4": "0.182"
                                },
                                {
                                    "0": "69332",
                                    "1": "Elbing",
                                    "2": "414",
                                    "3": "16464",
                                    "4": "0.181"
                                },
                                {
                                    "0": "50969",
                                    "1": "Sea Island",
                                    "2": "413",
                                    "3": "16699",
                                    "4": "0.181"
                                },
                                {
                                    "0": "75467",
                                    "1": "Frankewing",
                                    "2": "412",
                                    "3": "14821",
                                    "4": "0.180"
                                },
                                {
                                    "0": "47471",
                                    "1": "McCammon",
                                    "2": "410",
                                    "3": "13694",
                                    "4": "0.180"
                                },
                                {
                                    "0": "72743",
                                    "1": "Haycock",
                                    "2": "406",
                                    "3": "14640",
                                    "4": "0.178"
                                },
                                {
                                    "0": "51006",
                                    "1": "Statenville",
                                    "2": "405",
                                    "3": "14454",
                                    "4": "0.177"
                                },
                                {
                                    "0": "52657",
                                    "1": "Mickleton",
                                    "2": "404",
                                    "3": "16005",
                                    "4": "0.177"
                                },
                                {
                                    "0": "66127",
                                    "1": "Salt Wells",
                                    "2": "403",
                                    "3": "17223",
                                    "4": "0.177"
                                },
                                {
                                    "0": "61717",
                                    "1": "Rich Creek",
                                    "2": "403",
                                    "3": "16102",
                                    "4": "0.177"
                                },
                                {
                                    "0": "54129",
                                    "1": "Switz City",
                                    "2": "402",
                                    "3": "16553",
                                    "4": "0.176"
                                },
                                {
                                    "0": "69386",
                                    "1": "Furley",
                                    "2": "402",
                                    "3": "17765",
                                    "4": "0.176"
                                },
                                {
                                    "0": "49036",
                                    "1": "Omer",
                                    "2": "401",
                                    "3": "15592",
                                    "4": "0.176"
                                },
                                {
                                    "0": "70923",
                                    "1": "Page City",
                                    "2": "399",
                                    "3": "16449",
                                    "4": "0.175"
                                },
                                {
                                    "0": "44986",
                                    "1": "Good Hart",
                                    "2": "399",
                                    "3": "15547",
                                    "4": "0.175"
                                },
                                {
                                    "0": "62396",
                                    "1": "Plum Branch",
                                    "2": "398",
                                    "3": "16138",
                                    "4": "0.174"
                                },
                                {
                                    "0": "52637",
                                    "1": "Maple Shade",
                                    "2": "396",
                                    "3": "16199",
                                    "4": "0.173"
                                },
                                {
                                    "0": "54587",
                                    "1": "Victory Gardens",
                                    "2": "395",
                                    "3": "15200",
                                    "4": "0.173"
                                },
                                {
                                    "0": "52627",
                                    "1": "Madison Park",
                                    "2": "395",
                                    "3": "14487",
                                    "4": "0.173"
                                },
                                {
                                    "0": "52639",
                                    "1": "Marcella",
                                    "2": "392",
                                    "3": "16084",
                                    "4": "0.172"
                                },
                                {
                                    "0": "67402",
                                    "1": "Long Meadow",
                                    "2": "392",
                                    "3": "15635",
                                    "4": "0.172"
                                },
                                {
                                    "0": "48147",
                                    "1": "Oologah",
                                    "2": "391",
                                    "3": "14228",
                                    "4": "0.171"
                                },
                                {
                                    "0": "72803",
                                    "1": "Kwethluk",
                                    "2": "390",
                                    "3": "15689",
                                    "4": "0.171"
                                },
                                {
                                    "0": "53016",
                                    "1": "Mier",
                                    "2": "390",
                                    "3": "15480",
                                    "4": "0.171"
                                },
                                {
                                    "0": "56047",
                                    "1": "Grabill",
                                    "2": "389",
                                    "3": "17148",
                                    "4": "0.170"
                                },
                                {
                                    "0": "47499",
                                    "1": "New Plymouth",
                                    "2": "389",
                                    "3": "15797",
                                    "4": "0.170"
                                },
                                {
                                    "0": "69191",
                                    "1": "Bonner Springs",
                                    "2": "387",
                                    "3": "14178",
                                    "4": "0.170"
                                },
                                {
                                    "0": "52715",
                                    "1": "North Beach Haven",
                                    "2": "386",
                                    "3": "15599",
                                    "4": "0.169"
                                },
                                {
                                    "0": "49568",
                                    "1": "Wimbledon",
                                    "2": "385",
                                    "3": "14561",
                                    "4": "0.169"
                                },
                                {
                                    "0": "52743",
                                    "1": "Ortley Beach",
                                    "2": "384",
                                    "3": "14444",
                                    "4": "0.168"
                                },
                                {
                                    "0": "51708",
                                    "1": "Argusville",
                                    "2": "382",
                                    "3": "16674",
                                    "4": "0.167"
                                },
                                {
                                    "0": "67578",
                                    "1": "Severna Park",
                                    "2": "382",
                                    "3": "15147",
                                    "4": "0.167"
                                },
                                {
                                    "0": "83631",
                                    "1": "Bourneville",
                                    "2": "382",
                                    "3": "16100",
                                    "4": "0.167"
                                },
                                {
                                    "0": "62508",
                                    "1": "Ware Shoals",
                                    "2": "380",
                                    "3": "16457",
                                    "4": "0.166"
                                },
                                {
                                    "0": "47424",
                                    "1": "Idaho City",
                                    "2": "380",
                                    "3": "15142",
                                    "4": "0.166"
                                },
                                {
                                    "0": "44724",
                                    "1": "Bethel Acres",
                                    "2": "380",
                                    "3": "14976",
                                    "4": "0.166"
                                },
                                {
                                    "0": "47459",
                                    "1": "Lost River",
                                    "2": "379",
                                    "3": "14245",
                                    "4": "0.166"
                                },
                                {
                                    "0": "81839",
                                    "1": "Isabela",
                                    "2": "378",
                                    "3": "14482",
                                    "4": "0.166"
                                },
                                {
                                    "0": "90614",
                                    "1": "Jamison",
                                    "2": "377",
                                    "3": "15800",
                                    "4": "0.165"
                                },
                                {
                                    "0": "77866",
                                    "1": "Bernstein",
                                    "2": "376",
                                    "3": "14851",
                                    "4": "0.165"
                                },
                                {
                                    "0": "69884",
                                    "1": "Kalvesta",
                                    "2": "376",
                                    "3": "15950",
                                    "4": "0.165"
                                },
                                {
                                    "0": "67391",
                                    "1": "Liberty Grove",
                                    "2": "376",
                                    "3": "13730",
                                    "4": "0.165"
                                },
                                {
                                    "0": "64693",
                                    "1": "Boyden Arbor",
                                    "2": "375",
                                    "3": "14238",
                                    "4": "0.164"
                                },
                                {
                                    "0": "44901",
                                    "1": "Drumright",
                                    "2": "374",
                                    "3": "14566",
                                    "4": "0.164"
                                },
                                {
                                    "0": "66011",
                                    "1": "Caselton",
                                    "2": "374",
                                    "3": "15274",
                                    "4": "0.164"
                                },
                                {
                                    "0": "67557",
                                    "1": "Ruthsburg",
                                    "2": "373",
                                    "3": "13062",
                                    "4": "0.163"
                                },
                                {
                                    "0": "69264",
                                    "1": "Coffeyville",
                                    "2": "373",
                                    "3": "15839",
                                    "4": "0.163"
                                },
                                {
                                    "0": "69424",
                                    "1": "Tolchester Beach",
                                    "2": "372",
                                    "3": "16363",
                                    "4": "0.163"
                                },
                                {
                                    "0": "55744",
                                    "1": "Haddon Heights",
                                    "2": "371",
                                    "3": "15293",
                                    "4": "0.163"
                                },
                                {
                                    "0": "84488",
                                    "1": "Bourbonnais",
                                    "2": "371",
                                    "3": "13817",
                                    "4": "0.163"
                                },
                                {
                                    "0": "66109",
                                    "1": "Panaca",
                                    "2": "371",
                                    "3": "12236",
                                    "4": "0.163"
                                },
                                {
                                    "0": "47470",
                                    "1": "McCall",
                                    "2": "370",
                                    "3": "15451",
                                    "4": "0.162"
                                },
                                {
                                    "0": "57489",
                                    "1": "Griswoldville",
                                    "2": "370",
                                    "3": "13565",
                                    "4": "0.162"
                                },
                                {
                                    "0": "67174",
                                    "1": "Ferney",
                                    "2": "368",
                                    "3": "12651",
                                    "4": "0.161"
                                },
                                {
                                    "0": "54069",
                                    "1": "Schererville",
                                    "2": "368",
                                    "3": "15645",
                                    "4": "0.161"
                                },
                                {
                                    "0": "44806",
                                    "1": "Catesby",
                                    "2": "368",
                                    "3": "13917",
                                    "4": "0.161"
                                },
                                {
                                    "0": "76097",
                                    "1": "Maypearl",
                                    "2": "368",
                                    "3": "15343",
                                    "4": "0.161"
                                },
                                {
                                    "0": "59913",
                                    "1": "Accomac",
                                    "2": "368",
                                    "3": "16472",
                                    "4": "0.161"
                                },
                                {
                                    "0": "81400",
                                    "1": "Haydenville",
                                    "2": "368",
                                    "3": "14040",
                                    "4": "0.161"
                                },
                                {
                                    "0": "67099",
                                    "1": "Capa",
                                    "2": "367",
                                    "3": "13654",
                                    "4": "0.161"
                                },
                                {
                                    "0": "55567",
                                    "1": "Branchburg Park",
                                    "2": "367",
                                    "3": "14044",
                                    "4": "0.161"
                                },
                                {
                                    "0": "61901",
                                    "1": "Wyndham",
                                    "2": "366",
                                    "3": "12530",
                                    "4": "0.160"
                                },
                                {
                                    "0": "90858",
                                    "1": "New Baden",
                                    "2": "365",
                                    "3": "14274",
                                    "4": "0.160"
                                },
                                {
                                    "0": "52553",
                                    "1": "Imlaystown",
                                    "2": "364",
                                    "3": "15339",
                                    "4": "0.159"
                                },
                                {
                                    "0": "66579",
                                    "1": "Deeson",
                                    "2": "363",
                                    "3": "14443",
                                    "4": "0.159"
                                },
                                {
                                    "0": "51929",
                                    "1": "Jessie",
                                    "2": "363",
                                    "3": "14266",
                                    "4": "0.159"
                                },
                                {
                                    "0": "62442",
                                    "1": "Sans Souci",
                                    "2": "362",
                                    "3": "13099",
                                    "4": "0.159"
                                },
                                {
                                    "0": "38704",
                                    "1": "Watonga",
                                    "2": "361",
                                    "3": "13308",
                                    "4": "0.158"
                                },
                                {
                                    "0": "71029",
                                    "1": "Sallyards",
                                    "2": "361",
                                    "3": "15213",
                                    "4": "0.158"
                                },
                                {
                                    "0": "45064",
                                    "1": "Huntington Woods",
                                    "2": "360",
                                    "3": "14434",
                                    "4": "0.158"
                                },
                                {
                                    "0": "50845",
                                    "1": "Orchard Hill",
                                    "2": "360",
                                    "3": "14906",
                                    "4": "0.158"
                                },
                                {
                                    "0": "82121",
                                    "1": "Dorchester",
                                    "2": "359",
                                    "3": "14482",
                                    "4": "0.157"
                                },
                                {
                                    "0": "65272",
                                    "1": "Mauldin",
                                    "2": "359",
                                    "3": "14227",
                                    "4": "0.157"
                                },
                                {
                                    "0": "52862",
                                    "1": "Hollandsburg",
                                    "2": "359",
                                    "3": "13684",
                                    "4": "0.157"
                                },
                                {
                                    "0": "54379",
                                    "1": "Coosa",
                                    "2": "359",
                                    "3": "13853",
                                    "4": "0.157"
                                },
                                {
                                    "0": "54596",
                                    "1": "Wanaque",
                                    "2": "359",
                                    "3": "15190",
                                    "4": "0.157"
                                },
                                {
                                    "0": "52630",
                                    "1": "Manahawkin",
                                    "2": "358",
                                    "3": "13973",
                                    "4": "0.157"
                                },
                                {
                                    "0": "44781",
                                    "1": "Cache",
                                    "2": "358",
                                    "3": "14810",
                                    "4": "0.157"
                                },
                                {
                                    "0": "38318",
                                    "1": "Brown City",
                                    "2": "357",
                                    "3": "16069",
                                    "4": "0.156"
                                },
                                {
                                    "0": "57493",
                                    "1": "Gum Branch",
                                    "2": "356",
                                    "3": "14122",
                                    "4": "0.156"
                                },
                                {
                                    "0": "86057",
                                    "1": "Lucasville",
                                    "2": "356",
                                    "3": "14209",
                                    "4": "0.156"
                                },
                                {
                                    "0": "80089",
                                    "1": "Johnetta",
                                    "2": "356",
                                    "3": "12297",
                                    "4": "0.156"
                                },
                                {
                                    "0": "77532",
                                    "1": "Indian Creek",
                                    "2": "356",
                                    "3": "13722",
                                    "4": "0.156"
                                },
                                {
                                    "0": "81632",
                                    "1": "Esopus",
                                    "2": "355",
                                    "3": "13066",
                                    "4": "0.156"
                                },
                                {
                                    "0": "57498",
                                    "1": "Hahira",
                                    "2": "355",
                                    "3": "11122",
                                    "4": "0.156"
                                },
                                {
                                    "0": "38468",
                                    "1": "Ewen",
                                    "2": "355",
                                    "3": "12733",
                                    "4": "0.156"
                                },
                                {
                                    "0": "67032",
                                    "1": "Alcester",
                                    "2": "355",
                                    "3": "12802",
                                    "4": "0.156"
                                },
                                {
                                    "0": "56014",
                                    "1": "Fortville",
                                    "2": "355",
                                    "3": "13091",
                                    "4": "0.156"
                                },
                                {
                                    "0": "44701",
                                    "1": "Asher",
                                    "2": "354",
                                    "3": "14661",
                                    "4": "0.155"
                                },
                                {
                                    "0": "52916",
                                    "1": "La Paz",
                                    "2": "354",
                                    "3": "13798",
                                    "4": "0.155"
                                },
                                {
                                    "0": "66573",
                                    "1": "Darling",
                                    "2": "353",
                                    "3": "13688",
                                    "4": "0.155"
                                },
                                {
                                    "0": "77447",
                                    "1": "Hanaford",
                                    "2": "353",
                                    "3": "12552",
                                    "4": "0.155"
                                },
                                {
                                    "0": "54571",
                                    "1": "Towaco",
                                    "2": "352",
                                    "3": "13701",
                                    "4": "0.154"
                                },
                                {
                                    "0": "49062",
                                    "1": "Paw Paw Lake",
                                    "2": "350",
                                    "3": "13273",
                                    "4": "0.153"
                                },
                                {
                                    "0": "80875",
                                    "1": "Pharr",
                                    "2": "350",
                                    "3": "13185",
                                    "4": "0.153"
                                },
                                {
                                    "0": "68728",
                                    "1": "Tea",
                                    "2": "350",
                                    "3": "13704",
                                    "4": "0.153"
                                },
                                {
                                    "0": "51652",
                                    "1": "Waycross",
                                    "2": "348",
                                    "3": "14729",
                                    "4": "0.152"
                                },
                                {
                                    "0": "72782",
                                    "1": "King Cove",
                                    "2": "348",
                                    "3": "12793",
                                    "4": "0.152"
                                },
                                {
                                    "0": "86429",
                                    "1": "Lake Erie Beach",
                                    "2": "347",
                                    "3": "14080",
                                    "4": "0.152"
                                },
                                {
                                    "0": "38744",
                                    "1": "Yewed",
                                    "2": "346",
                                    "3": "13226",
                                    "4": "0.152"
                                },
                                {
                                    "0": "52702",
                                    "1": "Netcong",
                                    "2": "346",
                                    "3": "14371",
                                    "4": "0.152"
                                },
                                {
                                    "0": "81902",
                                    "1": "Palmas del Mar",
                                    "2": "345",
                                    "3": "14144",
                                    "4": "0.151"
                                },
                                {
                                    "0": "65187",
                                    "1": "Hardeeville",
                                    "2": "345",
                                    "3": "13060",
                                    "4": "0.151"
                                },
                                {
                                    "0": "75450",
                                    "1": "Fairfield Glade",
                                    "2": "345",
                                    "3": "13835",
                                    "4": "0.151"
                                },
                                {
                                    "0": "63483",
                                    "1": "Oakpark",
                                    "2": "345",
                                    "3": "14715",
                                    "4": "0.151"
                                },
                                {
                                    "0": "66094",
                                    "1": "Mount Montgomery",
                                    "2": "344",
                                    "3": "12970",
                                    "4": "0.151"
                                },
                                {
                                    "0": "70113",
                                    "1": "Bowleys Quarters",
                                    "2": "343",
                                    "3": "12934",
                                    "4": "0.150"
                                },
                                {
                                    "0": "52871",
                                    "1": "Huntingburg",
                                    "2": "343",
                                    "3": "13620",
                                    "4": "0.150"
                                },
                                {
                                    "0": "61710",
                                    "1": "Raven",
                                    "2": "343",
                                    "3": "12185",
                                    "4": "0.150"
                                },
                                {
                                    "0": "78006",
                                    "1": "North Eaton",
                                    "2": "342",
                                    "3": "13283",
                                    "4": "0.150"
                                },
                                {
                                    "0": "92132",
                                    "1": "Roe Park",
                                    "2": "341",
                                    "3": "14326",
                                    "4": "0.149"
                                },
                                {
                                    "0": "63386",
                                    "1": "Mappsburg",
                                    "2": "341",
                                    "3": "13912",
                                    "4": "0.149"
                                },
                                {
                                    "0": "61793",
                                    "1": "Stanardsville",
                                    "2": "341",
                                    "3": "11945",
                                    "4": "0.149"
                                },
                                {
                                    "0": "44751",
                                    "1": "Boynton",
                                    "2": "341",
                                    "3": "13462",
                                    "4": "0.149"
                                },
                                {
                                    "0": "72760",
                                    "1": "Ikatan",
                                    "2": "340",
                                    "3": "13843",
                                    "4": "0.149"
                                },
                                {
                                    "0": "80769",
                                    "1": "Oak Point",
                                    "2": "340",
                                    "3": "13841",
                                    "4": "0.149"
                                },
                                {
                                    "0": "90622",
                                    "1": "Jolley",
                                    "2": "339",
                                    "3": "12085",
                                    "4": "0.149"
                                },
                                {
                                    "0": "77852",
                                    "1": "Ben Arnold",
                                    "2": "338",
                                    "3": "13150",
                                    "4": "0.148"
                                },
                                {
                                    "0": "54121",
                                    "1": "Straughn",
                                    "2": "338",
                                    "3": "15727",
                                    "4": "0.148"
                                },
                                {
                                    "0": "78038",
                                    "1": "Obetz",
                                    "2": "337",
                                    "3": "13381",
                                    "4": "0.148"
                                },
                                {
                                    "0": "69283",
                                    "1": "Coyville",
                                    "2": "337",
                                    "3": "11650",
                                    "4": "0.148"
                                },
                                {
                                    "0": "90570",
                                    "1": "Hedrick",
                                    "2": "336",
                                    "3": "12229",
                                    "4": "0.147"
                                },
                                {
                                    "0": "38288",
                                    "1": "Berville",
                                    "2": "336",
                                    "3": "11965",
                                    "4": "0.147"
                                },
                                {
                                    "0": "85604",
                                    "1": "West Elkton",
                                    "2": "336",
                                    "3": "11694",
                                    "4": "0.147"
                                },
                                {
                                    "0": "41699",
                                    "1": "Mineral Hills",
                                    "2": "336",
                                    "3": "15334",
                                    "4": "0.147"
                                },
                                {
                                    "0": "72709",
                                    "1": "Ekwok",
                                    "2": "335",
                                    "3": "11574",
                                    "4": "0.147"
                                },
                                {
                                    "0": "51875",
                                    "1": "Glen Ullin",
                                    "2": "335",
                                    "3": "13429",
                                    "4": "0.147"
                                },
                                {
                                    "0": "72808",
                                    "1": "Lemeta",
                                    "2": "334",
                                    "3": "11864",
                                    "4": "0.146"
                                },
                                {
                                    "0": "77321",
                                    "1": "Coin",
                                    "2": "334",
                                    "3": "12918",
                                    "4": "0.146"
                                },
                                {
                                    "0": "85890",
                                    "1": "Van Alstyne",
                                    "2": "334",
                                    "3": "13118",
                                    "4": "0.146"
                                },
                                {
                                    "0": "83832",
                                    "1": "Arietta",
                                    "2": "333",
                                    "3": "13183",
                                    "4": "0.146"
                                },
                                {
                                    "0": "80310",
                                    "1": "Wappingers Falls",
                                    "2": "333",
                                    "3": "12431",
                                    "4": "0.146"
                                },
                                {
                                    "0": "76486",
                                    "1": "Tolono",
                                    "2": "333",
                                    "3": "14285",
                                    "4": "0.146"
                                },
                                {
                                    "0": "93367",
                                    "1": "Elkatawa",
                                    "2": "332",
                                    "3": "13558",
                                    "4": "0.145"
                                },
                                {
                                    "0": "52592",
                                    "1": "Laurence Harbor",
                                    "2": "332",
                                    "3": "12192",
                                    "4": "0.145"
                                },
                                {
                                    "0": "64685",
                                    "1": "Blackville",
                                    "2": "332",
                                    "3": "13303",
                                    "4": "0.145"
                                },
                                {
                                    "0": "62500",
                                    "1": "Verdery",
                                    "2": "332",
                                    "3": "12948",
                                    "4": "0.145"
                                },
                                {
                                    "0": "55733",
                                    "1": "Golf View",
                                    "2": "332",
                                    "3": "13841",
                                    "4": "0.145"
                                },
                                {
                                    "0": "82266",
                                    "1": "Flowella",
                                    "2": "330",
                                    "3": "12232",
                                    "4": "0.145"
                                },
                                {
                                    "0": "81598",
                                    "1": "Eastchester",
                                    "2": "330",
                                    "3": "11709",
                                    "4": "0.145"
                                },
                                {
                                    "0": "68806",
                                    "1": "Wounded Knee",
                                    "2": "329",
                                    "3": "13530",
                                    "4": "0.144"
                                },
                                {
                                    "0": "92554",
                                    "1": "Wapiti",
                                    "2": "329",
                                    "3": "12425",
                                    "4": "0.144"
                                },
                                {
                                    "0": "80752",
                                    "1": "North Cowden",
                                    "2": "329",
                                    "3": "15869",
                                    "4": "0.144"
                                },
                                {
                                    "0": "57592",
                                    "1": "Leathersville",
                                    "2": "328",
                                    "3": "12151",
                                    "4": "0.144"
                                },
                                {
                                    "0": "62352",
                                    "1": "New Zion",
                                    "2": "327",
                                    "3": "12713",
                                    "4": "0.143"
                                },
                                {
                                    "0": "44851",
                                    "1": "Cookietown",
                                    "2": "326",
                                    "3": "13080",
                                    "4": "0.143"
                                },
                                {
                                    "0": "47692",
                                    "1": "Termo",
                                    "2": "326",
                                    "3": "12999",
                                    "4": "0.143"
                                },
                                {
                                    "0": "74843",
                                    "1": "Obion",
                                    "2": "326",
                                    "3": "13311",
                                    "4": "0.143"
                                },
                                {
                                    "0": "81188",
                                    "1": "Cuyahoga Heights",
                                    "2": "326",
                                    "3": "12565",
                                    "4": "0.143"
                                },
                                {
                                    "0": "91707",
                                    "1": "Coupland",
                                    "2": "326",
                                    "3": "11595",
                                    "4": "0.143"
                                },
                                {
                                    "0": "41628",
                                    "1": "Lexington Heights",
                                    "2": "326",
                                    "3": "12547",
                                    "4": "0.143"
                                },
                                {
                                    "0": "78445",
                                    "1": "North Ridge",
                                    "2": "326",
                                    "3": "12603",
                                    "4": "0.143"
                                },
                                {
                                    "0": "84827",
                                    "1": "Jones Creek",
                                    "2": "325",
                                    "3": "12529",
                                    "4": "0.142"
                                },
                                {
                                    "0": "86380",
                                    "1": "Islip Terrace",
                                    "2": "325",
                                    "3": "14681",
                                    "4": "0.142"
                                },
                                {
                                    "0": "84036",
                                    "1": "Chateaugay",
                                    "2": "324",
                                    "3": "14000",
                                    "4": "0.142"
                                },
                                {
                                    "0": "91757",
                                    "1": "Dawn",
                                    "2": "324",
                                    "3": "12865",
                                    "4": "0.142"
                                },
                                {
                                    "0": "82506",
                                    "1": "Roachtown",
                                    "2": "324",
                                    "3": "12592",
                                    "4": "0.142"
                                },
                                {
                                    "0": "71135",
                                    "1": "Virgil",
                                    "2": "324",
                                    "3": "11933",
                                    "4": "0.142"
                                },
                                {
                                    "0": "93314",
                                    "1": "Creelsboro",
                                    "2": "324",
                                    "3": "12216",
                                    "4": "0.142"
                                },
                                {
                                    "0": "85854",
                                    "1": "Truscott",
                                    "2": "324",
                                    "3": "13452",
                                    "4": "0.142"
                                },
                                {
                                    "0": "76043",
                                    "1": "Lytle",
                                    "2": "324",
                                    "3": "14334",
                                    "4": "0.142"
                                },
                                {
                                    "0": "38583",
                                    "1": "Seiling",
                                    "2": "324",
                                    "3": "12350",
                                    "4": "0.142"
                                },
                                {
                                    "0": "81567",
                                    "1": "Eagle Valley",
                                    "2": "323",
                                    "3": "12721",
                                    "4": "0.142"
                                },
                                {
                                    "0": "44863",
                                    "1": "Cowlington",
                                    "2": "323",
                                    "3": "12610",
                                    "4": "0.142"
                                },
                                {
                                    "0": "87261",
                                    "1": "Topstone",
                                    "2": "322",
                                    "3": "10743",
                                    "4": "0.141"
                                },
                                {
                                    "0": "48988",
                                    "1": "Muir",
                                    "2": "322",
                                    "3": "11751",
                                    "4": "0.141"
                                },
                                {
                                    "0": "68640",
                                    "1": "Philip",
                                    "2": "322",
                                    "3": "12237",
                                    "4": "0.141"
                                },
                                {
                                    "0": "80902",
                                    "1": "Premont",
                                    "2": "322",
                                    "3": "11686",
                                    "4": "0.141"
                                },
                                {
                                    "0": "81497",
                                    "1": "Corfu",
                                    "2": "321",
                                    "3": "13951",
                                    "4": "0.141"
                                },
                                {
                                    "0": "53050",
                                    "1": "Mount Summit",
                                    "2": "321",
                                    "3": "12024",
                                    "4": "0.141"
                                },
                                {
                                    "0": "49373",
                                    "1": "Makoti",
                                    "2": "321",
                                    "3": "12251",
                                    "4": "0.141"
                                },
                                {
                                    "0": "63227",
                                    "1": "Gargatha",
                                    "2": "320",
                                    "3": "13986",
                                    "4": "0.140"
                                },
                                {
                                    "0": "82633",
                                    "1": "Spillertown",
                                    "2": "320",
                                    "3": "13942",
                                    "4": "0.140"
                                },
                                {
                                    "0": "83547",
                                    "1": "Ashtabula",
                                    "2": "320",
                                    "3": "11396",
                                    "4": "0.140"
                                },
                                {
                                    "0": "55498",
                                    "1": "Absecon",
                                    "2": "319",
                                    "3": "12415",
                                    "4": "0.140"
                                },
                                {
                                    "0": "44710",
                                    "1": "Balko",
                                    "2": "319",
                                    "3": "15103",
                                    "4": "0.140"
                                },
                                {
                                    "0": "83907",
                                    "1": "Big Moose",
                                    "2": "319",
                                    "3": "12056",
                                    "4": "0.140"
                                },
                                {
                                    "0": "77822",
                                    "1": "Batson",
                                    "2": "319",
                                    "3": "13841",
                                    "4": "0.140"
                                },
                                {
                                    "0": "64758",
                                    "1": "Dillon",
                                    "2": "318",
                                    "3": "13177",
                                    "4": "0.139"
                                },
                                {
                                    "0": "85463",
                                    "1": "South Euclid",
                                    "2": "318",
                                    "3": "12439",
                                    "4": "0.139"
                                },
                                {
                                    "0": "70234",
                                    "1": "Dickerson",
                                    "2": "318",
                                    "3": "11467",
                                    "4": "0.139"
                                },
                                {
                                    "0": "38343",
                                    "1": "Caro",
                                    "2": "318",
                                    "3": "12684",
                                    "4": "0.139"
                                },
                                {
                                    "0": "80253",
                                    "1": "Trumansburg",
                                    "2": "317",
                                    "3": "12899",
                                    "4": "0.139"
                                },
                                {
                                    "0": "61746",
                                    "1": "Sandy Level",
                                    "2": "317",
                                    "3": "12647",
                                    "4": "0.139"
                                },
                                {
                                    "0": "77410",
                                    "1": "Dunkerton",
                                    "2": "316",
                                    "3": "12634",
                                    "4": "0.138"
                                },
                                {
                                    "0": "81709",
                                    "1": "Gasport",
                                    "2": "316",
                                    "3": "12937",
                                    "4": "0.138"
                                },
                                {
                                    "0": "81738",
                                    "1": "Aceitunas",
                                    "2": "316",
                                    "3": "11713",
                                    "4": "0.138"
                                },
                                {
                                    "0": "69994",
                                    "1": "Medicine Lodge",
                                    "2": "316",
                                    "3": "13571",
                                    "4": "0.138"
                                },
                                {
                                    "0": "84465",
                                    "1": "Birds",
                                    "2": "316",
                                    "3": "11533",
                                    "4": "0.138"
                                },
                                {
                                    "0": "51796",
                                    "1": "Crary",
                                    "2": "315",
                                    "3": "11330",
                                    "4": "0.138"
                                },
                                {
                                    "0": "76309",
                                    "1": "Spillville",
                                    "2": "315",
                                    "3": "12526",
                                    "4": "0.138"
                                },
                                {
                                    "0": "62350",
                                    "1": "Nesmith",
                                    "2": "315",
                                    "3": "13963",
                                    "4": "0.138"
                                },
                                {
                                    "0": "81941",
                                    "1": "Rosa Sánchez",
                                    "2": "314",
                                    "3": "11840",
                                    "4": "0.138"
                                },
                                {
                                    "0": "90241",
                                    "1": "Du Quoin",
                                    "2": "313",
                                    "3": "10986",
                                    "4": "0.137"
                                },
                                {
                                    "0": "83491",
                                    "1": "Port Alto",
                                    "2": "313",
                                    "3": "11577",
                                    "4": "0.137"
                                },
                                {
                                    "0": "72894",
                                    "1": "Port Chilkoot",
                                    "2": "313",
                                    "3": "13757",
                                    "4": "0.137"
                                },
                                {
                                    "0": "85693",
                                    "1": "South La Paloma",
                                    "2": "312",
                                    "3": "13712",
                                    "4": "0.137"
                                },
                                {
                                    "0": "93361",
                                    "1": "Ekron",
                                    "2": "312",
                                    "3": "13610",
                                    "4": "0.137"
                                },
                                {
                                    "0": "76101",
                                    "1": "McCamey",
                                    "2": "312",
                                    "3": "11225",
                                    "4": "0.137"
                                },
                                {
                                    "0": "49413",
                                    "1": "Munich",
                                    "2": "312",
                                    "3": "9587",
                                    "4": "0.137"
                                },
                                {
                                    "0": "83842",
                                    "1": "Athol Springs",
                                    "2": "311",
                                    "3": "12207",
                                    "4": "0.136"
                                },
                                {
                                    "0": "72761",
                                    "1": "Iliamna",
                                    "2": "311",
                                    "3": "12235",
                                    "4": "0.136"
                                },
                                {
                                    "0": "48937",
                                    "1": "Caruthers",
                                    "2": "310",
                                    "3": "12348",
                                    "4": "0.136"
                                },
                                {
                                    "0": "85807",
                                    "1": "The Colony",
                                    "2": "310",
                                    "3": "13345",
                                    "4": "0.136"
                                },
                                {
                                    "0": "71060",
                                    "1": "Sherwin",
                                    "2": "310",
                                    "3": "12395",
                                    "4": "0.136"
                                },
                                {
                                    "0": "48073",
                                    "1": "McQueen",
                                    "2": "310",
                                    "3": "10766",
                                    "4": "0.136"
                                },
                                {
                                    "0": "84656",
                                    "1": "Haltom City",
                                    "2": "308",
                                    "3": "12648",
                                    "4": "0.135"
                                },
                                {
                                    "0": "91748",
                                    "1": "Dallardsville",
                                    "2": "308",
                                    "3": "13478",
                                    "4": "0.135"
                                },
                                {
                                    "0": "86437",
                                    "1": "Lake Ronkonkoma",
                                    "2": "308",
                                    "3": "14171",
                                    "4": "0.135"
                                },
                                {
                                    "0": "75493",
                                    "1": "Greenback",
                                    "2": "308",
                                    "3": "13216",
                                    "4": "0.135"
                                },
                                {
                                    "0": "51780",
                                    "1": "Chaseley",
                                    "2": "307",
                                    "3": "12423",
                                    "4": "0.134"
                                },
                                {
                                    "0": "81384",
                                    "1": "Hanoverton",
                                    "2": "307",
                                    "3": "12563",
                                    "4": "0.134"
                                },
                                {
                                    "0": "76129",
                                    "1": "Mendoza",
                                    "2": "307",
                                    "3": "13334",
                                    "4": "0.134"
                                },
                                {
                                    "0": "81481",
                                    "1": "Conesus Lake",
                                    "2": "306",
                                    "3": "11810",
                                    "4": "0.134"
                                },
                                {
                                    "0": "55710",
                                    "1": "Francis Mills",
                                    "2": "306",
                                    "3": "10892",
                                    "4": "0.134"
                                },
                                {
                                    "0": "82104",
                                    "1": "Dickworsham",
                                    "2": "305",
                                    "3": "12190",
                                    "4": "0.134"
                                },
                                {
                                    "0": "81492",
                                    "1": "Copake",
                                    "2": "305",
                                    "3": "13104",
                                    "4": "0.134"
                                },
                                {
                                    "0": "80788",
                                    "1": "Old River-Winfree",
                                    "2": "304",
                                    "3": "10818",
                                    "4": "0.133"
                                },
                                {
                                    "0": "86471",
                                    "1": "Lime Lake",
                                    "2": "304",
                                    "3": "11484",
                                    "4": "0.133"
                                },
                                {
                                    "0": "90329",
                                    "1": "Flanagan",
                                    "2": "304",
                                    "3": "9934",
                                    "4": "0.133"
                                },
                                {
                                    "0": "48762",
                                    "1": "Arrowbear Lake",
                                    "2": "303",
                                    "3": "12546",
                                    "4": "0.133"
                                },
                                {
                                    "0": "68504",
                                    "1": "Tomnolen",
                                    "2": "303",
                                    "3": "12366",
                                    "4": "0.133"
                                },
                                {
                                    "0": "66646",
                                    "1": "Glancy",
                                    "2": "302",
                                    "3": "13561",
                                    "4": "0.132"
                                },
                                {
                                    "0": "72125",
                                    "1": "Wrangell",
                                    "2": "302",
                                    "3": "11138",
                                    "4": "0.132"
                                },
                                {
                                    "0": "93242",
                                    "1": "Calvert City",
                                    "2": "302",
                                    "3": "9321",
                                    "4": "0.132"
                                },
                                {
                                    "0": "41466",
                                    "1": "Knights Landing",
                                    "2": "302",
                                    "3": "10582",
                                    "4": "0.132"
                                },
                                {
                                    "0": "83884",
                                    "1": "Beekmantown",
                                    "2": "302",
                                    "3": "9779",
                                    "4": "0.132"
                                },
                                {
                                    "0": "44439",
                                    "1": "San Jacinto",
                                    "2": "301",
                                    "3": "10883",
                                    "4": "0.132"
                                },
                                {
                                    "0": "48118",
                                    "1": "Nichols Hills",
                                    "2": "301",
                                    "3": "11119",
                                    "4": "0.132"
                                },
                                {
                                    "0": "80107",
                                    "1": "Knifley",
                                    "2": "301",
                                    "3": "11669",
                                    "4": "0.132"
                                },
                                {
                                    "0": "81342",
                                    "1": "Glenwillow",
                                    "2": "301",
                                    "3": "12632",
                                    "4": "0.132"
                                },
                                {
                                    "0": "41568",
                                    "1": "Lompoc",
                                    "2": "300",
                                    "3": "11192",
                                    "4": "0.131"
                                },
                                {
                                    "0": "79962",
                                    "1": "Frenchburg",
                                    "2": "300",
                                    "3": "11414",
                                    "4": "0.131"
                                },
                                {
                                    "0": "67024",
                                    "1": "Zurich",
                                    "2": "299",
                                    "3": "11989",
                                    "4": "0.131"
                                },
                                {
                                    "0": "80352",
                                    "1": "West Hempstead",
                                    "2": "299",
                                    "3": "11836",
                                    "4": "0.131"
                                },
                                {
                                    "0": "40659",
                                    "1": "Glen Avon",
                                    "2": "299",
                                    "3": "11565",
                                    "4": "0.131"
                                },
                                {
                                    "0": "92521",
                                    "1": "Shell",
                                    "2": "299",
                                    "3": "11245",
                                    "4": "0.131"
                                },
                                {
                                    "0": "81931",
                                    "1": "Rafael Capó",
                                    "2": "299",
                                    "3": "13826",
                                    "4": "0.131"
                                },
                                {
                                    "0": "84735",
                                    "1": "Hollywood Park",
                                    "2": "298",
                                    "3": "11844",
                                    "4": "0.131"
                                },
                                {
                                    "0": "85883",
                                    "1": "Vair",
                                    "2": "298",
                                    "3": "12913",
                                    "4": "0.131"
                                },
                                {
                                    "0": "85575",
                                    "1": "Waite Hill",
                                    "2": "297",
                                    "3": "12551",
                                    "4": "0.130"
                                },
                                {
                                    "0": "78035",
                                    "1": "Oakshade",
                                    "2": "296",
                                    "3": "10810",
                                    "4": "0.130"
                                },
                                {
                                    "0": "78508",
                                    "1": "Palatine Bridge",
                                    "2": "296",
                                    "3": "11208",
                                    "4": "0.130"
                                },
                                {
                                    "0": "81798",
                                    "1": "Corcovado",
                                    "2": "296",
                                    "3": "10667",
                                    "4": "0.130"
                                },
                                {
                                    "0": "90565",
                                    "1": "Hawarden",
                                    "2": "295",
                                    "3": "10143",
                                    "4": "0.129"
                                },
                                {
                                    "0": "90634",
                                    "1": "Keosauqua",
                                    "2": "295",
                                    "3": "12436",
                                    "4": "0.129"
                                },
                                {
                                    "0": "69146",
                                    "1": "Baldwin City",
                                    "2": "295",
                                    "3": "11619",
                                    "4": "0.129"
                                },
                                {
                                    "0": "49016",
                                    "1": "North Manitou",
                                    "2": "294",
                                    "3": "12561",
                                    "4": "0.129"
                                },
                                {
                                    "0": "66176",
                                    "1": "Yerington",
                                    "2": "292",
                                    "3": "12639",
                                    "4": "0.128"
                                },
                                {
                                    "0": "83476",
                                    "1": "Plata",
                                    "2": "291",
                                    "3": "11027",
                                    "4": "0.127"
                                },
                                {
                                    "0": "92226",
                                    "1": "Shenorock",
                                    "2": "291",
                                    "3": "11659",
                                    "4": "0.127"
                                },
                                {
                                    "0": "49017",
                                    "1": "North Muskegon",
                                    "2": "290",
                                    "3": "11948",
                                    "4": "0.127"
                                },
                                {
                                    "0": "48778",
                                    "1": "Avenal",
                                    "2": "289",
                                    "3": "10842",
                                    "4": "0.127"
                                },
                                {
                                    "0": "90443",
                                    "1": "Ewart",
                                    "2": "289",
                                    "3": "11386",
                                    "4": "0.127"
                                },
                                {
                                    "0": "77975",
                                    "1": "Buchanan Lake Village",
                                    "2": "289",
                                    "3": "9946",
                                    "4": "0.127"
                                },
                                {
                                    "0": "92526",
                                    "1": "Smoot",
                                    "2": "289",
                                    "3": "13405",
                                    "4": "0.127"
                                },
                                {
                                    "0": "82152",
                                    "1": "East Mountain",
                                    "2": "289",
                                    "3": "11170",
                                    "4": "0.127"
                                },
                                {
                                    "0": "86228",
                                    "1": "New Lexington",
                                    "2": "289",
                                    "3": "11661",
                                    "4": "0.127"
                                },
                                {
                                    "0": "76069",
                                    "1": "Marfa",
                                    "2": "288",
                                    "3": "11344",
                                    "4": "0.126"
                                },
                                {
                                    "0": "90580",
                                    "1": "Hiteman",
                                    "2": "288",
                                    "3": "10578",
                                    "4": "0.126"
                                },
                                {
                                    "0": "87114",
                                    "1": "Cos Cob",
                                    "2": "288",
                                    "3": "12415",
                                    "4": "0.126"
                                },
                                {
                                    "0": "48851",
                                    "1": "Bombay Beach",
                                    "2": "287",
                                    "3": "12150",
                                    "4": "0.126"
                                },
                                {
                                    "0": "86054",
                                    "1": "Lowellville",
                                    "2": "286",
                                    "3": "11532",
                                    "4": "0.125"
                                },
                                {
                                    "0": "92478",
                                    "1": "Orpha",
                                    "2": "285",
                                    "3": "11139",
                                    "4": "0.125"
                                },
                                {
                                    "0": "84775",
                                    "1": "Impact",
                                    "2": "284",
                                    "3": "11282",
                                    "4": "0.124"
                                },
                                {
                                    "0": "87288",
                                    "1": "Windsor Locks",
                                    "2": "282",
                                    "3": "10233",
                                    "4": "0.124"
                                },
                                {
                                    "0": "92188",
                                    "1": "Sauquoit",
                                    "2": "282",
                                    "3": "12705",
                                    "4": "0.124"
                                },
                                {
                                    "0": "83640",
                                    "1": "Bratenahl",
                                    "2": "281",
                                    "3": "10655",
                                    "4": "0.123"
                                },
                                {
                                    "0": "86258",
                                    "1": "Greig",
                                    "2": "281",
                                    "3": "10395",
                                    "4": "0.123"
                                },
                                {
                                    "0": "75938",
                                    "1": "Lavon",
                                    "2": "281",
                                    "3": "11961",
                                    "4": "0.123"
                                },
                                {
                                    "0": "84011",
                                    "1": "Caton",
                                    "2": "280",
                                    "3": "10787",
                                    "4": "0.123"
                                },
                                {
                                    "0": "40600",
                                    "1": "Fieldbrook",
                                    "2": "280",
                                    "3": "11239",
                                    "4": "0.123"
                                },
                                {
                                    "0": "79969",
                                    "1": "Garlin",
                                    "2": "279",
                                    "3": "11410",
                                    "4": "0.122"
                                },
                                {
                                    "0": "84694",
                                    "1": "Helotes",
                                    "2": "279",
                                    "3": "10951",
                                    "4": "0.122"
                                },
                                {
                                    "0": "99979",
                                    "1": "Vassalboro",
                                    "2": "279",
                                    "3": "11317",
                                    "4": "0.122"
                                },
                                {
                                    "0": "82178",
                                    "1": "El Refugio",
                                    "2": "278",
                                    "3": "8150",
                                    "4": "0.122"
                                },
                                {
                                    "0": "41497",
                                    "1": "Lake Davis",
                                    "2": "278",
                                    "3": "11999",
                                    "4": "0.122"
                                },
                                {
                                    "0": "81726",
                                    "1": "Glen Park",
                                    "2": "277",
                                    "3": "10173",
                                    "4": "0.121"
                                },
                                {
                                    "0": "90948",
                                    "1": "Otterville",
                                    "2": "276",
                                    "3": "9848",
                                    "4": "0.121"
                                },
                                {
                                    "0": "81483",
                                    "1": "Conewango",
                                    "2": "275",
                                    "3": "10980",
                                    "4": "0.120"
                                },
                                {
                                    "0": "95693",
                                    "1": "Vidrine",
                                    "2": "275",
                                    "3": "11844",
                                    "4": "0.120"
                                },
                                {
                                    "0": "41500",
                                    "1": "Lake Hughes",
                                    "2": "274",
                                    "3": "9417",
                                    "4": "0.120"
                                },
                                {
                                    "0": "77092",
                                    "1": "Wasco",
                                    "2": "273",
                                    "3": "10564",
                                    "4": "0.120"
                                },
                                {
                                    "0": "47644",
                                    "1": "Stallion Springs",
                                    "2": "273",
                                    "3": "10073",
                                    "4": "0.120"
                                },
                                {
                                    "0": "81132",
                                    "1": "Seagraves",
                                    "2": "273",
                                    "3": "10577",
                                    "4": "0.120"
                                },
                                {
                                    "0": "41398",
                                    "1": "Idria",
                                    "2": "273",
                                    "3": "10991",
                                    "4": "0.120"
                                },
                                {
                                    "0": "76858",
                                    "1": "Segundo",
                                    "2": "272",
                                    "3": "11050",
                                    "4": "0.119"
                                },
                                {
                                    "0": "47921",
                                    "1": "Hanna",
                                    "2": "272",
                                    "3": "10405",
                                    "4": "0.119"
                                },
                                {
                                    "0": "85957",
                                    "1": "Jeromesville",
                                    "2": "272",
                                    "3": "10399",
                                    "4": "0.119"
                                },
                                {
                                    "0": "77296",
                                    "1": "Cherokee",
                                    "2": "271",
                                    "3": "9728",
                                    "4": "0.119"
                                },
                                {
                                    "0": "81783",
                                    "1": "Cataño",
                                    "2": "271",
                                    "3": "11301",
                                    "4": "0.119"
                                },
                                {
                                    "0": "103228",
                                    "1": "Mary Esther",
                                    "2": "269",
                                    "3": "11707",
                                    "4": "0.118"
                                },
                                {
                                    "0": "80809",
                                    "1": "Ovilla",
                                    "2": "268",
                                    "3": "10425",
                                    "4": "0.117"
                                },
                                {
                                    "0": "75393",
                                    "1": "Corryton",
                                    "2": "268",
                                    "3": "9940",
                                    "4": "0.117"
                                },
                                {
                                    "0": "72646",
                                    "1": "Biorka",
                                    "2": "268",
                                    "3": "11006",
                                    "4": "0.117"
                                },
                                {
                                    "0": "92197",
                                    "1": "Schoharie",
                                    "2": "268",
                                    "3": "11198",
                                    "4": "0.117"
                                },
                                {
                                    "0": "84888",
                                    "1": "Kopperl",
                                    "2": "268",
                                    "3": "10946",
                                    "4": "0.117"
                                },
                                {
                                    "0": "85877",
                                    "1": "Universal City",
                                    "2": "268",
                                    "3": "10963",
                                    "4": "0.117"
                                },
                                {
                                    "0": "48763",
                                    "1": "Arrowhead Highlands",
                                    "2": "267",
                                    "3": "10568",
                                    "4": "0.117"
                                },
                                {
                                    "0": "47757",
                                    "1": "Valley View Park",
                                    "2": "266",
                                    "3": "10573",
                                    "4": "0.117"
                                },
                                {
                                    "0": "103153",
                                    "1": "Lake Clarke Shores",
                                    "2": "265",
                                    "3": "7834",
                                    "4": "0.116"
                                },
                                {
                                    "0": "90400",
                                    "1": "Goodings Grove",
                                    "2": "265",
                                    "3": "10584",
                                    "4": "0.116"
                                },
                                {
                                    "0": "44370",
                                    "1": "Ridgemark",
                                    "2": "264",
                                    "3": "8609",
                                    "4": "0.116"
                                },
                                {
                                    "0": "55847",
                                    "1": "Brookville",
                                    "2": "264",
                                    "3": "11669",
                                    "4": "0.116"
                                },
                                {
                                    "0": "41358",
                                    "1": "Herlong",
                                    "2": "262",
                                    "3": "11442",
                                    "4": "0.115"
                                },
                                {
                                    "0": "47741",
                                    "1": "Twin Peaks",
                                    "2": "262",
                                    "3": "10692",
                                    "4": "0.115"
                                },
                                {
                                    "0": "101008",
                                    "1": "Tierra Verde",
                                    "2": "262",
                                    "3": "9207",
                                    "4": "0.115"
                                },
                                {
                                    "0": "96249",
                                    "1": "Claycomo",
                                    "2": "262",
                                    "3": "10089",
                                    "4": "0.115"
                                },
                                {
                                    "0": "98706",
                                    "1": "Grider",
                                    "2": "261",
                                    "3": "10918",
                                    "4": "0.114"
                                },
                                {
                                    "0": "97989",
                                    "1": "Peeples Valley",
                                    "2": "260",
                                    "3": "10265",
                                    "4": "0.114"
                                },
                                {
                                    "0": "80662",
                                    "1": "Morita",
                                    "2": "258",
                                    "3": "10538",
                                    "4": "0.113"
                                },
                                {
                                    "0": "86243",
                                    "1": "Great Neck Estates",
                                    "2": "258",
                                    "3": "10192",
                                    "4": "0.113"
                                },
                                {
                                    "0": "101061",
                                    "1": "West Frostproof",
                                    "2": "258",
                                    "3": "11057",
                                    "4": "0.113"
                                },
                                {
                                    "0": "82394",
                                    "1": "Richland",
                                    "2": "257",
                                    "3": "9986",
                                    "4": "0.113"
                                },
                                {
                                    "0": "83304",
                                    "1": "Saks",
                                    "2": "257",
                                    "3": "10595",
                                    "4": "0.113"
                                },
                                {
                                    "0": "101670",
                                    "1": "Cramerton",
                                    "2": "256",
                                    "3": "11579",
                                    "4": "0.112"
                                },
                                {
                                    "0": "87906",
                                    "1": "Elk Garden",
                                    "2": "255",
                                    "3": "10244",
                                    "4": "0.112"
                                },
                                {
                                    "0": "91354",
                                    "1": "Sekiu",
                                    "2": "254",
                                    "3": "10636",
                                    "4": "0.111"
                                },
                                {
                                    "0": "46997",
                                    "1": "Lytle Creek",
                                    "2": "253",
                                    "3": "9839",
                                    "4": "0.111"
                                },
                                {
                                    "0": "81837",
                                    "1": "Indios",
                                    "2": "253",
                                    "3": "9484",
                                    "4": "0.111"
                                },
                                {
                                    "0": "97091",
                                    "1": "Inguadona",
                                    "2": "252",
                                    "3": "9202",
                                    "4": "0.110"
                                },
                                {
                                    "0": "86001",
                                    "1": "Lakemore",
                                    "2": "252",
                                    "3": "10085",
                                    "4": "0.110"
                                },
                                {
                                    "0": "98700",
                                    "1": "Greenfield",
                                    "2": "252",
                                    "3": "9770",
                                    "4": "0.110"
                                },
                                {
                                    "0": "105638",
                                    "1": "Harkers Island",
                                    "2": "249",
                                    "3": "9534",
                                    "4": "0.109"
                                },
                                {
                                    "0": "96274",
                                    "1": "Coney Island",
                                    "2": "249",
                                    "3": "9534",
                                    "4": "0.109"
                                },
                                {
                                    "0": "94223",
                                    "1": "Bokeelia",
                                    "2": "247",
                                    "3": "8768",
                                    "4": "0.108"
                                },
                                {
                                    "0": "103353",
                                    "1": "Cale",
                                    "2": "246",
                                    "3": "11030",
                                    "4": "0.108"
                                },
                                {
                                    "0": "80871",
                                    "1": "Petronila",
                                    "2": "246",
                                    "3": "10329",
                                    "4": "0.108"
                                },
                                {
                                    "0": "76778",
                                    "1": "Orchard Mesa",
                                    "2": "246",
                                    "3": "9139",
                                    "4": "0.108"
                                },
                                {
                                    "0": "44333",
                                    "1": "Rail Road Flat",
                                    "2": "246",
                                    "3": "8905",
                                    "4": "0.108"
                                },
                                {
                                    "0": "101493",
                                    "1": "Abbottsburg",
                                    "2": "245",
                                    "3": "11040",
                                    "4": "0.107"
                                },
                                {
                                    "0": "91770",
                                    "1": "Del Valle",
                                    "2": "245",
                                    "3": "8942",
                                    "4": "0.107"
                                },
                                {
                                    "0": "93341",
                                    "1": "Diablock",
                                    "2": "244",
                                    "3": "10280",
                                    "4": "0.107"
                                },
                                {
                                    "0": "47673",
                                    "1": "Taft Heights",
                                    "2": "243",
                                    "3": "8929",
                                    "4": "0.106"
                                },
                                {
                                    "0": "102671",
                                    "1": "New Braintree",
                                    "2": "243",
                                    "3": "10534",
                                    "4": "0.106"
                                },
                                {
                                    "0": "101013",
                                    "1": "Trilby",
                                    "2": "243",
                                    "3": "8245",
                                    "4": "0.106"
                                },
                                {
                                    "0": "98140",
                                    "1": "Walapai",
                                    "2": "242",
                                    "3": "10424",
                                    "4": "0.106"
                                },
                                {
                                    "0": "96636",
                                    "1": "Lisco",
                                    "2": "242",
                                    "3": "10488",
                                    "4": "0.106"
                                },
                                {
                                    "0": "40550",
                                    "1": "El Centro",
                                    "2": "242",
                                    "3": "10699",
                                    "4": "0.106"
                                },
                                {
                                    "0": "102456",
                                    "1": "Cadogan",
                                    "2": "242",
                                    "3": "7994",
                                    "4": "0.106"
                                },
                                {
                                    "0": "95350",
                                    "1": "Lilbourn",
                                    "2": "242",
                                    "3": "8834",
                                    "4": "0.106"
                                },
                                {
                                    "0": "87826",
                                    "1": "Bruceton Mills",
                                    "2": "241",
                                    "3": "8026",
                                    "4": "0.106"
                                },
                                {
                                    "0": "95541",
                                    "1": "Plaquemine",
                                    "2": "241",
                                    "3": "8670",
                                    "4": "0.106"
                                },
                                {
                                    "0": "96703",
                                    "1": "Nehawka",
                                    "2": "241",
                                    "3": "9745",
                                    "4": "0.106"
                                },
                                {
                                    "0": "82995",
                                    "1": "Nitro",
                                    "2": "240",
                                    "3": "8256",
                                    "4": "0.105"
                                },
                                {
                                    "0": "105917",
                                    "1": "Tooele",
                                    "2": "240",
                                    "3": "8624",
                                    "4": "0.105"
                                },
                                {
                                    "0": "95538",
                                    "1": "Yaak",
                                    "2": "240",
                                    "3": "8719",
                                    "4": "0.105"
                                },
                                {
                                    "0": "96872",
                                    "1": "Tamora",
                                    "2": "240",
                                    "3": "9629",
                                    "4": "0.105"
                                },
                                {
                                    "0": "83092",
                                    "1": "Slanesville",
                                    "2": "239",
                                    "3": "10384",
                                    "4": "0.105"
                                },
                                {
                                    "0": "83062",
                                    "1": "Robertsburg",
                                    "2": "239",
                                    "3": "8937",
                                    "4": "0.105"
                                },
                                {
                                    "0": "105458",
                                    "1": "Weigelstown",
                                    "2": "239",
                                    "3": "10470",
                                    "4": "0.105"
                                },
                                {
                                    "0": "105878",
                                    "1": "Scofield",
                                    "2": "239",
                                    "3": "10009",
                                    "4": "0.105"
                                },
                                {
                                    "0": "95791",
                                    "1": "Bayou Cane",
                                    "2": "239",
                                    "3": "8634",
                                    "4": "0.105"
                                },
                                {
                                    "0": "96010",
                                    "1": "Gardere",
                                    "2": "239",
                                    "3": "9469",
                                    "4": "0.105"
                                },
                                {
                                    "0": "97553",
                                    "1": "Sunburg",
                                    "2": "239",
                                    "3": "10079",
                                    "4": "0.105"
                                },
                                {
                                    "0": "106381",
                                    "1": "Chalco",
                                    "2": "238",
                                    "3": "9822",
                                    "4": "0.104"
                                },
                                {
                                    "0": "97472",
                                    "1": "Saint Louis Park",
                                    "2": "238",
                                    "3": "9268",
                                    "4": "0.104"
                                },
                                {
                                    "0": "76865",
                                    "1": "Silver Plume",
                                    "2": "238",
                                    "3": "9687",
                                    "4": "0.104"
                                },
                                {
                                    "0": "87481",
                                    "1": "Harbour Pointe",
                                    "2": "237",
                                    "3": "9937",
                                    "4": "0.104"
                                },
                                {
                                    "0": "91464",
                                    "1": "Venersborg",
                                    "2": "237",
                                    "3": "9513",
                                    "4": "0.104"
                                },
                                {
                                    "0": "103133",
                                    "1": "Key Biscayne",
                                    "2": "236",
                                    "3": "9206",
                                    "4": "0.103"
                                },
                                {
                                    "0": "93348",
                                    "1": "Drakesboro",
                                    "2": "236",
                                    "3": "9353",
                                    "4": "0.103"
                                },
                                {
                                    "0": "105279",
                                    "1": "Bernardston",
                                    "2": "235",
                                    "3": "9776",
                                    "4": "0.103"
                                },
                                {
                                    "0": "79807",
                                    "1": "Cuyamungue",
                                    "2": "235",
                                    "3": "7737",
                                    "4": "0.103"
                                },
                                {
                                    "0": "89618",
                                    "1": "Bergen Park",
                                    "2": "235",
                                    "3": "8879",
                                    "4": "0.103"
                                },
                                {
                                    "0": "78218",
                                    "1": "Scioto Furnace",
                                    "2": "233",
                                    "3": "7672",
                                    "4": "0.102"
                                },
                                {
                                    "0": "94627",
                                    "1": "Sylvanite",
                                    "2": "233",
                                    "3": "9407",
                                    "4": "0.102"
                                },
                                {
                                    "0": "102100",
                                    "1": "Sarversville",
                                    "2": "233",
                                    "3": "8430",
                                    "4": "0.102"
                                },
                                {
                                    "0": "104202",
                                    "1": "Shawboro",
                                    "2": "233",
                                    "3": "9776",
                                    "4": "0.102"
                                },
                                {
                                    "0": "100350",
                                    "1": "Connoquenessing",
                                    "2": "232",
                                    "3": "9296",
                                    "4": "0.102"
                                },
                                {
                                    "0": "94935",
                                    "1": "Karthaus",
                                    "2": "232",
                                    "3": "9553",
                                    "4": "0.102"
                                },
                                {
                                    "0": "105377",
                                    "1": "Trout Run",
                                    "2": "231",
                                    "3": "9059",
                                    "4": "0.101"
                                },
                                {
                                    "0": "82656",
                                    "1": "Stonefort",
                                    "2": "231",
                                    "3": "10139",
                                    "4": "0.101"
                                },
                                {
                                    "0": "88060",
                                    "1": "Mayhill",
                                    "2": "231",
                                    "3": "8840",
                                    "4": "0.101"
                                },
                                {
                                    "0": "48004",
                                    "1": "Komalty",
                                    "2": "231",
                                    "3": "8369",
                                    "4": "0.101"
                                },
                                {
                                    "0": "47855",
                                    "1": "Yermo",
                                    "2": "231",
                                    "3": "8617",
                                    "4": "0.101"
                                },
                                {
                                    "0": "91271",
                                    "1": "Point Roberts",
                                    "2": "230",
                                    "3": "9135",
                                    "4": "0.101"
                                },
                                {
                                    "0": "88162",
                                    "1": "Raton",
                                    "2": "230",
                                    "3": "10348",
                                    "4": "0.101"
                                },
                                {
                                    "0": "100507",
                                    "1": "Elverson",
                                    "2": "230",
                                    "3": "8230",
                                    "4": "0.101"
                                },
                                {
                                    "0": "47134",
                                    "1": "Nicasio",
                                    "2": "230",
                                    "3": "9354",
                                    "4": "0.101"
                                },
                                {
                                    "0": "82935",
                                    "1": "Lorentz",
                                    "2": "229",
                                    "3": "8996",
                                    "4": "0.100"
                                },
                                {
                                    "0": "103866",
                                    "1": "Gilford",
                                    "2": "229",
                                    "3": "9221",
                                    "4": "0.100"
                                },
                                {
                                    "0": "96056",
                                    "1": "Arrow Rock",
                                    "2": "229",
                                    "3": "8739",
                                    "4": "0.100"
                                },
                                {
                                    "0": "89681",
                                    "1": "Cheyenne Wells",
                                    "2": "228",
                                    "3": "9501",
                                    "4": "0.100"
                                },
                                {
                                    "0": "99099",
                                    "1": "Penns Creek",
                                    "2": "228",
                                    "3": "7775",
                                    "4": "0.100"
                                },
                                {
                                    "0": "104412",
                                    "1": "Golden Meadow",
                                    "2": "228",
                                    "3": "8419",
                                    "4": "0.100"
                                },
                                {
                                    "0": "104305",
                                    "1": "Shay",
                                    "2": "227",
                                    "3": "9742",
                                    "4": "0.099"
                                },
                                {
                                    "0": "90821",
                                    "1": "Morton Grove",
                                    "2": "227",
                                    "3": "7364",
                                    "4": "0.099"
                                },
                                {
                                    "0": "96491",
                                    "1": "Hodgdon",
                                    "2": "227",
                                    "3": "10544",
                                    "4": "0.099"
                                },
                                {
                                    "0": "94861",
                                    "1": "Homer City",
                                    "2": "227",
                                    "3": "10693",
                                    "4": "0.099"
                                },
                                {
                                    "0": "76803",
                                    "1": "Pikeview",
                                    "2": "226",
                                    "3": "9284",
                                    "4": "0.099"
                                },
                                {
                                    "0": "100434",
                                    "1": "Dry Run",
                                    "2": "225",
                                    "3": "9823",
                                    "4": "0.099"
                                },
                                {
                                    "0": "103648",
                                    "1": "Marguerite",
                                    "2": "225",
                                    "3": "8117",
                                    "4": "0.099"
                                },
                                {
                                    "0": "96177",
                                    "1": "Buell",
                                    "2": "225",
                                    "3": "8829",
                                    "4": "0.099"
                                },
                                {
                                    "0": "40608",
                                    "1": "Floriston",
                                    "2": "224",
                                    "3": "9164",
                                    "4": "0.098"
                                },
                                {
                                    "0": "93646",
                                    "1": "Bozeman Hot Springs",
                                    "2": "224",
                                    "3": "9364",
                                    "4": "0.098"
                                },
                                {
                                    "0": "106065",
                                    "1": "Bowlus",
                                    "2": "224",
                                    "3": "10157",
                                    "4": "0.098"
                                },
                                {
                                    "0": "79407",
                                    "1": "Guin",
                                    "2": "224",
                                    "3": "10202",
                                    "4": "0.098"
                                },
                                {
                                    "0": "104397",
                                    "1": "Stoneboro",
                                    "2": "223",
                                    "3": "10122",
                                    "4": "0.098"
                                },
                                {
                                    "0": "47016",
                                    "1": "Marin City",
                                    "2": "223",
                                    "3": "8101",
                                    "4": "0.098"
                                },
                                {
                                    "0": "104573",
                                    "1": "Mamou",
                                    "2": "223",
                                    "3": "8612",
                                    "4": "0.098"
                                },
                                {
                                    "0": "94300",
                                    "1": "Cloud Lake",
                                    "2": "222",
                                    "3": "8350",
                                    "4": "0.097"
                                },
                                {
                                    "0": "106203",
                                    "1": "Deer River",
                                    "2": "222",
                                    "3": "9651",
                                    "4": "0.097"
                                },
                                {
                                    "0": "79734",
                                    "1": "Cañon",
                                    "2": "222",
                                    "3": "8345",
                                    "4": "0.097"
                                },
                                {
                                    "0": "96024",
                                    "1": "Airport Drive",
                                    "2": "222",
                                    "3": "8857",
                                    "4": "0.097"
                                },
                                {
                                    "0": "44316",
                                    "1": "Port Hueneme",
                                    "2": "222",
                                    "3": "9556",
                                    "4": "0.097"
                                },
                                {
                                    "0": "94622",
                                    "1": "Sun River",
                                    "2": "221",
                                    "3": "7990",
                                    "4": "0.097"
                                },
                                {
                                    "0": "99567",
                                    "1": "Amado",
                                    "2": "221",
                                    "3": "7398",
                                    "4": "0.097"
                                },
                                {
                                    "0": "77088",
                                    "1": "Wapinitia",
                                    "2": "221",
                                    "3": "8957",
                                    "4": "0.097"
                                },
                                {
                                    "0": "76733",
                                    "1": "McClave",
                                    "2": "221",
                                    "3": "10669",
                                    "4": "0.097"
                                },
                                {
                                    "0": "93803",
                                    "1": "Greycliff",
                                    "2": "220",
                                    "3": "7833",
                                    "4": "0.096"
                                },
                                {
                                    "0": "97147",
                                    "1": "Lake Crystal",
                                    "2": "220",
                                    "3": "8065",
                                    "4": "0.096"
                                },
                                {
                                    "0": "105663",
                                    "1": "Hightsville",
                                    "2": "220",
                                    "3": "9014",
                                    "4": "0.096"
                                },
                                {
                                    "0": "105356",
                                    "1": "Edgartown",
                                    "2": "220",
                                    "3": "7933",
                                    "4": "0.096"
                                },
                                {
                                    "0": "41432",
                                    "1": "Jesmond Dene",
                                    "2": "220",
                                    "3": "6287",
                                    "4": "0.096"
                                },
                                {
                                    "0": "101999",
                                    "1": "Moroni",
                                    "2": "219",
                                    "3": "7487",
                                    "4": "0.096"
                                },
                                {
                                    "0": "95033",
                                    "1": "North Brookfield",
                                    "2": "219",
                                    "3": "9346",
                                    "4": "0.096"
                                },
                                {
                                    "0": "102374",
                                    "1": "Black Lick",
                                    "2": "219",
                                    "3": "9061",
                                    "4": "0.096"
                                },
                                {
                                    "0": "79805",
                                    "1": "Cundiyo",
                                    "2": "219",
                                    "3": "8908",
                                    "4": "0.096"
                                },
                                {
                                    "0": "46801",
                                    "1": "Chalco",
                                    "2": "219",
                                    "3": "8718",
                                    "4": "0.096"
                                },
                                {
                                    "0": "88115",
                                    "1": "Optimo",
                                    "2": "219",
                                    "3": "9361",
                                    "4": "0.096"
                                },
                                {
                                    "0": "83400",
                                    "1": "Tuscaloosa",
                                    "2": "218",
                                    "3": "9225",
                                    "4": "0.096"
                                },
                                {
                                    "0": "104288",
                                    "1": "Valdese",
                                    "2": "218",
                                    "3": "8578",
                                    "4": "0.096"
                                },
                                {
                                    "0": "91534",
                                    "1": "Vollmar",
                                    "2": "217",
                                    "3": "9906",
                                    "4": "0.095"
                                },
                                {
                                    "0": "79440",
                                    "1": "Highland Home",
                                    "2": "217",
                                    "3": "7793",
                                    "4": "0.095"
                                },
                                {
                                    "0": "102050",
                                    "1": "Rose Tree",
                                    "2": "216",
                                    "3": "8558",
                                    "4": "0.095"
                                },
                                {
                                    "0": "72561",
                                    "1": "Tumacacori",
                                    "2": "216",
                                    "3": "7145",
                                    "4": "0.095"
                                },
                                {
                                    "0": "62420",
                                    "1": "Ridgeway",
                                    "2": "216",
                                    "3": "8847",
                                    "4": "0.095"
                                },
                                {
                                    "0": "47188",
                                    "1": "Orick",
                                    "2": "216",
                                    "3": "8685",
                                    "4": "0.095"
                                },
                                {
                                    "0": "94161",
                                    "1": "Astor Park",
                                    "2": "215",
                                    "3": "7731",
                                    "4": "0.094"
                                },
                                {
                                    "0": "106148",
                                    "1": "Cloquet",
                                    "2": "215",
                                    "3": "9409",
                                    "4": "0.094"
                                },
                                {
                                    "0": "99060",
                                    "1": "Orrtanna",
                                    "2": "214",
                                    "3": "10907",
                                    "4": "0.094"
                                },
                                {
                                    "0": "98014",
                                    "1": "Queen Valley",
                                    "2": "214",
                                    "3": "8890",
                                    "4": "0.094"
                                },
                                {
                                    "0": "76970",
                                    "1": "Placer",
                                    "2": "214",
                                    "3": "7464",
                                    "4": "0.094"
                                },
                                {
                                    "0": "104530",
                                    "1": "Larose",
                                    "2": "213",
                                    "3": "8676",
                                    "4": "0.093"
                                },
                                {
                                    "0": "94333",
                                    "1": "Cypress Quarters",
                                    "2": "213",
                                    "3": "7886",
                                    "4": "0.093"
                                },
                                {
                                    "0": "106020",
                                    "1": "Beaver Bay",
                                    "2": "213",
                                    "3": "6784",
                                    "4": "0.093"
                                },
                                {
                                    "0": "89594",
                                    "1": "Andrix",
                                    "2": "212",
                                    "3": "8979",
                                    "4": "0.093"
                                },
                                {
                                    "0": "101559",
                                    "1": "Bethania",
                                    "2": "212",
                                    "3": "9028",
                                    "4": "0.093"
                                },
                                {
                                    "0": "101804",
                                    "1": "Carbonville",
                                    "2": "212",
                                    "3": "9130",
                                    "4": "0.093"
                                },
                                {
                                    "0": "94237",
                                    "1": "Bratt",
                                    "2": "212",
                                    "3": "8454",
                                    "4": "0.093"
                                },
                                {
                                    "0": "82963",
                                    "1": "Middleway",
                                    "2": "212",
                                    "3": "8519",
                                    "4": "0.093"
                                },
                                {
                                    "0": "102342",
                                    "1": "Bell Acres",
                                    "2": "212",
                                    "3": "7505",
                                    "4": "0.093"
                                },
                                {
                                    "0": "106222",
                                    "1": "Dover",
                                    "2": "212",
                                    "3": "8545",
                                    "4": "0.093"
                                },
                                {
                                    "0": "101245",
                                    "1": "Schaal",
                                    "2": "211",
                                    "3": "8254",
                                    "4": "0.092"
                                },
                                {
                                    "0": "88154",
                                    "1": "Puerto de Luna",
                                    "2": "211",
                                    "3": "8387",
                                    "4": "0.092"
                                },
                                {
                                    "0": "47626",
                                    "1": "South Laguna",
                                    "2": "211",
                                    "3": "7600",
                                    "4": "0.092"
                                },
                                {
                                    "0": "87766",
                                    "1": "Annamoriah",
                                    "2": "210",
                                    "3": "8409",
                                    "4": "0.092"
                                },
                                {
                                    "0": "84046",
                                    "1": "Cherryplain",
                                    "2": "210",
                                    "3": "8248",
                                    "4": "0.092"
                                },
                                {
                                    "0": "103631",
                                    "1": "Mahaffey",
                                    "2": "210",
                                    "3": "8070",
                                    "4": "0.092"
                                },
                                {
                                    "0": "77605",
                                    "1": "La Grange Park",
                                    "2": "210",
                                    "3": "8337",
                                    "4": "0.092"
                                },
                                {
                                    "0": "99994",
                                    "1": "Weld",
                                    "2": "209",
                                    "3": "8211",
                                    "4": "0.092"
                                },
                                {
                                    "0": "99353",
                                    "1": "Marcell",
                                    "2": "209",
                                    "3": "7927",
                                    "4": "0.092"
                                },
                                {
                                    "0": "91372",
                                    "1": "Skyway",
                                    "2": "209",
                                    "3": "6317",
                                    "4": "0.092"
                                },
                                {
                                    "0": "87543",
                                    "1": "Koontzville",
                                    "2": "209",
                                    "3": "7981",
                                    "4": "0.092"
                                },
                                {
                                    "0": "78914",
                                    "1": "Broomtown",
                                    "2": "209",
                                    "3": "8432",
                                    "4": "0.092"
                                },
                                {
                                    "0": "100413",
                                    "1": "Devault",
                                    "2": "208",
                                    "3": "9232",
                                    "4": "0.091"
                                },
                                {
                                    "0": "87602",
                                    "1": "Malott",
                                    "2": "208",
                                    "3": "8186",
                                    "4": "0.091"
                                },
                                {
                                    "0": "105339",
                                    "1": "Dracut",
                                    "2": "208",
                                    "3": "7688",
                                    "4": "0.091"
                                },
                                {
                                    "0": "96434",
                                    "1": "Edgecomb",
                                    "2": "207",
                                    "3": "7708",
                                    "4": "0.091"
                                },
                                {
                                    "0": "89596",
                                    "1": "Antonito",
                                    "2": "207",
                                    "3": "7582",
                                    "4": "0.091"
                                },
                                {
                                    "0": "78874",
                                    "1": "Belgreen",
                                    "2": "206",
                                    "3": "8254",
                                    "4": "0.090"
                                },
                                {
                                    "0": "104045",
                                    "1": "Navassa",
                                    "2": "206",
                                    "3": "7372",
                                    "4": "0.090"
                                },
                                {
                                    "0": "89741",
                                    "1": "East Portal",
                                    "2": "206",
                                    "3": "8873",
                                    "4": "0.090"
                                },
                                {
                                    "0": "99456",
                                    "1": "Northrop",
                                    "2": "206",
                                    "3": "7905",
                                    "4": "0.090"
                                },
                                {
                                    "0": "100428",
                                    "1": "Downingtown",
                                    "2": "206",
                                    "3": "8402",
                                    "4": "0.090"
                                },
                                {
                                    "0": "100840",
                                    "1": "Tiff City",
                                    "2": "206",
                                    "3": "7258",
                                    "4": "0.090"
                                },
                                {
                                    "0": "94644",
                                    "1": "Twodot",
                                    "2": "205",
                                    "3": "9405",
                                    "4": "0.090"
                                },
                                {
                                    "0": "106049",
                                    "1": "Biscay",
                                    "2": "204",
                                    "3": "6883",
                                    "4": "0.089"
                                },
                                {
                                    "0": "90082",
                                    "1": "Kerby",
                                    "2": "204",
                                    "3": "7432",
                                    "4": "0.089"
                                },
                                {
                                    "0": "99662",
                                    "1": "Cortaro",
                                    "2": "204",
                                    "3": "8856",
                                    "4": "0.089"
                                },
                                {
                                    "0": "100763",
                                    "1": "Shell Knob",
                                    "2": "204",
                                    "3": "7805",
                                    "4": "0.089"
                                },
                                {
                                    "0": "106530",
                                    "1": "Hayes Center",
                                    "2": "203",
                                    "3": "7136",
                                    "4": "0.089"
                                },
                                {
                                    "0": "99066",
                                    "1": "Oval",
                                    "2": "203",
                                    "3": "7298",
                                    "4": "0.089"
                                },
                                {
                                    "0": "102060",
                                    "1": "Rothsville",
                                    "2": "203",
                                    "3": "7205",
                                    "4": "0.089"
                                },
                                {
                                    "0": "104234",
                                    "1": "Staley",
                                    "2": "203",
                                    "3": "6945",
                                    "4": "0.089"
                                },
                                {
                                    "0": "89654",
                                    "1": "Byers",
                                    "2": "203",
                                    "3": "8487",
                                    "4": "0.089"
                                },
                                {
                                    "0": "104289",
                                    "1": "Valhalla",
                                    "2": "203",
                                    "3": "5229",
                                    "4": "0.089"
                                },
                                {
                                    "0": "95036",
                                    "1": "North Eastham",
                                    "2": "202",
                                    "3": "7912",
                                    "4": "0.088"
                                },
                                {
                                    "0": "91452",
                                    "1": "Upper Preston",
                                    "2": "202",
                                    "3": "7161",
                                    "4": "0.088"
                                },
                                {
                                    "0": "100833",
                                    "1": "Terre du Lac",
                                    "2": "202",
                                    "3": "7564",
                                    "4": "0.088"
                                },
                                {
                                    "0": "78972",
                                    "1": "Coker",
                                    "2": "201",
                                    "3": "8229",
                                    "4": "0.088"
                                },
                                {
                                    "0": "87633",
                                    "1": "Meadowdale",
                                    "2": "201",
                                    "3": "7633",
                                    "4": "0.088"
                                },
                                {
                                    "0": "98906",
                                    "1": "Morrison Bluff",
                                    "2": "201",
                                    "3": "8365",
                                    "4": "0.088"
                                },
                                {
                                    "0": "83290",
                                    "1": "Robertsdale",
                                    "2": "201",
                                    "3": "6794",
                                    "4": "0.088"
                                },
                                {
                                    "0": "105671",
                                    "1": "Holden Beach",
                                    "2": "200",
                                    "3": "6247",
                                    "4": "0.088"
                                },
                                {
                                    "0": "62837",
                                    "1": "Golden Meadow",
                                    "2": "200",
                                    "3": "8271",
                                    "4": "0.088"
                                },
                                {
                                    "0": "96334",
                                    "1": "Beals",
                                    "2": "200",
                                    "3": "7856",
                                    "4": "0.088"
                                },
                                {
                                    "0": "38005",
                                    "1": "Sarversville",
                                    "2": "199",
                                    "3": "7983",
                                    "4": "0.087"
                                },
                                {
                                    "0": "100996",
                                    "1": "Tavares",
                                    "2": "199",
                                    "3": "6769",
                                    "4": "0.087"
                                },
                                {
                                    "0": "99166",
                                    "1": "Railroad",
                                    "2": "199",
                                    "3": "8202",
                                    "4": "0.087"
                                },
                                {
                                    "0": "89325",
                                    "1": "Amanda Park",
                                    "2": "199",
                                    "3": "7021",
                                    "4": "0.087"
                                },
                                {
                                    "0": "88240",
                                    "1": "Soham",
                                    "2": "199",
                                    "3": "8373",
                                    "4": "0.087"
                                },
                                {
                                    "0": "88082",
                                    "1": "Montoya",
                                    "2": "199",
                                    "3": "5955",
                                    "4": "0.087"
                                },
                                {
                                    "0": "97570",
                                    "1": "Tenstrike",
                                    "2": "199",
                                    "3": "7425",
                                    "4": "0.087"
                                },
                                {
                                    "0": "101568",
                                    "1": "Bladenboro",
                                    "2": "198",
                                    "3": "7936",
                                    "4": "0.087"
                                },
                                {
                                    "0": "95253",
                                    "1": "Jane",
                                    "2": "198",
                                    "3": "7410",
                                    "4": "0.087"
                                },
                                {
                                    "0": "96152",
                                    "1": "Branson West",
                                    "2": "198",
                                    "3": "7157",
                                    "4": "0.087"
                                },
                                {
                                    "0": "89450",
                                    "1": "College Place",
                                    "2": "198",
                                    "3": "9140",
                                    "4": "0.087"
                                },
                                {
                                    "0": "103780",
                                    "1": "Mount Pocono",
                                    "2": "198",
                                    "3": "6202",
                                    "4": "0.087"
                                },
                                {
                                    "0": "101020",
                                    "1": "Vamo",
                                    "2": "197",
                                    "3": "8167",
                                    "4": "0.086"
                                },
                                {
                                    "0": "101204",
                                    "1": "Reader",
                                    "2": "197",
                                    "3": "7735",
                                    "4": "0.086"
                                },
                                {
                                    "0": "104620",
                                    "1": "Mooringsport",
                                    "2": "197",
                                    "3": "8183",
                                    "4": "0.086"
                                },
                                {
                                    "0": "100568",
                                    "1": "Olivette",
                                    "2": "196",
                                    "3": "8386",
                                    "4": "0.086"
                                },
                                {
                                    "0": "95930",
                                    "1": "Donner",
                                    "2": "196",
                                    "3": "7889",
                                    "4": "0.086"
                                },
                                {
                                    "0": "104953",
                                    "1": "Humansville",
                                    "2": "196",
                                    "3": "7630",
                                    "4": "0.086"
                                },
                                {
                                    "0": "102076",
                                    "1": "Sabinsville",
                                    "2": "195",
                                    "3": "6997",
                                    "4": "0.085"
                                },
                                {
                                    "0": "105327",
                                    "1": "Cotuit",
                                    "2": "195",
                                    "3": "8881",
                                    "4": "0.085"
                                },
                                {
                                    "0": "104702",
                                    "1": "Dennis Acres",
                                    "2": "195",
                                    "3": "6622",
                                    "4": "0.085"
                                },
                                {
                                    "0": "88148",
                                    "1": "Portales",
                                    "2": "195",
                                    "3": "6292",
                                    "4": "0.085"
                                },
                                {
                                    "0": "87899",
                                    "1": "East Dailey",
                                    "2": "195",
                                    "3": "8150",
                                    "4": "0.085"
                                },
                                {
                                    "0": "106631",
                                    "1": "White Church",
                                    "2": "194",
                                    "3": "7809",
                                    "4": "0.085"
                                },
                                {
                                    "0": "95748",
                                    "1": "Alden Bridge",
                                    "2": "194",
                                    "3": "8337",
                                    "4": "0.085"
                                },
                                {
                                    "0": "102390",
                                    "1": "Boalsburg",
                                    "2": "194",
                                    "3": "7634",
                                    "4": "0.085"
                                },
                                {
                                    "0": "83121",
                                    "1": "Triadelphia",
                                    "2": "194",
                                    "3": "7732",
                                    "4": "0.085"
                                },
                                {
                                    "0": "103211",
                                    "1": "Lynne",
                                    "2": "193",
                                    "3": "7999",
                                    "4": "0.085"
                                },
                                {
                                    "0": "103655",
                                    "1": "Marion Hill",
                                    "2": "193",
                                    "3": "7643",
                                    "4": "0.085"
                                },
                                {
                                    "0": "98432",
                                    "1": "Naples Park",
                                    "2": "193",
                                    "3": "6623",
                                    "4": "0.085"
                                },
                                {
                                    "0": "89925",
                                    "1": "Cave Junction",
                                    "2": "193",
                                    "3": "8267",
                                    "4": "0.085"
                                },
                                {
                                    "0": "87889",
                                    "1": "Delray",
                                    "2": "192",
                                    "3": "8067",
                                    "4": "0.084"
                                },
                                {
                                    "0": "98692",
                                    "1": "Grannis",
                                    "2": "192",
                                    "3": "7933",
                                    "4": "0.084"
                                },
                                {
                                    "0": "105700",
                                    "1": "Kannapolis",
                                    "2": "192",
                                    "3": "8012",
                                    "4": "0.084"
                                },
                                {
                                    "0": "46564",
                                    "1": "Heilwood",
                                    "2": "191",
                                    "3": "8355",
                                    "4": "0.084"
                                },
                                {
                                    "0": "76917",
                                    "1": "Molalla",
                                    "2": "191",
                                    "3": "7620",
                                    "4": "0.084"
                                },
                                {
                                    "0": "102635",
                                    "1": "Toughkenamon",
                                    "2": "191",
                                    "3": "8383",
                                    "4": "0.084"
                                },
                                {
                                    "0": "96104",
                                    "1": "Bernie",
                                    "2": "191",
                                    "3": "6663",
                                    "4": "0.084"
                                },
                                {
                                    "0": "102665",
                                    "1": "Nahant",
                                    "2": "189",
                                    "3": "8262",
                                    "4": "0.083"
                                },
                                {
                                    "0": "96876",
                                    "1": "Eden Valley",
                                    "2": "189",
                                    "3": "7022",
                                    "4": "0.083"
                                },
                                {
                                    "0": "98103",
                                    "1": "Tempe",
                                    "2": "189",
                                    "3": "7547",
                                    "4": "0.083"
                                },
                                {
                                    "0": "98158",
                                    "1": "Willow Valley",
                                    "2": "189",
                                    "3": "7016",
                                    "4": "0.083"
                                },
                                {
                                    "0": "79547",
                                    "1": "Marion Junction",
                                    "2": "189",
                                    "3": "7021",
                                    "4": "0.083"
                                },
                                {
                                    "0": "79797",
                                    "1": "Crossroads",
                                    "2": "189",
                                    "3": "9255",
                                    "4": "0.083"
                                },
                                {
                                    "0": "79808",
                                    "1": "Dahlia",
                                    "2": "189",
                                    "3": "6842",
                                    "4": "0.083"
                                },
                                {
                                    "0": "38542",
                                    "1": "Ravia",
                                    "2": "189",
                                    "3": "8560",
                                    "4": "0.083"
                                },
                                {
                                    "0": "61426",
                                    "1": "Bernardston",
                                    "2": "189",
                                    "3": "7525",
                                    "4": "0.083"
                                },
                                {
                                    "0": "96894",
                                    "1": "Elrosa",
                                    "2": "188",
                                    "3": "8555",
                                    "4": "0.082"
                                },
                                {
                                    "0": "76936",
                                    "1": "Newberg",
                                    "2": "188",
                                    "3": "8606",
                                    "4": "0.082"
                                },
                                {
                                    "0": "99569",
                                    "1": "Antares",
                                    "2": "188",
                                    "3": "7313",
                                    "4": "0.082"
                                },
                                {
                                    "0": "94842",
                                    "1": "Heilwood",
                                    "2": "188",
                                    "3": "7170",
                                    "4": "0.082"
                                },
                                {
                                    "0": "47005",
                                    "1": "Magalia",
                                    "2": "187",
                                    "3": "6761",
                                    "4": "0.082"
                                },
                                {
                                    "0": "99383",
                                    "1": "Miesville",
                                    "2": "187",
                                    "3": "6392",
                                    "4": "0.082"
                                },
                                {
                                    "0": "88084",
                                    "1": "Moquino",
                                    "2": "186",
                                    "3": "6841",
                                    "4": "0.081"
                                },
                                {
                                    "0": "95349",
                                    "1": "Licking",
                                    "2": "186",
                                    "3": "7866",
                                    "4": "0.081"
                                },
                                {
                                    "0": "50814",
                                    "1": "Nicholson",
                                    "2": "186",
                                    "3": "9237",
                                    "4": "0.081"
                                },
                                {
                                    "0": "99026",
                                    "1": "North York",
                                    "2": "185",
                                    "3": "7342",
                                    "4": "0.081"
                                },
                                {
                                    "0": "89718",
                                    "1": "Dacono",
                                    "2": "185",
                                    "3": "6775",
                                    "4": "0.081"
                                },
                                {
                                    "0": "105949",
                                    "1": "Westwater",
                                    "2": "185",
                                    "3": "5844",
                                    "4": "0.081"
                                },
                                {
                                    "0": "101642",
                                    "1": "Claremont",
                                    "2": "185",
                                    "3": "8021",
                                    "4": "0.081"
                                },
                                {
                                    "0": "89683",
                                    "1": "Chipita Park",
                                    "2": "184",
                                    "3": "6951",
                                    "4": "0.081"
                                },
                                {
                                    "0": "94726",
                                    "1": "Gardners",
                                    "2": "184",
                                    "3": "6737",
                                    "4": "0.081"
                                },
                                {
                                    "0": "38737",
                                    "1": "Wright City",
                                    "2": "183",
                                    "3": "7332",
                                    "4": "0.080"
                                },
                                {
                                    "0": "56153",
                                    "1": "Bock",
                                    "2": "183",
                                    "3": "8244",
                                    "4": "0.080"
                                },
                                {
                                    "0": "105385",
                                    "1": "Tunnelhill",
                                    "2": "183",
                                    "3": "7940",
                                    "4": "0.080"
                                },
                                {
                                    "0": "42598",
                                    "1": "Oley",
                                    "2": "183",
                                    "3": "6316",
                                    "4": "0.080"
                                },
                                {
                                    "0": "106153",
                                    "1": "Cokato",
                                    "2": "183",
                                    "3": "7578",
                                    "4": "0.080"
                                },
                                {
                                    "0": "101044",
                                    "1": "Ward Ridge",
                                    "2": "183",
                                    "3": "7140",
                                    "4": "0.080"
                                },
                                {
                                    "0": "88100",
                                    "1": "New Laguna",
                                    "2": "182",
                                    "3": "8020",
                                    "4": "0.080"
                                },
                                {
                                    "0": "61111",
                                    "1": "Airport Drive",
                                    "2": "182",
                                    "3": "7588",
                                    "4": "0.080"
                                },
                                {
                                    "0": "63044",
                                    "1": "Mooringsport",
                                    "2": "182",
                                    "3": "7207",
                                    "4": "0.080"
                                },
                                {
                                    "0": "95224",
                                    "1": "White Horse Beach",
                                    "2": "182",
                                    "3": "7971",
                                    "4": "0.080"
                                },
                                {
                                    "0": "87556",
                                    "1": "Lake Stevens",
                                    "2": "182",
                                    "3": "7699",
                                    "4": "0.080"
                                },
                                {
                                    "0": "54828",
                                    "1": "Northrop",
                                    "2": "182",
                                    "3": "6450",
                                    "4": "0.080"
                                },
                                {
                                    "0": "53304",
                                    "1": "Inguadona",
                                    "2": "182",
                                    "3": "7150",
                                    "4": "0.080"
                                },
                                {
                                    "0": "94308",
                                    "1": "Compass Lake",
                                    "2": "182",
                                    "3": "5648",
                                    "4": "0.080"
                                },
                                {
                                    "0": "89604",
                                    "1": "Aspen Park",
                                    "2": "181",
                                    "3": "6928",
                                    "4": "0.079"
                                },
                                {
                                    "0": "73353",
                                    "1": "Antares",
                                    "2": "181",
                                    "3": "8050",
                                    "4": "0.079"
                                },
                                {
                                    "0": "93760",
                                    "1": "Fishtail",
                                    "2": "181",
                                    "3": "6294",
                                    "4": "0.079"
                                },
                                {
                                    "0": "66241",
                                    "1": "Harkers Island",
                                    "2": "180",
                                    "3": "6602",
                                    "4": "0.079"
                                },
                                {
                                    "0": "104184",
                                    "1": "Saxapahaw",
                                    "2": "180",
                                    "3": "6418",
                                    "4": "0.079"
                                },
                                {
                                    "0": "88124",
                                    "1": "Pastura",
                                    "2": "180",
                                    "3": "6013",
                                    "4": "0.079"
                                },
                                {
                                    "0": "60480",
                                    "1": "Vidrine",
                                    "2": "180",
                                    "3": "7055",
                                    "4": "0.079"
                                },
                                {
                                    "0": "79922",
                                    "1": "La Cueva",
                                    "2": "180",
                                    "3": "6269",
                                    "4": "0.079"
                                },
                                {
                                    "0": "67589",
                                    "1": "Navassa",
                                    "2": "179",
                                    "3": "7610",
                                    "4": "0.078"
                                },
                                {
                                    "0": "72539",
                                    "1": "Tempe",
                                    "2": "179",
                                    "3": "6390",
                                    "4": "0.078"
                                },
                                {
                                    "0": "95601",
                                    "1": "Saint Landry",
                                    "2": "179",
                                    "3": "7260",
                                    "4": "0.078"
                                },
                                {
                                    "0": "99036",
                                    "1": "Nuangola",
                                    "2": "178",
                                    "3": "8923",
                                    "4": "0.078"
                                },
                                {
                                    "0": "94299",
                                    "1": "Clewiston",
                                    "2": "178",
                                    "3": "6164",
                                    "4": "0.078"
                                },
                                {
                                    "0": "64965",
                                    "1": "Panton",
                                    "2": "178",
                                    "3": "7282",
                                    "4": "0.078"
                                },
                                {
                                    "0": "94175",
                                    "1": "Bakers Mill",
                                    "2": "178",
                                    "3": "6368",
                                    "4": "0.078"
                                },
                                {
                                    "0": "88189",
                                    "1": "San Acacia",
                                    "2": "177",
                                    "3": "6996",
                                    "4": "0.078"
                                },
                                {
                                    "0": "104509",
                                    "1": "Kinder",
                                    "2": "177",
                                    "3": "5277",
                                    "4": "0.078"
                                },
                                {
                                    "0": "72425",
                                    "1": "Peeples Valley",
                                    "2": "177",
                                    "3": "5609",
                                    "4": "0.078"
                                },
                                {
                                    "0": "90111",
                                    "1": "Lostine",
                                    "2": "177",
                                    "3": "6364",
                                    "4": "0.078"
                                },
                                {
                                    "0": "106062",
                                    "1": "Bock",
                                    "2": "177",
                                    "3": "7694",
                                    "4": "0.078"
                                },
                                {
                                    "0": "50966",
                                    "1": "Scott",
                                    "2": "177",
                                    "3": "6789",
                                    "4": "0.078"
                                },
                                {
                                    "0": "101362",
                                    "1": "Wesson",
                                    "2": "177",
                                    "3": "7285",
                                    "4": "0.078"
                                },
                                {
                                    "0": "91437",
                                    "1": "Trentwood",
                                    "2": "176",
                                    "3": "6415",
                                    "4": "0.077"
                                },
                                {
                                    "0": "61264",
                                    "1": "Buell",
                                    "2": "176",
                                    "3": "7313",
                                    "4": "0.077"
                                },
                                {
                                    "0": "98020",
                                    "1": "Red Mesa",
                                    "2": "176",
                                    "3": "6874",
                                    "4": "0.077"
                                },
                                {
                                    "0": "88053",
                                    "1": "Madrone",
                                    "2": "176",
                                    "3": "6063",
                                    "4": "0.077"
                                },
                                {
                                    "0": "64635",
                                    "1": "Terre du Lac",
                                    "2": "176",
                                    "3": "6808",
                                    "4": "0.077"
                                },
                                {
                                    "0": "99986",
                                    "1": "Wallagrass",
                                    "2": "176",
                                    "3": "7965",
                                    "4": "0.077"
                                },
                                {
                                    "0": "106532",
                                    "1": "Heartwell",
                                    "2": "175",
                                    "3": "6305",
                                    "4": "0.077"
                                },
                                {
                                    "0": "100612",
                                    "1": "Phelps City",
                                    "2": "175",
                                    "3": "5417",
                                    "4": "0.077"
                                },
                                {
                                    "0": "67746",
                                    "1": "Shawboro",
                                    "2": "175",
                                    "3": "7973",
                                    "4": "0.077"
                                },
                                {
                                    "0": "79066",
                                    "1": "Flomaton",
                                    "2": "174",
                                    "3": "5620",
                                    "4": "0.076"
                                },
                                {
                                    "0": "98125",
                                    "1": "Tumacacori",
                                    "2": "174",
                                    "3": "6945",
                                    "4": "0.076"
                                },
                                {
                                    "0": "99357",
                                    "1": "Markville",
                                    "2": "174",
                                    "3": "6568",
                                    "4": "0.076"
                                },
                                {
                                    "0": "67832",
                                    "1": "Valdese",
                                    "2": "174",
                                    "3": "5685",
                                    "4": "0.076"
                                },
                                {
                                    "0": "87110",
                                    "1": "Colebrook",
                                    "2": "173",
                                    "3": "7045",
                                    "4": "0.076"
                                },
                                {
                                    "0": "64929",
                                    "1": "Manchester Center",
                                    "2": "173",
                                    "3": "8005",
                                    "4": "0.076"
                                },
                                {
                                    "0": "42607",
                                    "1": "Orrtanna",
                                    "2": "173",
                                    "3": "7079",
                                    "4": "0.076"
                                },
                                {
                                    "0": "79599",
                                    "1": "Nanafalia",
                                    "2": "172",
                                    "3": "7086",
                                    "4": "0.075"
                                },
                                {
                                    "0": "66266",
                                    "1": "Hightsville",
                                    "2": "172",
                                    "3": "6021",
                                    "4": "0.075"
                                },
                                {
                                    "0": "79045",
                                    "1": "Eulaton",
                                    "2": "172",
                                    "3": "6783",
                                    "4": "0.075"
                                },
                                {
                                    "0": "38209",
                                    "1": "Tresckow",
                                    "2": "172",
                                    "3": "6730",
                                    "4": "0.075"
                                },
                                {
                                    "0": "105792",
                                    "1": "McAdenville",
                                    "2": "171",
                                    "3": "6473",
                                    "4": "0.075"
                                },
                                {
                                    "0": "72450",
                                    "1": "Queen Valley",
                                    "2": "171",
                                    "3": "7387",
                                    "4": "0.075"
                                },
                                {
                                    "0": "96377",
                                    "1": "Cape Neddick",
                                    "2": "171",
                                    "3": "7273",
                                    "4": "0.075"
                                },
                                {
                                    "0": "42573",
                                    "1": "North York",
                                    "2": "171",
                                    "3": "6177",
                                    "4": "0.075"
                                },
                                {
                                    "0": "70334",
                                    "1": "Abbottsburg",
                                    "2": "171",
                                    "3": "6319",
                                    "4": "0.075"
                                },
                                {
                                    "0": "102645",
                                    "1": "Tresckow",
                                    "2": "170",
                                    "3": "5919",
                                    "4": "0.074"
                                },
                                {
                                    "0": "105519",
                                    "1": "Wilkes-Barre",
                                    "2": "170",
                                    "3": "7342",
                                    "4": "0.074"
                                },
                                {
                                    "0": "78870",
                                    "1": "Bazemore",
                                    "2": "170",
                                    "3": "6923",
                                    "4": "0.074"
                                },
                                {
                                    "0": "70400",
                                    "1": "Bethania",
                                    "2": "170",
                                    "3": "6062",
                                    "4": "0.074"
                                },
                                {
                                    "0": "101705",
                                    "1": "Dundarrach",
                                    "2": "168",
                                    "3": "6699",
                                    "4": "0.074"
                                },
                                {
                                    "0": "52042",
                                    "1": "Cape Neddick",
                                    "2": "168",
                                    "3": "5689",
                                    "4": "0.074"
                                },
                                {
                                    "0": "41165",
                                    "1": "Dry Run",
                                    "2": "168",
                                    "3": "7392",
                                    "4": "0.074"
                                },
                                {
                                    "0": "102219",
                                    "1": "Madaket",
                                    "2": "167",
                                    "3": "7803",
                                    "4": "0.073"
                                },
                                {
                                    "0": "54755",
                                    "1": "Miesville",
                                    "2": "167",
                                    "3": "5980",
                                    "4": "0.073"
                                },
                                {
                                    "0": "61083",
                                    "1": "Tooele",
                                    "2": "167",
                                    "3": "7031",
                                    "4": "0.073"
                                },
                                {
                                    "0": "103794",
                                    "1": "Alstead",
                                    "2": "167",
                                    "3": "5892",
                                    "4": "0.073"
                                },
                                {
                                    "0": "103799",
                                    "1": "Ashland",
                                    "2": "167",
                                    "3": "5996",
                                    "4": "0.073"
                                },
                                {
                                    "0": "37955",
                                    "1": "Rose Tree",
                                    "2": "167",
                                    "3": "7506",
                                    "4": "0.073"
                                },
                                {
                                    "0": "42181",
                                    "1": "Morrison Bluff",
                                    "2": "167",
                                    "3": "6559",
                                    "4": "0.073"
                                },
                                {
                                    "0": "99970",
                                    "1": "Tremont",
                                    "2": "166",
                                    "3": "5929",
                                    "4": "0.073"
                                },
                                {
                                    "0": "96587",
                                    "1": "Howells",
                                    "2": "166",
                                    "3": "5355",
                                    "4": "0.073"
                                },
                                {
                                    "0": "39346",
                                    "1": "Armstrong Creek",
                                    "2": "165",
                                    "3": "8253",
                                    "4": "0.072"
                                },
                                {
                                    "0": "43702",
                                    "1": "Oconto Falls",
                                    "2": "165",
                                    "3": "7483",
                                    "4": "0.072"
                                },
                                {
                                    "0": "43529",
                                    "1": "Lunds",
                                    "2": "165",
                                    "3": "6934",
                                    "4": "0.072"
                                },
                                {
                                    "0": "103870",
                                    "1": "Goffstown",
                                    "2": "164",
                                    "3": "6909",
                                    "4": "0.072"
                                },
                                {
                                    "0": "61639",
                                    "1": "New Braintree",
                                    "2": "164",
                                    "3": "6168",
                                    "4": "0.072"
                                },
                                {
                                    "0": "83347",
                                    "1": "Southside",
                                    "2": "164",
                                    "3": "6342",
                                    "4": "0.072"
                                },
                                {
                                    "0": "44039",
                                    "1": "Lisco",
                                    "2": "164",
                                    "3": "6839",
                                    "4": "0.072"
                                },
                                {
                                    "0": "42455",
                                    "1": "Tilleda",
                                    "2": "164",
                                    "3": "6159",
                                    "4": "0.072"
                                },
                                {
                                    "0": "85782",
                                    "1": "Tarzan",
                                    "2": "163",
                                    "3": "6322",
                                    "4": "0.071"
                                },
                                {
                                    "0": "87673",
                                    "1": "Naches",
                                    "2": "163",
                                    "3": "6691",
                                    "4": "0.071"
                                },
                                {
                                    "0": "61361",
                                    "1": "Coney Island",
                                    "2": "162",
                                    "3": "5854",
                                    "4": "0.071"
                                },
                                {
                                    "0": "87969",
                                    "1": "Hambleton",
                                    "2": "162",
                                    "3": "7448",
                                    "4": "0.071"
                                },
                                {
                                    "0": "70510",
                                    "1": "Cramerton",
                                    "2": "162",
                                    "3": "7023",
                                    "4": "0.071"
                                },
                                {
                                    "0": "42362",
                                    "1": "Sayner",
                                    "2": "161",
                                    "3": "5487",
                                    "4": "0.071"
                                },
                                {
                                    "0": "64098",
                                    "1": "Alden Bridge",
                                    "2": "161",
                                    "3": "6308",
                                    "4": "0.071"
                                },
                                {
                                    "0": "61239",
                                    "1": "Branson West",
                                    "2": "160",
                                    "3": "6488",
                                    "4": "0.070"
                                },
                                {
                                    "0": "42713",
                                    "1": "Railroad",
                                    "2": "160",
                                    "3": "6294",
                                    "4": "0.070"
                                },
                                {
                                    "0": "45226",
                                    "1": "Wilkes-Barre",
                                    "2": "160",
                                    "3": "5713",
                                    "4": "0.070"
                                },
                                {
                                    "0": "56156",
                                    "1": "Bowlus",
                                    "2": "159",
                                    "3": "5601",
                                    "4": "0.070"
                                },
                                {
                                    "0": "61486",
                                    "1": "Dracut",
                                    "2": "159",
                                    "3": "6776",
                                    "4": "0.070"
                                },
                                {
                                    "0": "39562",
                                    "1": "Cylon",
                                    "2": "159",
                                    "3": "6171",
                                    "4": "0.070"
                                },
                                {
                                    "0": "93616",
                                    "1": "Basin",
                                    "2": "159",
                                    "3": "8004",
                                    "4": "0.070"
                                },
                                {
                                    "0": "79477",
                                    "1": "Jemison",
                                    "2": "159",
                                    "3": "5553",
                                    "4": "0.070"
                                },
                                {
                                    "0": "62997",
                                    "1": "Mamou",
                                    "2": "159",
                                    "3": "6546",
                                    "4": "0.070"
                                },
                                {
                                    "0": "60505",
                                    "1": "North Brookfield",
                                    "2": "158",
                                    "3": "5233",
                                    "4": "0.069"
                                },
                                {
                                    "0": "73351",
                                    "1": "Amado",
                                    "2": "158",
                                    "3": "7324",
                                    "4": "0.069"
                                },
                                {
                                    "0": "43854",
                                    "1": "Marion Hill",
                                    "2": "158",
                                    "3": "7139",
                                    "4": "0.069"
                                },
                                {
                                    "0": "41144",
                                    "1": "Devault",
                                    "2": "158",
                                    "3": "5492",
                                    "4": "0.069"
                                },
                                {
                                    "0": "61633",
                                    "1": "Nahant",
                                    "2": "158",
                                    "3": "5280",
                                    "4": "0.069"
                                },
                                {
                                    "0": "86434",
                                    "1": "Lake Mohegan",
                                    "2": "158",
                                    "3": "5412",
                                    "4": "0.069"
                                },
                                {
                                    "0": "70545",
                                    "1": "Dundarrach",
                                    "2": "157",
                                    "3": "5206",
                                    "4": "0.069"
                                },
                                {
                                    "0": "61474",
                                    "1": "Cotuit",
                                    "2": "157",
                                    "3": "6889",
                                    "4": "0.069"
                                },
                                {
                                    "0": "43830",
                                    "1": "Mahaffey",
                                    "2": "157",
                                    "3": "7369",
                                    "4": "0.069"
                                },
                                {
                                    "0": "57851",
                                    "1": "Tenstrike",
                                    "2": "157",
                                    "3": "5854",
                                    "4": "0.069"
                                },
                                {
                                    "0": "60732",
                                    "1": "Dennis Acres",
                                    "2": "157",
                                    "3": "6559",
                                    "4": "0.069"
                                },
                                {
                                    "0": "89634",
                                    "1": "Bow Mar",
                                    "2": "156",
                                    "3": "5857",
                                    "4": "0.068"
                                },
                                {
                                    "0": "72576",
                                    "1": "Walapai",
                                    "2": "156",
                                    "3": "5713",
                                    "4": "0.068"
                                },
                                {
                                    "0": "46950",
                                    "1": "Hayes Center",
                                    "2": "156",
                                    "3": "6046",
                                    "4": "0.068"
                                },
                                {
                                    "0": "60388",
                                    "1": "Saint Landry",
                                    "2": "155",
                                    "3": "6961",
                                    "4": "0.068"
                                },
                                {
                                    "0": "53109",
                                    "1": "Elrosa",
                                    "2": "155",
                                    "3": "5431",
                                    "4": "0.068"
                                },
                                {
                                    "0": "65312",
                                    "1": "Lilbourn",
                                    "2": "155",
                                    "3": "5945",
                                    "4": "0.068"
                                },
                                {
                                    "0": "91330",
                                    "1": "Royal City",
                                    "2": "155",
                                    "3": "5572",
                                    "4": "0.068"
                                },
                                {
                                    "0": "64360",
                                    "1": "Gardere",
                                    "2": "155",
                                    "3": "5728",
                                    "4": "0.068"
                                },
                                {
                                    "0": "102959",
                                    "1": "Florahome",
                                    "2": "155",
                                    "3": "7576",
                                    "4": "0.068"
                                },
                                {
                                    "0": "40273",
                                    "1": "Boalsburg",
                                    "2": "154",
                                    "3": "7007",
                                    "4": "0.067"
                                },
                                {
                                    "0": "87942",
                                    "1": "Gassaway",
                                    "2": "154",
                                    "3": "4743",
                                    "4": "0.067"
                                },
                                {
                                    "0": "38845",
                                    "1": "Reader",
                                    "2": "154",
                                    "3": "6346",
                                    "4": "0.067"
                                },
                                {
                                    "0": "46448",
                                    "1": "Gardners",
                                    "2": "153",
                                    "3": "5772",
                                    "4": "0.067"
                                },
                                {
                                    "0": "64280",
                                    "1": "Donner",
                                    "2": "153",
                                    "3": "5850",
                                    "4": "0.067"
                                },
                                {
                                    "0": "99051",
                                    "1": "Oley",
                                    "2": "153",
                                    "3": "5801",
                                    "4": "0.067"
                                },
                                {
                                    "0": "40257",
                                    "1": "Black Lick",
                                    "2": "152",
                                    "3": "5794",
                                    "4": "0.067"
                                },
                                {
                                    "0": "64853",
                                    "1": "Cavendish",
                                    "2": "152",
                                    "3": "5897",
                                    "4": "0.067"
                                },
                                {
                                    "0": "50297",
                                    "1": "Wallagrass",
                                    "2": "152",
                                    "3": "4347",
                                    "4": "0.067"
                                },
                                {
                                    "0": "37981",
                                    "1": "Sabinsville",
                                    "2": "151",
                                    "3": "4911",
                                    "4": "0.066"
                                },
                                {
                                    "0": "41238",
                                    "1": "Elverson",
                                    "2": "151",
                                    "3": "5886",
                                    "4": "0.066"
                                },
                                {
                                    "0": "65982",
                                    "1": "Westwater",
                                    "2": "151",
                                    "3": "4722",
                                    "4": "0.066"
                                },
                                {
                                    "0": "45165",
                                    "1": "Weigelstown",
                                    "2": "150",
                                    "3": "5832",
                                    "4": "0.066"
                                },
                                {
                                    "0": "63191",
                                    "1": "White Church",
                                    "2": "150",
                                    "3": "6013",
                                    "4": "0.066"
                                },
                                {
                                    "0": "54729",
                                    "1": "Markville",
                                    "2": "149",
                                    "3": "7244",
                                    "4": "0.065"
                                },
                                {
                                    "0": "113700",
                                    "1": "Cylon",
                                    "2": "149",
                                    "3": "5176",
                                    "4": "0.065"
                                },
                                {
                                    "0": "64414",
                                    "1": "Phelps City",
                                    "2": "149",
                                    "3": "5702",
                                    "4": "0.065"
                                },
                                {
                                    "0": "71783",
                                    "1": "Alstead",
                                    "2": "148",
                                    "3": "6181",
                                    "4": "0.065"
                                },
                                {
                                    "0": "41081",
                                    "1": "Connoquenessing",
                                    "2": "148",
                                    "3": "6547",
                                    "4": "0.065"
                                },
                                {
                                    "0": "110203",
                                    "1": "Delray",
                                    "2": "148",
                                    "3": "5817",
                                    "4": "0.065"
                                },
                                {
                                    "0": "61143",
                                    "1": "Arrow Rock",
                                    "2": "148",
                                    "3": "5505",
                                    "4": "0.065"
                                },
                                {
                                    "0": "54725",
                                    "1": "Marcell",
                                    "2": "146",
                                    "3": "5210",
                                    "4": "0.064"
                                },
                                {
                                    "0": "45092",
                                    "1": "Tunnelhill",
                                    "2": "146",
                                    "3": "5818",
                                    "4": "0.064"
                                },
                                {
                                    "0": "57834",
                                    "1": "Sunburg",
                                    "2": "146",
                                    "3": "5546",
                                    "4": "0.064"
                                },
                                {
                                    "0": "39003",
                                    "1": "Wesson",
                                    "2": "146",
                                    "3": "5033",
                                    "4": "0.064"
                                },
                                {
                                    "0": "61503",
                                    "1": "Edgartown",
                                    "2": "146",
                                    "3": "5915",
                                    "4": "0.064"
                                },
                                {
                                    "0": "53360",
                                    "1": "Lake Crystal",
                                    "2": "145",
                                    "3": "5688",
                                    "4": "0.064"
                                },
                                {
                                    "0": "38886",
                                    "1": "Schaal",
                                    "2": "145",
                                    "3": "6434",
                                    "4": "0.064"
                                },
                                {
                                    "0": "102762",
                                    "1": "Lunds",
                                    "2": "144",
                                    "3": "6454",
                                    "4": "0.063"
                                },
                                {
                                    "0": "66395",
                                    "1": "McAdenville",
                                    "2": "143",
                                    "3": "4921",
                                    "4": "0.063"
                                },
                                {
                                    "0": "61191",
                                    "1": "Bernie",
                                    "2": "143",
                                    "3": "6032",
                                    "4": "0.063"
                                },
                                {
                                    "0": "41159",
                                    "1": "Downingtown",
                                    "2": "143",
                                    "3": "5781",
                                    "4": "0.063"
                                },
                                {
                                    "0": "65311",
                                    "1": "Licking",
                                    "2": "143",
                                    "3": "4828",
                                    "4": "0.063"
                                },
                                {
                                    "0": "62954",
                                    "1": "Larose",
                                    "2": "143",
                                    "3": "6045",
                                    "4": "0.063"
                                },
                                {
                                    "0": "64370",
                                    "1": "Olivette",
                                    "2": "142",
                                    "3": "4638",
                                    "4": "0.062"
                                },
                                {
                                    "0": "52156",
                                    "1": "Hodgdon",
                                    "2": "142",
                                    "3": "5859",
                                    "4": "0.062"
                                },
                                {
                                    "0": "71855",
                                    "1": "Gilford",
                                    "2": "142",
                                    "3": "4791",
                                    "4": "0.062"
                                },
                                {
                                    "0": "56294",
                                    "1": "Deer River",
                                    "2": "141",
                                    "3": "5992",
                                    "4": "0.062"
                                },
                                {
                                    "0": "60328",
                                    "1": "Plaquemine",
                                    "2": "140",
                                    "3": "5278",
                                    "4": "0.061"
                                },
                                {
                                    "0": "87937",
                                    "1": "Gallipolis Ferry",
                                    "2": "140",
                                    "3": "5740",
                                    "4": "0.061"
                                },
                                {
                                    "0": "46186",
                                    "1": "Edmund",
                                    "2": "140",
                                    "3": "6169",
                                    "4": "0.061"
                                },
                                {
                                    "0": "64141",
                                    "1": "Bayou Cane",
                                    "2": "140",
                                    "3": "5506",
                                    "4": "0.061"
                                },
                                {
                                    "0": "39337",
                                    "1": "Arbor Vitae",
                                    "2": "140",
                                    "3": "6379",
                                    "4": "0.061"
                                },
                                {
                                    "0": "38135",
                                    "1": "Stoneboro",
                                    "2": "140",
                                    "3": "5737",
                                    "4": "0.061"
                                },
                                {
                                    "0": "66303",
                                    "1": "Kannapolis",
                                    "2": "139",
                                    "3": "5312",
                                    "4": "0.061"
                                },
                                {
                                    "0": "109282",
                                    "1": "Lunds",
                                    "2": "139",
                                    "3": "5577",
                                    "4": "0.061"
                                },
                                {
                                    "0": "56140",
                                    "1": "Biscay",
                                    "2": "138",
                                    "3": "6377",
                                    "4": "0.060"
                                },
                                {
                                    "0": "43652",
                                    "1": "Necedah",
                                    "2": "138",
                                    "3": "4949",
                                    "4": "0.060"
                                },
                                {
                                    "0": "56239",
                                    "1": "Cloquet",
                                    "2": "138",
                                    "3": "4391",
                                    "4": "0.060"
                                },
                                {
                                    "0": "108864",
                                    "1": "Port Hueneme",
                                    "2": "136",
                                    "3": "4933",
                                    "4": "0.060"
                                },
                                {
                                    "0": "41967",
                                    "1": "Grannis",
                                    "2": "136",
                                    "3": "5828",
                                    "4": "0.060"
                                },
                                {
                                    "0": "44106",
                                    "1": "Nehawka",
                                    "2": "136",
                                    "3": "5393",
                                    "4": "0.060"
                                },
                                {
                                    "0": "44275",
                                    "1": "Tamora",
                                    "2": "136",
                                    "3": "5161",
                                    "4": "0.060"
                                },
                                {
                                    "0": "71859",
                                    "1": "Goffstown",
                                    "2": "136",
                                    "3": "5440",
                                    "4": "0.060"
                                },
                                {
                                    "0": "46583",
                                    "1": "Homer City",
                                    "2": "135",
                                    "3": "5075",
                                    "4": "0.059"
                                },
                                {
                                    "0": "60983",
                                    "1": "Humansville",
                                    "2": "135",
                                    "3": "4643",
                                    "4": "0.059"
                                },
                                {
                                    "0": "39504",
                                    "1": "Chetek",
                                    "2": "135",
                                    "3": "6673",
                                    "4": "0.059"
                                },
                                {
                                    "0": "64565",
                                    "1": "Shell Knob",
                                    "2": "135",
                                    "3": "5426",
                                    "4": "0.059"
                                },
                                {
                                    "0": "38043",
                                    "1": "Shay",
                                    "2": "135",
                                    "3": "4679",
                                    "4": "0.059"
                                },
                                {
                                    "0": "53091",
                                    "1": "Eden Valley",
                                    "2": "134",
                                    "3": "4730",
                                    "4": "0.059"
                                },
                                {
                                    "0": "45084",
                                    "1": "Trout Run",
                                    "2": "134",
                                    "3": "4922",
                                    "4": "0.059"
                                },
                                {
                                    "0": "87371",
                                    "1": "Trilby",
                                    "2": "133",
                                    "3": "4986",
                                    "4": "0.058"
                                },
                                {
                                    "0": "115690",
                                    "1": "Kerby",
                                    "2": "133",
                                    "3": "5793",
                                    "4": "0.058"
                                },
                                {
                                    "0": "41981",
                                    "1": "Grider",
                                    "2": "133",
                                    "3": "4390",
                                    "4": "0.058"
                                },
                                {
                                    "0": "98491",
                                    "1": "Oriole Beach",
                                    "2": "133",
                                    "3": "4101",
                                    "4": "0.058"
                                },
                                {
                                    "0": "42583",
                                    "1": "Nuangola",
                                    "2": "132",
                                    "3": "4497",
                                    "4": "0.058"
                                },
                                {
                                    "0": "106912",
                                    "1": "Dahlia",
                                    "2": "132",
                                    "3": "6042",
                                    "4": "0.058"
                                },
                                {
                                    "0": "43990",
                                    "1": "Howells",
                                    "2": "132",
                                    "3": "4845",
                                    "4": "0.058"
                                },
                                {
                                    "0": "38199",
                                    "1": "Toughkenamon",
                                    "2": "132",
                                    "3": "4857",
                                    "4": "0.058"
                                },
                                {
                                    "0": "112304",
                                    "1": "Lake Stevens",
                                    "2": "131",
                                    "3": "4835",
                                    "4": "0.057"
                                },
                                {
                                    "0": "110283",
                                    "1": "Hambleton",
                                    "2": "130",
                                    "3": "5711",
                                    "4": "0.057"
                                },
                                {
                                    "0": "97270",
                                    "1": "Manchester Center",
                                    "2": "130",
                                    "3": "4821",
                                    "4": "0.057"
                                },
                                {
                                    "0": "104594",
                                    "1": "Meaux",
                                    "2": "130",
                                    "3": "5362",
                                    "4": "0.057"
                                },
                                {
                                    "0": "67833",
                                    "1": "Valhalla",
                                    "2": "129",
                                    "3": "4586",
                                    "4": "0.057"
                                },
                                {
                                    "0": "39371",
                                    "1": "Baraboo",
                                    "2": "129",
                                    "3": "5294",
                                    "4": "0.057"
                                },
                                {
                                    "0": "61956",
                                    "1": "Carbonville",
                                    "2": "129",
                                    "3": "5475",
                                    "4": "0.057"
                                },
                                {
                                    "0": "53792",
                                    "1": "Rockwall",
                                    "2": "129",
                                    "3": "5214",
                                    "4": "0.057"
                                },
                                {
                                    "0": "50290",
                                    "1": "Vassalboro",
                                    "2": "128",
                                    "3": "5674",
                                    "4": "0.056"
                                },
                                {
                                    "0": "50305",
                                    "1": "Weld",
                                    "2": "128",
                                    "3": "3768",
                                    "4": "0.056"
                                },
                                {
                                    "0": "43979",
                                    "1": "Mount Pocono",
                                    "2": "127",
                                    "3": "5564",
                                    "4": "0.056"
                                },
                                {
                                    "0": "109455",
                                    "1": "Oconto Falls",
                                    "2": "127",
                                    "3": "5658",
                                    "4": "0.056"
                                },
                                {
                                    "0": "84327",
                                    "1": "Lynne",
                                    "2": "126",
                                    "3": "5202",
                                    "4": "0.055"
                                },
                                {
                                    "0": "60508",
                                    "1": "North Eastham",
                                    "2": "126",
                                    "3": "4911",
                                    "4": "0.055"
                                },
                                {
                                    "0": "52099",
                                    "1": "Edgecomb",
                                    "2": "126",
                                    "3": "4671",
                                    "4": "0.055"
                                },
                                {
                                    "0": "51999",
                                    "1": "Beals",
                                    "2": "126",
                                    "3": "5237",
                                    "4": "0.055"
                                },
                                {
                                    "0": "46657",
                                    "1": "Karthaus",
                                    "2": "126",
                                    "3": "4399",
                                    "4": "0.055"
                                },
                                {
                                    "0": "87354",
                                    "1": "Tavares",
                                    "2": "125",
                                    "3": "4905",
                                    "4": "0.055"
                                },
                                {
                                    "0": "110541",
                                    "1": "Fieldbrook",
                                    "2": "125",
                                    "3": "6058",
                                    "4": "0.055"
                                },
                                {
                                    "0": "76207",
                                    "1": "Bakers Mill",
                                    "2": "125",
                                    "3": "4820",
                                    "4": "0.055"
                                },
                                {
                                    "0": "65501",
                                    "1": "Jane",
                                    "2": "125",
                                    "3": "4405",
                                    "4": "0.055"
                                },
                                {
                                    "0": "43292",
                                    "1": "Cale",
                                    "2": "125",
                                    "3": "5157",
                                    "4": "0.055"
                                },
                                {
                                    "0": "84249",
                                    "1": "Key Biscayne",
                                    "2": "124",
                                    "3": "5454",
                                    "4": "0.054"
                                },
                                {
                                    "0": "46292",
                                    "1": "Grantsburg",
                                    "2": "124",
                                    "3": "5274",
                                    "4": "0.054"
                                },
                                {
                                    "0": "62933",
                                    "1": "Kinder",
                                    "2": "124",
                                    "3": "5379",
                                    "4": "0.054"
                                },
                                {
                                    "0": "108171",
                                    "1": "Placer",
                                    "2": "123",
                                    "3": "6311",
                                    "4": "0.054"
                                },
                                {
                                    "0": "72594",
                                    "1": "Willow Valley",
                                    "2": "123",
                                    "3": "5102",
                                    "4": "0.054"
                                },
                                {
                                    "0": "64966",
                                    "1": "Pawlet",
                                    "2": "123",
                                    "3": "5380",
                                    "4": "0.054"
                                },
                                {
                                    "0": "65040",
                                    "1": "Wells",
                                    "2": "123",
                                    "3": "5526",
                                    "4": "0.054"
                                },
                                {
                                    "0": "86242",
                                    "1": "Great Neck",
                                    "2": "123",
                                    "3": "4113",
                                    "4": "0.054"
                                },
                                {
                                    "0": "109834",
                                    "1": "Mayhill",
                                    "2": "123",
                                    "3": "5056",
                                    "4": "0.054"
                                },
                                {
                                    "0": "43847",
                                    "1": "Marguerite",
                                    "2": "122",
                                    "3": "5276",
                                    "4": "0.053"
                                },
                                {
                                    "0": "109928",
                                    "1": "Puerto de Luna",
                                    "2": "122",
                                    "3": "4823",
                                    "4": "0.053"
                                },
                                {
                                    "0": "97381",
                                    "1": "Wells",
                                    "2": "122",
                                    "3": "5045",
                                    "4": "0.053"
                                },
                                {
                                    "0": "110549",
                                    "1": "Floriston",
                                    "2": "122",
                                    "3": "5622",
                                    "4": "0.053"
                                },
                                {
                                    "0": "66274",
                                    "1": "Holden Beach",
                                    "2": "122",
                                    "3": "4246",
                                    "4": "0.053"
                                },
                                {
                                    "0": "91567",
                                    "1": "Wray",
                                    "2": "122",
                                    "3": "4091",
                                    "4": "0.053"
                                },
                                {
                                    "0": "37965",
                                    "1": "Rothsville",
                                    "2": "122",
                                    "3": "5551",
                                    "4": "0.053"
                                },
                                {
                                    "0": "106838",
                                    "1": "Cañon",
                                    "2": "121",
                                    "3": "4152",
                                    "4": "0.053"
                                },
                                {
                                    "0": "57753",
                                    "1": "Saint Louis Park",
                                    "2": "121",
                                    "3": "4131",
                                    "4": "0.053"
                                },
                                {
                                    "0": "46952",
                                    "1": "Heartwell",
                                    "2": "121",
                                    "3": "4769",
                                    "4": "0.053"
                                },
                                {
                                    "0": "108743",
                                    "1": "Trentwood",
                                    "2": "121",
                                    "3": "4082",
                                    "4": "0.053"
                                },
                                {
                                    "0": "56111",
                                    "1": "Beaver Bay",
                                    "2": "120",
                                    "3": "4559",
                                    "4": "0.053"
                                },
                                {
                                    "0": "112897",
                                    "1": "Jesmond Dene",
                                    "2": "120",
                                    "3": "4362",
                                    "4": "0.053"
                                },
                                {
                                    "0": "112081",
                                    "1": "Bombay Beach",
                                    "2": "120",
                                    "3": "4415",
                                    "4": "0.053"
                                },
                                {
                                    "0": "108636",
                                    "1": "Royal City",
                                    "2": "120",
                                    "3": "5051",
                                    "4": "0.053"
                                },
                                {
                                    "0": "102885",
                                    "1": "Necedah",
                                    "2": "119",
                                    "3": "4899",
                                    "4": "0.052"
                                },
                                {
                                    "0": "107413",
                                    "1": "Slanesville",
                                    "2": "119",
                                    "3": "4277",
                                    "4": "0.052"
                                },
                                {
                                    "0": "73446",
                                    "1": "Cortaro",
                                    "2": "119",
                                    "3": "4063",
                                    "4": "0.052"
                                },
                                {
                                    "0": "82801",
                                    "1": "Compass Lake",
                                    "2": "119",
                                    "3": "5727",
                                    "4": "0.052"
                                },
                                {
                                    "0": "60696",
                                    "1": "White Horse Beach",
                                    "2": "119",
                                    "3": "4977",
                                    "4": "0.052"
                                },
                                {
                                    "0": "107027",
                                    "1": "La Cueva",
                                    "2": "118",
                                    "3": "5519",
                                    "4": "0.052"
                                },
                                {
                                    "0": "106911",
                                    "1": "Cuyamungue",
                                    "2": "118",
                                    "3": "4955",
                                    "4": "0.052"
                                },
                                {
                                    "0": "40339",
                                    "1": "Cadogan",
                                    "2": "118",
                                    "3": "4571",
                                    "4": "0.052"
                                },
                                {
                                    "0": "113447",
                                    "1": "Tilleda",
                                    "2": "118",
                                    "3": "4797",
                                    "4": "0.052"
                                },
                                {
                                    "0": "108678",
                                    "1": "Skyway",
                                    "2": "118",
                                    "3": "4306",
                                    "4": "0.052"
                                },
                                {
                                    "0": "111746",
                                    "1": "Broomtown",
                                    "2": "118",
                                    "3": "4525",
                                    "4": "0.052"
                                },
                                {
                                    "0": "108137",
                                    "1": "Newberg",
                                    "2": "117",
                                    "3": "3751",
                                    "4": "0.051"
                                },
                                {
                                    "0": "108054",
                                    "1": "Armstrong Creek",
                                    "2": "117",
                                    "3": "4225",
                                    "4": "0.051"
                                },
                                {
                                    "0": "42613",
                                    "1": "Oval",
                                    "2": "117",
                                    "3": "4325",
                                    "4": "0.051"
                                },
                                {
                                    "0": "82793",
                                    "1": "Cloud Lake",
                                    "2": "117",
                                    "3": "4375",
                                    "4": "0.051"
                                },
                                {
                                    "0": "113251",
                                    "1": "Segundo",
                                    "2": "117",
                                    "3": "4123",
                                    "4": "0.051"
                                },
                                {
                                    "0": "110491",
                                    "1": "El Centro",
                                    "2": "116",
                                    "3": "3730",
                                    "4": "0.051"
                                },
                                {
                                    "0": "61044",
                                    "1": "Scofield",
                                    "2": "116",
                                    "3": "5292",
                                    "4": "0.051"
                                },
                                {
                                    "0": "108294",
                                    "1": "Wasco",
                                    "2": "116",
                                    "3": "4142",
                                    "4": "0.051"
                                },
                                {
                                    "0": "111048",
                                    "1": "Marion Junction",
                                    "2": "116",
                                    "3": "4140",
                                    "4": "0.051"
                                },
                                {
                                    "0": "56244",
                                    "1": "Cokato",
                                    "2": "116",
                                    "3": "4463",
                                    "4": "0.051"
                                },
                                {
                                    "0": "114000",
                                    "1": "Antonito",
                                    "2": "116",
                                    "3": "4142",
                                    "4": "0.051"
                                },
                                {
                                    "0": "109124",
                                    "1": "Lytle Creek",
                                    "2": "116",
                                    "3": "3929",
                                    "4": "0.051"
                                },
                                {
                                    "0": "61597",
                                    "1": "Madaket",
                                    "2": "115",
                                    "3": "3881",
                                    "4": "0.050"
                                },
                                {
                                    "0": "113171",
                                    "1": "Orchard Mesa",
                                    "2": "115",
                                    "3": "3513",
                                    "4": "0.050"
                                },
                                {
                                    "0": "87378",
                                    "1": "Vamo",
                                    "2": "115",
                                    "3": "4807",
                                    "4": "0.050"
                                },
                                {
                                    "0": "64642",
                                    "1": "Tiff City",
                                    "2": "115",
                                    "3": "3993",
                                    "4": "0.050"
                                },
                                {
                                    "0": "108354",
                                    "1": "Cavendish",
                                    "2": "114",
                                    "3": "5010",
                                    "4": "0.050"
                                },
                                {
                                    "0": "109688",
                                    "1": "Orick",
                                    "2": "113",
                                    "3": "4740",
                                    "4": "0.050"
                                },
                                {
                                    "0": "112167",
                                    "1": "Caruthers",
                                    "2": "113",
                                    "3": "4239",
                                    "4": "0.050"
                                },
                                {
                                    "0": "40225",
                                    "1": "Bell Acres",
                                    "2": "113",
                                    "3": "4650",
                                    "4": "0.050"
                                },
                                {
                                    "0": "84344",
                                    "1": "Mary Esther",
                                    "2": "113",
                                    "3": "3890",
                                    "4": "0.050"
                                },
                                {
                                    "0": "113354",
                                    "1": "Sayner",
                                    "2": "113",
                                    "3": "4915",
                                    "4": "0.050"
                                },
                                {
                                    "0": "108466",
                                    "1": "Panton",
                                    "2": "113",
                                    "3": "3418",
                                    "4": "0.050"
                                },
                                {
                                    "0": "108660",
                                    "1": "Sekiu",
                                    "2": "113",
                                    "3": "3504",
                                    "4": "0.050"
                                },
                                {
                                    "0": "87419",
                                    "1": "West Frostproof",
                                    "2": "112",
                                    "3": "4735",
                                    "4": "0.049"
                                },
                                {
                                    "0": "108467",
                                    "1": "Pawlet",
                                    "2": "112",
                                    "3": "3876",
                                    "4": "0.049"
                                },
                                {
                                    "0": "114085",
                                    "1": "Cheyenne Wells",
                                    "2": "111",
                                    "3": "5532",
                                    "4": "0.049"
                                },
                                {
                                    "0": "109858",
                                    "1": "Moquino",
                                    "2": "111",
                                    "3": "4520",
                                    "4": "0.049"
                                },
                                {
                                    "0": "108290",
                                    "1": "Wapinitia",
                                    "2": "110",
                                    "3": "3728",
                                    "4": "0.048"
                                },
                                {
                                    "0": "114038",
                                    "1": "Bow Mar",
                                    "2": "110",
                                    "3": "5632",
                                    "4": "0.048"
                                },
                                {
                                    "0": "109936",
                                    "1": "Raton",
                                    "2": "110",
                                    "3": "4608",
                                    "4": "0.048"
                                },
                                {
                                    "0": "112931",
                                    "1": "Knights Landing",
                                    "2": "110",
                                    "3": "3516",
                                    "4": "0.048"
                                },
                                {
                                    "0": "109634",
                                    "1": "Nicasio",
                                    "2": "109",
                                    "3": "5462",
                                    "4": "0.048"
                                },
                                {
                                    "0": "110908",
                                    "1": "Guin",
                                    "2": "109",
                                    "3": "3603",
                                    "4": "0.048"
                                },
                                {
                                    "0": "114087",
                                    "1": "Chipita Park",
                                    "2": "109",
                                    "3": "4089",
                                    "4": "0.048"
                                },
                                {
                                    "0": "69540",
                                    "1": "East Fultonham",
                                    "2": "108",
                                    "3": "3739",
                                    "4": "0.047"
                                },
                                {
                                    "0": "78610",
                                    "1": "Bozeman Hot Springs",
                                    "2": "108",
                                    "3": "3657",
                                    "4": "0.047"
                                },
                                {
                                    "0": "107607",
                                    "1": "Twin Peaks",
                                    "2": "108",
                                    "3": "4226",
                                    "4": "0.047"
                                },
                                {
                                    "0": "84269",
                                    "1": "Lake Clarke Shores",
                                    "2": "108",
                                    "3": "4353",
                                    "4": "0.047"
                                },
                                {
                                    "0": "107510",
                                    "1": "Stallion Springs",
                                    "2": "108",
                                    "3": "4883",
                                    "4": "0.047"
                                },
                                {
                                    "0": "109856",
                                    "1": "Montoya",
                                    "2": "108",
                                    "3": "4416",
                                    "4": "0.047"
                                },
                                {
                                    "0": "112063",
                                    "1": "Biggs",
                                    "2": "107",
                                    "3": "4555",
                                    "4": "0.047"
                                },
                                {
                                    "0": "113196",
                                    "1": "Pikeview",
                                    "2": "107",
                                    "3": "4007",
                                    "4": "0.047"
                                },
                                {
                                    "0": "97733",
                                    "1": "Arbor Vitae",
                                    "2": "106",
                                    "3": "4163",
                                    "4": "0.046"
                                },
                                {
                                    "0": "97194",
                                    "1": "Cavendish",
                                    "2": "106",
                                    "3": "3818",
                                    "4": "0.046"
                                },
                                {
                                    "0": "107721",
                                    "1": "Yermo",
                                    "2": "106",
                                    "3": "2625",
                                    "4": "0.046"
                                },
                                {
                                    "0": "108770",
                                    "1": "Venersborg",
                                    "2": "106",
                                    "3": "4872",
                                    "4": "0.046"
                                },
                                {
                                    "0": "113258",
                                    "1": "Silver Plume",
                                    "2": "106",
                                    "3": "4920",
                                    "4": "0.046"
                                },
                                {
                                    "0": "112291",
                                    "1": "Koontzville",
                                    "2": "105",
                                    "3": "3673",
                                    "4": "0.046"
                                },
                                {
                                    "0": "111992",
                                    "1": "Arrowbear Lake",
                                    "2": "105",
                                    "3": "4158",
                                    "4": "0.046"
                                },
                                {
                                    "0": "113642",
                                    "1": "Chetek",
                                    "2": "105",
                                    "3": "5484",
                                    "4": "0.046"
                                },
                                {
                                    "0": "107623",
                                    "1": "Valley View Park",
                                    "2": "105",
                                    "3": "4024",
                                    "4": "0.046"
                                },
                                {
                                    "0": "113033",
                                    "1": "Lompoc",
                                    "2": "105",
                                    "3": "3193",
                                    "4": "0.046"
                                },
                                {
                                    "0": "112962",
                                    "1": "Lake Davis",
                                    "2": "105",
                                    "3": "4029",
                                    "4": "0.046"
                                },
                                {
                                    "0": "111804",
                                    "1": "Coker",
                                    "2": "105",
                                    "3": "4145",
                                    "4": "0.046"
                                },
                                {
                                    "0": "111877",
                                    "1": "Eulaton",
                                    "2": "104",
                                    "3": "4318",
                                    "4": "0.046"
                                },
                                {
                                    "0": "72456",
                                    "1": "Red Mesa",
                                    "2": "104",
                                    "3": "3358",
                                    "4": "0.046"
                                },
                                {
                                    "0": "41975",
                                    "1": "Greenfield",
                                    "2": "103",
                                    "3": "4692",
                                    "4": "0.045"
                                },
                                {
                                    "0": "97767",
                                    "1": "Baraboo",
                                    "2": "103",
                                    "3": "3727",
                                    "4": "0.045"
                                },
                                {
                                    "0": "107492",
                                    "1": "South Laguna",
                                    "2": "103",
                                    "3": "3546",
                                    "4": "0.045"
                                },
                                {
                                    "0": "109827",
                                    "1": "Madrone",
                                    "2": "103",
                                    "3": "4545",
                                    "4": "0.045"
                                },
                                {
                                    "0": "108430",
                                    "1": "Manchester Center",
                                    "2": "102",
                                    "3": "3591",
                                    "4": "0.045"
                                },
                                {
                                    "0": "107539",
                                    "1": "Taft Heights",
                                    "2": "102",
                                    "3": "3882",
                                    "4": "0.045"
                                },
                                {
                                    "0": "113126",
                                    "1": "McClave",
                                    "2": "101",
                                    "3": "3586",
                                    "4": "0.044"
                                },
                                {
                                    "0": "107753",
                                    "1": "Amanda Park",
                                    "2": "101",
                                    "3": "3582",
                                    "4": "0.044"
                                },
                                {
                                    "0": "112863",
                                    "1": "Idria",
                                    "2": "101",
                                    "3": "3930",
                                    "4": "0.044"
                                },
                                {
                                    "0": "85134",
                                    "1": "Twodot",
                                    "2": "101",
                                    "3": "2698",
                                    "4": "0.044"
                                },
                                {
                                    "0": "113998",
                                    "1": "Andrix",
                                    "2": "101",
                                    "3": "3690",
                                    "4": "0.044"
                                },
                                {
                                    "0": "97307",
                                    "1": "Pawlet",
                                    "2": "101",
                                    "3": "4088",
                                    "4": "0.044"
                                },
                                {
                                    "0": "85117",
                                    "1": "Sylvanite",
                                    "2": "100",
                                    "3": "4593",
                                    "4": "0.044"
                                },
                                {
                                    "0": "94014",
                                    "1": "Grantsburg",
                                    "2": "100",
                                    "3": "3416",
                                    "4": "0.044"
                                },
                                {
                                    "0": "87366",
                                    "1": "Tierra Verde",
                                    "2": "100",
                                    "3": "4142",
                                    "4": "0.044"
                                },
                                {
                                    "0": "111100",
                                    "1": "Nanafalia",
                                    "2": "99",
                                    "3": "3861",
                                    "4": "0.043"
                                },
                                {
                                    "0": "97958",
                                    "1": "Cylon",
                                    "2": "99",
                                    "3": "4002",
                                    "4": "0.043"
                                },
                                {
                                    "0": "110251",
                                    "1": "Gallipolis Ferry",
                                    "2": "99",
                                    "3": "3485",
                                    "4": "0.043"
                                },
                                {
                                    "0": "82792",
                                    "1": "Clewiston",
                                    "2": "99",
                                    "3": "3321",
                                    "4": "0.043"
                                },
                                {
                                    "0": "70409",
                                    "1": "Bladenboro",
                                    "2": "99",
                                    "3": "3654",
                                    "4": "0.043"
                                },
                                {
                                    "0": "112646",
                                    "1": "Grantsburg",
                                    "2": "98",
                                    "3": "3614",
                                    "4": "0.043"
                                },
                                {
                                    "0": "114952",
                                    "1": "Tuscaloosa",
                                    "2": "98",
                                    "3": "4071",
                                    "4": "0.043"
                                },
                                {
                                    "0": "108881",
                                    "1": "Rail Road Flat",
                                    "2": "98",
                                    "3": "4226",
                                    "4": "0.043"
                                },
                                {
                                    "0": "97742",
                                    "1": "Armstrong Creek",
                                    "2": "98",
                                    "3": "3600",
                                    "4": "0.043"
                                },
                                {
                                    "0": "108045",
                                    "1": "Arbor Vitae",
                                    "2": "98",
                                    "3": "3792",
                                    "4": "0.043"
                                },
                                {
                                    "0": "109758",
                                    "1": "Vollmar",
                                    "2": "98",
                                    "3": "3875",
                                    "4": "0.043"
                                },
                                {
                                    "0": "98256",
                                    "1": "Sayner",
                                    "2": "97",
                                    "3": "4227",
                                    "4": "0.042"
                                },
                                {
                                    "0": "111706",
                                    "1": "Belgreen",
                                    "2": "97",
                                    "3": "3893",
                                    "4": "0.042"
                                },
                                {
                                    "0": "114899",
                                    "1": "Southside",
                                    "2": "97",
                                    "3": "4341",
                                    "4": "0.042"
                                },
                                {
                                    "0": "108919",
                                    "1": "Ridgemark",
                                    "2": "97",
                                    "3": "5041",
                                    "4": "0.042"
                                },
                                {
                                    "0": "114058",
                                    "1": "Byers",
                                    "2": "97",
                                    "3": "3772",
                                    "4": "0.042"
                                },
                                {
                                    "0": "110256",
                                    "1": "Gassaway",
                                    "2": "97",
                                    "3": "3781",
                                    "4": "0.042"
                                },
                                {
                                    "0": "108988",
                                    "1": "San Jacinto",
                                    "2": "97",
                                    "3": "3987",
                                    "4": "0.042"
                                },
                                {
                                    "0": "110978",
                                    "1": "Jemison",
                                    "2": "96",
                                    "3": "3867",
                                    "4": "0.042"
                                },
                                {
                                    "0": "114008",
                                    "1": "Aspen Park",
                                    "2": "95",
                                    "3": "3807",
                                    "4": "0.042"
                                },
                                {
                                    "0": "103906",
                                    "1": "Lancaster",
                                    "2": "95",
                                    "3": "3091",
                                    "4": "0.042"
                                },
                                {
                                    "0": "97900",
                                    "1": "Chetek",
                                    "2": "94",
                                    "3": "3531",
                                    "4": "0.041"
                                },
                                {
                                    "0": "108758",
                                    "1": "Upper Preston",
                                    "2": "94",
                                    "3": "3741",
                                    "4": "0.041"
                                },
                                {
                                    "0": "114856",
                                    "1": "Saks",
                                    "2": "94",
                                    "3": "4088",
                                    "4": "0.041"
                                },
                                {
                                    "0": "48833",
                                    "1": "Biggs",
                                    "2": "94",
                                    "3": "4072",
                                    "4": "0.041"
                                },
                                {
                                    "0": "61336",
                                    "1": "Claycomo",
                                    "2": "93",
                                    "3": "4440",
                                    "4": "0.041"
                                },
                                {
                                    "0": "106901",
                                    "1": "Crossroads",
                                    "2": "93",
                                    "3": "3734",
                                    "4": "0.041"
                                },
                                {
                                    "0": "75266",
                                    "1": "Teutopolis",
                                    "2": "93",
                                    "3": "3093",
                                    "4": "0.041"
                                },
                                {
                                    "0": "114122",
                                    "1": "Dacono",
                                    "2": "92",
                                    "3": "3945",
                                    "4": "0.040"
                                },
                                {
                                    "0": "112965",
                                    "1": "Lake Hughes",
                                    "2": "92",
                                    "3": "2832",
                                    "4": "0.040"
                                },
                                {
                                    "0": "112350",
                                    "1": "Malott",
                                    "2": "92",
                                    "3": "3220",
                                    "4": "0.040"
                                },
                                {
                                    "0": "111993",
                                    "1": "Arrowhead Highlands",
                                    "2": "92",
                                    "3": "3985",
                                    "4": "0.040"
                                },
                                {
                                    "0": "102209",
                                    "1": "Liberty Plain",
                                    "2": "92",
                                    "3": "4474",
                                    "4": "0.040"
                                },
                                {
                                    "0": "42646",
                                    "1": "Penns Creek",
                                    "2": "91",
                                    "3": "3185",
                                    "4": "0.040"
                                },
                                {
                                    "0": "112008",
                                    "1": "Avenal",
                                    "2": "91",
                                    "3": "3057",
                                    "4": "0.040"
                                },
                                {
                                    "0": "78724",
                                    "1": "Fishtail",
                                    "2": "91",
                                    "3": "3586",
                                    "4": "0.040"
                                },
                                {
                                    "0": "114145",
                                    "1": "East Portal",
                                    "2": "89",
                                    "3": "3016",
                                    "4": "0.039"
                                },
                                {
                                    "0": "110140",
                                    "1": "Bruceton Mills",
                                    "2": "89",
                                    "3": "4306",
                                    "4": "0.039"
                                },
                                {
                                    "0": "109898",
                                    "1": "Pastura",
                                    "2": "89",
                                    "3": "2785",
                                    "4": "0.039"
                                },
                                {
                                    "0": "107442",
                                    "1": "Triadelphia",
                                    "2": "89",
                                    "3": "3489",
                                    "4": "0.039"
                                },
                                {
                                    "0": "115719",
                                    "1": "Lostine",
                                    "2": "88",
                                    "3": "3125",
                                    "4": "0.039"
                                },
                                {
                                    "0": "114842",
                                    "1": "Robertsdale",
                                    "2": "88",
                                    "3": "3591",
                                    "4": "0.039"
                                },
                                {
                                    "0": "97306",
                                    "1": "Panton",
                                    "2": "88",
                                    "3": "3920",
                                    "4": "0.039"
                                },
                                {
                                    "0": "111898",
                                    "1": "Flomaton",
                                    "2": "87",
                                    "3": "3743",
                                    "4": "0.038"
                                },
                                {
                                    "0": "111702",
                                    "1": "Bazemore",
                                    "2": "87",
                                    "3": "3214",
                                    "4": "0.038"
                                },
                                {
                                    "0": "109874",
                                    "1": "New Laguna",
                                    "2": "87",
                                    "3": "2634",
                                    "4": "0.038"
                                },
                                {
                                    "0": "48409",
                                    "1": "Lynne",
                                    "2": "87",
                                    "3": "2727",
                                    "4": "0.038"
                                },
                                {
                                    "0": "114022",
                                    "1": "Bergen Park",
                                    "2": "86",
                                    "3": "3473",
                                    "4": "0.038"
                                },
                                {
                                    "0": "109405",
                                    "1": "Necedah",
                                    "2": "86",
                                    "3": "3657",
                                    "4": "0.038"
                                },
                                {
                                    "0": "109132",
                                    "1": "Magalia",
                                    "2": "86",
                                    "3": "2827",
                                    "4": "0.038"
                                },
                                {
                                    "0": "107284",
                                    "1": "Middleway",
                                    "2": "85",
                                    "3": "2868",
                                    "4": "0.037"
                                },
                                {
                                    "0": "114847",
                                    "1": "Rogersville",
                                    "2": "84",
                                    "3": "3327",
                                    "4": "0.037"
                                },
                                {
                                    "0": "112540",
                                    "1": "Edmund",
                                    "2": "84",
                                    "3": "3176",
                                    "4": "0.037"
                                },
                                {
                                    "0": "107383",
                                    "1": "Robertsburg",
                                    "2": "84",
                                    "3": "2999",
                                    "4": "0.037"
                                },
                                {
                                    "0": "78767",
                                    "1": "Greycliff",
                                    "2": "84",
                                    "3": "3648",
                                    "4": "0.037"
                                },
                                {
                                    "0": "93908",
                                    "1": "Edmund",
                                    "2": "84",
                                    "3": "3309",
                                    "4": "0.037"
                                },
                                {
                                    "0": "109889",
                                    "1": "Optimo",
                                    "2": "82",
                                    "3": "3538",
                                    "4": "0.036"
                                },
                                {
                                    "0": "88809",
                                    "1": "Naples Park",
                                    "2": "82",
                                    "3": "3287",
                                    "4": "0.036"
                                },
                                {
                                    "0": "110220",
                                    "1": "Elk Garden",
                                    "2": "82",
                                    "3": "3847",
                                    "4": "0.036"
                                },
                                {
                                    "0": "110600",
                                    "1": "Glen Avon",
                                    "2": "82",
                                    "3": "4889",
                                    "4": "0.036"
                                },
                                {
                                    "0": "76193",
                                    "1": "Astor Park",
                                    "2": "82",
                                    "3": "3025",
                                    "4": "0.036"
                                },
                                {
                                    "0": "107878",
                                    "1": "College Place",
                                    "2": "82",
                                    "3": "2902",
                                    "4": "0.036"
                                },
                                {
                                    "0": "48331",
                                    "1": "Key Biscayne",
                                    "2": "81",
                                    "3": "3998",
                                    "4": "0.035"
                                },
                                {
                                    "0": "87402",
                                    "1": "Ward Ridge",
                                    "2": "81",
                                    "3": "2729",
                                    "4": "0.035"
                                },
                                {
                                    "0": "109791",
                                    "1": "Wray",
                                    "2": "81",
                                    "3": "2930",
                                    "4": "0.035"
                                },
                                {
                                    "0": "110080",
                                    "1": "Annamoriah",
                                    "2": "81",
                                    "3": "3698",
                                    "4": "0.035"
                                },
                                {
                                    "0": "107255",
                                    "1": "Lorentz",
                                    "2": "81",
                                    "3": "3057",
                                    "4": "0.035"
                                },
                                {
                                    "0": "50784",
                                    "1": "Glen Park",
                                    "2": "81",
                                    "3": "3488",
                                    "4": "0.035"
                                },
                                {
                                    "0": "50539",
                                    "1": "Conesus Lake",
                                    "2": "81",
                                    "3": "3464",
                                    "4": "0.035"
                                },
                                {
                                    "0": "98349",
                                    "1": "Tilleda",
                                    "2": "81",
                                    "3": "2249",
                                    "4": "0.035"
                                },
                                {
                                    "0": "108541",
                                    "1": "Wells",
                                    "2": "80",
                                    "3": "3031",
                                    "4": "0.035"
                                },
                                {
                                    "0": "82716",
                                    "1": "Bokeelia",
                                    "2": "80",
                                    "3": "2520",
                                    "4": "0.035"
                                },
                                {
                                    "0": "115533",
                                    "1": "Cave Junction",
                                    "2": "79",
                                    "3": "3397",
                                    "4": "0.035"
                                },
                                {
                                    "0": "78550",
                                    "1": "Yaak",
                                    "2": "79",
                                    "3": "2362",
                                    "4": "0.035"
                                },
                                {
                                    "0": "102935",
                                    "1": "Oconto Falls",
                                    "2": "79",
                                    "3": "2652",
                                    "4": "0.035"
                                },
                                {
                                    "0": "108577",
                                    "1": "Point Roberts",
                                    "2": "79",
                                    "3": "2722",
                                    "4": "0.035"
                                },
                                {
                                    "0": "82730",
                                    "1": "Bratt",
                                    "2": "79",
                                    "3": "2715",
                                    "4": "0.035"
                                },
                                {
                                    "0": "108118",
                                    "1": "Molalla",
                                    "2": "79",
                                    "3": "2799",
                                    "4": "0.035"
                                },
                                {
                                    "0": "109792",
                                    "1": "Yampa",
                                    "2": "78",
                                    "3": "2390",
                                    "4": "0.034"
                                },
                                {
                                    "0": "51287",
                                    "1": "Coupland",
                                    "2": "78",
                                    "3": "3142",
                                    "4": "0.034"
                                },
                                {
                                    "0": "82826",
                                    "1": "Cypress Quarters",
                                    "2": "78",
                                    "3": "2399",
                                    "4": "0.034"
                                },
                                {
                                    "0": "104145",
                                    "1": "Roberta Mill",
                                    "2": "78",
                                    "3": "3054",
                                    "4": "0.034"
                                },
                                {
                                    "0": "106909",
                                    "1": "Cundiyo",
                                    "2": "78",
                                    "3": "3406",
                                    "4": "0.034"
                                },
                                {
                                    "0": "88868",
                                    "1": "Oriole Beach",
                                    "2": "77",
                                    "3": "2379",
                                    "4": "0.034"
                                },
                                {
                                    "0": "56993",
                                    "1": "Indios",
                                    "2": "77",
                                    "3": "3748",
                                    "4": "0.034"
                                },
                                {
                                    "0": "107558",
                                    "1": "Termo",
                                    "2": "76",
                                    "3": "2624",
                                    "4": "0.033"
                                },
                                {
                                    "0": "112229",
                                    "1": "Harbour Pointe",
                                    "2": "76",
                                    "3": "3195",
                                    "4": "0.033"
                                },
                                {
                                    "0": "56868",
                                    "1": "Plata",
                                    "2": "75",
                                    "3": "3072",
                                    "4": "0.033"
                                },
                                {
                                    "0": "48482",
                                    "1": "Highland Home",
                                    "2": "75",
                                    "3": "3059",
                                    "4": "0.033"
                                },
                                {
                                    "0": "109143",
                                    "1": "Marin City",
                                    "2": "75",
                                    "3": "3351",
                                    "4": "0.033"
                                },
                                {
                                    "0": "64015",
                                    "1": "Keosauqua",
                                    "2": "75",
                                    "3": "3004",
                                    "4": "0.033"
                                },
                                {
                                    "0": "80302",
                                    "1": "Walker Valley",
                                    "2": "74",
                                    "3": "3286",
                                    "4": "0.032"
                                },
                                {
                                    "0": "110941",
                                    "1": "Highland Home",
                                    "2": "74",
                                    "3": "2318",
                                    "4": "0.032"
                                },
                                {
                                    "0": "59416",
                                    "1": "Portales",
                                    "2": "74",
                                    "3": "3318",
                                    "4": "0.032"
                                },
                                {
                                    "0": "112381",
                                    "1": "Meadowdale",
                                    "2": "74",
                                    "3": "2830",
                                    "4": "0.032"
                                },
                                {
                                    "0": "72149",
                                    "1": "Frenchburg",
                                    "2": "74",
                                    "3": "2307",
                                    "4": "0.032"
                                },
                                {
                                    "0": "58407",
                                    "1": "Annamoriah",
                                    "2": "74",
                                    "3": "3219",
                                    "4": "0.032"
                                },
                                {
                                    "0": "109922",
                                    "1": "Portales",
                                    "2": "73",
                                    "3": "3093",
                                    "4": "0.032"
                                },
                                {
                                    "0": "50452",
                                    "1": "McCamey",
                                    "2": "72",
                                    "3": "2762",
                                    "4": "0.032"
                                },
                                {
                                    "0": "112823",
                                    "1": "Herlong",
                                    "2": "72",
                                    "3": "2909",
                                    "4": "0.032"
                                },
                                {
                                    "0": "67967",
                                    "1": "Waite Hill",
                                    "2": "71",
                                    "3": "2078",
                                    "4": "0.031"
                                },
                                {
                                    "0": "75976",
                                    "1": "Linden",
                                    "2": "71",
                                    "3": "2859",
                                    "4": "0.031"
                                },
                                {
                                    "0": "113509",
                                    "1": "Baraboo",
                                    "2": "71",
                                    "3": "3776",
                                    "4": "0.031"
                                },
                                {
                                    "0": "57278",
                                    "1": "Islip Terrace",
                                    "2": "71",
                                    "3": "2741",
                                    "4": "0.031"
                                },
                                {
                                    "0": "58467",
                                    "1": "Bruceton Mills",
                                    "2": "70",
                                    "3": "3053",
                                    "4": "0.031"
                                },
                                {
                                    "0": "40944",
                                    "1": "Trentwood",
                                    "2": "70",
                                    "3": "2413",
                                    "4": "0.031"
                                },
                                {
                                    "0": "109963",
                                    "1": "San Acacia",
                                    "2": "70",
                                    "3": "2975",
                                    "4": "0.031"
                                },
                                {
                                    "0": "72294",
                                    "1": "Knifley",
                                    "2": "69",
                                    "3": "2169",
                                    "4": "0.030"
                                },
                                {
                                    "0": "74559",
                                    "1": "Chipita Park",
                                    "2": "69",
                                    "3": "2324",
                                    "4": "0.030"
                                },
                                {
                                    "0": "49849",
                                    "1": "Kopperl",
                                    "2": "69",
                                    "3": "2101",
                                    "4": "0.030"
                                },
                                {
                                    "0": "48351",
                                    "1": "Lake Clarke Shores",
                                    "2": "69",
                                    "3": "2515",
                                    "4": "0.030"
                                },
                                {
                                    "0": "112421",
                                    "1": "Naches",
                                    "2": "68",
                                    "3": "3706",
                                    "4": "0.030"
                                },
                                {
                                    "0": "71601",
                                    "1": "New Baden",
                                    "2": "68",
                                    "3": "2668",
                                    "4": "0.030"
                                },
                                {
                                    "0": "50448",
                                    "1": "Maypearl",
                                    "2": "68",
                                    "3": "2876",
                                    "4": "0.030"
                                },
                                {
                                    "0": "56939",
                                    "1": "Cataño",
                                    "2": "68",
                                    "3": "2266",
                                    "4": "0.030"
                                },
                                {
                                    "0": "49163",
                                    "1": "Koontzville",
                                    "2": "68",
                                    "3": "3091",
                                    "4": "0.030"
                                },
                                {
                                    "0": "50767",
                                    "1": "Gasport",
                                    "2": "68",
                                    "3": "2543",
                                    "4": "0.030"
                                },
                                {
                                    "0": "70483",
                                    "1": "Claremont",
                                    "2": "68",
                                    "3": "2652",
                                    "4": "0.030"
                                },
                                {
                                    "0": "40837",
                                    "1": "Royal City",
                                    "2": "68",
                                    "3": "2322",
                                    "4": "0.030"
                                },
                                {
                                    "0": "49176",
                                    "1": "Lake Stevens",
                                    "2": "67",
                                    "3": "2630",
                                    "4": "0.029"
                                },
                                {
                                    "0": "45429",
                                    "1": "Coker",
                                    "2": "67",
                                    "3": "2385",
                                    "4": "0.029"
                                },
                                {
                                    "0": "51350",
                                    "1": "Del Valle",
                                    "2": "67",
                                    "3": "2510",
                                    "4": "0.029"
                                },
                                {
                                    "0": "68855",
                                    "1": "Ashtabula",
                                    "2": "67",
                                    "3": "2531",
                                    "4": "0.029"
                                },
                                {
                                    "0": "59037",
                                    "1": "Batson",
                                    "2": "67",
                                    "3": "1979",
                                    "4": "0.029"
                                },
                                {
                                    "0": "85112",
                                    "1": "Sun River",
                                    "2": "66",
                                    "3": "2999",
                                    "4": "0.029"
                                },
                                {
                                    "0": "39257",
                                    "1": "West Frostproof",
                                    "2": "66",
                                    "3": "2772",
                                    "4": "0.029"
                                },
                                {
                                    "0": "59422",
                                    "1": "Puerto de Luna",
                                    "2": "66",
                                    "3": "2511",
                                    "4": "0.029"
                                },
                                {
                                    "0": "43131",
                                    "1": "Sinclair",
                                    "2": "66",
                                    "3": "3557",
                                    "4": "0.029"
                                },
                                {
                                    "0": "48589",
                                    "1": "Marion Junction",
                                    "2": "66",
                                    "3": "1382",
                                    "4": "0.029"
                                },
                                {
                                    "0": "43085",
                                    "1": "Orpha",
                                    "2": "66",
                                    "3": "2401",
                                    "4": "0.029"
                                },
                                {
                                    "0": "59457",
                                    "1": "San Acacia",
                                    "2": "65",
                                    "3": "1928",
                                    "4": "0.028"
                                },
                                {
                                    "0": "40861",
                                    "1": "Sekiu",
                                    "2": "65",
                                    "3": "3686",
                                    "4": "0.028"
                                },
                                {
                                    "0": "46034",
                                    "1": "Compass Lake",
                                    "2": "65",
                                    "3": "2004",
                                    "4": "0.028"
                                },
                                {
                                    "0": "39667",
                                    "1": "Robertsdale",
                                    "2": "65",
                                    "3": "2146",
                                    "4": "0.028"
                                },
                                {
                                    "0": "70644",
                                    "1": "Lakemore",
                                    "2": "64",
                                    "3": "2451",
                                    "4": "0.028"
                                },
                                {
                                    "0": "51544",
                                    "1": "Slanesville",
                                    "2": "64",
                                    "3": "2288",
                                    "4": "0.028"
                                },
                                {
                                    "0": "51387",
                                    "1": "Lorentz",
                                    "2": "64",
                                    "3": "2124",
                                    "4": "0.028"
                                },
                                {
                                    "0": "63951",
                                    "1": "Hedrick",
                                    "2": "64",
                                    "3": "2930",
                                    "4": "0.028"
                                },
                                {
                                    "0": "110014",
                                    "1": "Soham",
                                    "2": "63",
                                    "3": "2315",
                                    "4": "0.028"
                                },
                                {
                                    "0": "73288",
                                    "1": "Drakesboro",
                                    "2": "63",
                                    "3": "1982",
                                    "4": "0.028"
                                },
                                {
                                    "0": "45502",
                                    "1": "Eulaton",
                                    "2": "63",
                                    "3": "2475",
                                    "4": "0.028"
                                },
                                {
                                    "0": "107316",
                                    "1": "Nitro",
                                    "2": "63",
                                    "3": "2876",
                                    "4": "0.028"
                                },
                                {
                                    "0": "48519",
                                    "1": "Jemison",
                                    "2": "62",
                                    "3": "2519",
                                    "4": "0.027"
                                },
                                {
                                    "0": "74447",
                                    "1": "Goodings Grove",
                                    "2": "62",
                                    "3": "2401",
                                    "4": "0.027"
                                },
                                {
                                    "0": "50119",
                                    "1": "Chateaugay",
                                    "2": "62",
                                    "3": "2385",
                                    "4": "0.027"
                                },
                                {
                                    "0": "60159",
                                    "1": "Spillville",
                                    "2": "62",
                                    "3": "2707",
                                    "4": "0.027"
                                },
                                {
                                    "0": "56844",
                                    "1": "Pharr",
                                    "2": "62",
                                    "3": "3078",
                                    "4": "0.027"
                                },
                                {
                                    "0": "53636",
                                    "1": "Palatine Bridge",
                                    "2": "61",
                                    "3": "2401",
                                    "4": "0.027"
                                },
                                {
                                    "0": "75086",
                                    "1": "Roachtown",
                                    "2": "61",
                                    "3": "1941",
                                    "4": "0.027"
                                },
                                {
                                    "0": "46026",
                                    "1": "Cloud Lake",
                                    "2": "61",
                                    "3": "1910",
                                    "4": "0.027"
                                },
                                {
                                    "0": "110213",
                                    "1": "East Dailey",
                                    "2": "61",
                                    "3": "2837",
                                    "4": "0.027"
                                },
                                {
                                    "0": "59352",
                                    "1": "Moquino",
                                    "2": "61",
                                    "3": "2206",
                                    "4": "0.027"
                                },
                                {
                                    "0": "57369",
                                    "1": "Lime Lake",
                                    "2": "61",
                                    "3": "2582",
                                    "4": "0.027"
                                },
                                {
                                    "0": "43128",
                                    "1": "Shell",
                                    "2": "60",
                                    "3": "2334",
                                    "4": "0.026"
                                },
                                {
                                    "0": "59392",
                                    "1": "Pastura",
                                    "2": "60",
                                    "3": "2019",
                                    "4": "0.026"
                                },
                                {
                                    "0": "70697",
                                    "1": "Lowellville",
                                    "2": "60",
                                    "3": "2355",
                                    "4": "0.026"
                                },
                                {
                                    "0": "43161",
                                    "1": "Wapiti",
                                    "2": "60",
                                    "3": "2521",
                                    "4": "0.026"
                                },
                                {
                                    "0": "66773",
                                    "1": "Obetz",
                                    "2": "60",
                                    "3": "2032",
                                    "4": "0.026"
                                },
                                {
                                    "0": "65852",
                                    "1": "Dunkerton",
                                    "2": "60",
                                    "3": "2153",
                                    "4": "0.026"
                                },
                                {
                                    "0": "45887",
                                    "1": "Astor Park",
                                    "2": "59",
                                    "3": "2295",
                                    "4": "0.026"
                                },
                                {
                                    "0": "55117",
                                    "1": "Truscott",
                                    "2": "59",
                                    "3": "1569",
                                    "4": "0.026"
                                },
                                {
                                    "0": "55146",
                                    "1": "Vair",
                                    "2": "59",
                                    "3": "2653",
                                    "4": "0.026"
                                },
                                {
                                    "0": "74480",
                                    "1": "Aspen Park",
                                    "2": "59",
                                    "3": "1909",
                                    "4": "0.026"
                                },
                                {
                                    "0": "71742",
                                    "1": "Vollmar",
                                    "2": "59",
                                    "3": "2465",
                                    "4": "0.026"
                                },
                                {
                                    "0": "56995",
                                    "1": "Isabela",
                                    "2": "59",
                                    "3": "2685",
                                    "4": "0.026"
                                },
                                {
                                    "0": "59622",
                                    "1": "Placer",
                                    "2": "59",
                                    "3": "3345",
                                    "4": "0.026"
                                },
                                {
                                    "0": "74617",
                                    "1": "East Portal",
                                    "2": "58",
                                    "3": "2522",
                                    "4": "0.025"
                                },
                                {
                                    "0": "57156",
                                    "1": "Greig",
                                    "2": "58",
                                    "3": "2086",
                                    "4": "0.025"
                                },
                                {
                                    "0": "57097",
                                    "1": "Rosa Sánchez",
                                    "2": "58",
                                    "3": "2229",
                                    "4": "0.025"
                                },
                                {
                                    "0": "73307",
                                    "1": "Elkatawa",
                                    "2": "58",
                                    "3": "2609",
                                    "4": "0.025"
                                },
                                {
                                    "0": "57335",
                                    "1": "Lake Ronkonkoma",
                                    "2": "58",
                                    "3": "2713",
                                    "4": "0.025"
                                },
                                {
                                    "0": "67855",
                                    "1": "South Euclid",
                                    "2": "58",
                                    "3": "2333",
                                    "4": "0.025"
                                },
                                {
                                    "0": "55397",
                                    "1": "Sauquoit",
                                    "2": "58",
                                    "3": "3030",
                                    "4": "0.025"
                                },
                                {
                                    "0": "53385",
                                    "1": "Yaak",
                                    "2": "58",
                                    "3": "3010",
                                    "4": "0.025"
                                },
                                {
                                    "0": "49915",
                                    "1": "Arietta",
                                    "2": "57",
                                    "3": "2643",
                                    "4": "0.025"
                                },
                                {
                                    "0": "49222",
                                    "1": "Malott",
                                    "2": "57",
                                    "3": "2806",
                                    "4": "0.025"
                                },
                                {
                                    "0": "67728",
                                    "1": "Saxapahaw",
                                    "2": "57",
                                    "3": "2103",
                                    "4": "0.025"
                                },
                                {
                                    "0": "46059",
                                    "1": "Cypress Quarters",
                                    "2": "57",
                                    "3": "2957",
                                    "4": "0.025"
                                },
                                {
                                    "0": "49736",
                                    "1": "Impact",
                                    "2": "56",
                                    "3": "3407",
                                    "4": "0.025"
                                },
                                {
                                    "0": "49617",
                                    "1": "Haltom City",
                                    "2": "56",
                                    "3": "2072",
                                    "4": "0.025"
                                },
                                {
                                    "0": "57327",
                                    "1": "Lake Erie Beach",
                                    "2": "56",
                                    "3": "2365",
                                    "4": "0.025"
                                },
                                {
                                    "0": "45327",
                                    "1": "Bazemore",
                                    "2": "56",
                                    "3": "2518",
                                    "4": "0.025"
                                },
                                {
                                    "0": "45901",
                                    "1": "Bakers Mill",
                                    "2": "56",
                                    "3": "2272",
                                    "4": "0.025"
                                },
                                {
                                    "0": "69490",
                                    "1": "Cuyahoga Heights",
                                    "2": "56",
                                    "3": "2293",
                                    "4": "0.025"
                                },
                                {
                                    "0": "90943",
                                    "1": "Orland Hills",
                                    "2": "55",
                                    "3": "2578",
                                    "4": "0.024"
                                },
                                {
                                    "0": "56563",
                                    "1": "Twodot",
                                    "2": "55",
                                    "3": "2023",
                                    "4": "0.024"
                                },
                                {
                                    "0": "40879",
                                    "1": "Skyway",
                                    "2": "55",
                                    "3": "1222",
                                    "4": "0.024"
                                },
                                {
                                    "0": "70871",
                                    "1": "New Lexington",
                                    "2": "55",
                                    "3": "2573",
                                    "4": "0.024"
                                },
                                {
                                    "0": "39777",
                                    "1": "Tuscaloosa",
                                    "2": "55",
                                    "3": "2351",
                                    "4": "0.024"
                                },
                                {
                                    "0": "51447",
                                    "1": "Nitro",
                                    "2": "55",
                                    "3": "1750",
                                    "4": "0.024"
                                },
                                {
                                    "0": "58610",
                                    "1": "Hambleton",
                                    "2": "55",
                                    "3": "2541",
                                    "4": "0.024"
                                },
                                {
                                    "0": "53912",
                                    "1": "Seagraves",
                                    "2": "55",
                                    "3": "1707",
                                    "4": "0.024"
                                },
                                {
                                    "0": "59893",
                                    "1": "La Cueva",
                                    "2": "54",
                                    "3": "1889",
                                    "4": "0.024"
                                },
                                {
                                    "0": "72156",
                                    "1": "Garlin",
                                    "2": "54",
                                    "3": "1669",
                                    "4": "0.024"
                                },
                                {
                                    "0": "74288",
                                    "1": "Du Quoin",
                                    "2": "54",
                                    "3": "2330",
                                    "4": "0.024"
                                },
                                {
                                    "0": "40971",
                                    "1": "Venersborg",
                                    "2": "54",
                                    "3": "2020",
                                    "4": "0.024"
                                },
                                {
                                    "0": "49655",
                                    "1": "Helotes",
                                    "2": "54",
                                    "3": "1983",
                                    "4": "0.024"
                                },
                                {
                                    "0": "53682",
                                    "1": "Premont",
                                    "2": "54",
                                    "3": "1983",
                                    "4": "0.024"
                                },
                                {
                                    "0": "39204",
                                    "1": "Tierra Verde",
                                    "2": "53",
                                    "3": "1896",
                                    "4": "0.023"
                                },
                                {
                                    "0": "74494",
                                    "1": "Bergen Park",
                                    "2": "53",
                                    "3": "2500",
                                    "4": "0.023"
                                },
                                {
                                    "0": "65763",
                                    "1": "Coin",
                                    "2": "53",
                                    "3": "1858",
                                    "4": "0.023"
                                },
                                {
                                    "0": "64003",
                                    "1": "Jolley",
                                    "2": "53",
                                    "3": "2126",
                                    "4": "0.023"
                                },
                                {
                                    "0": "56883",
                                    "1": "Port Alto",
                                    "2": "53",
                                    "3": "1894",
                                    "4": "0.023"
                                },
                                {
                                    "0": "58731",
                                    "1": "Trumansburg",
                                    "2": "53",
                                    "3": "2045",
                                    "4": "0.023"
                                },
                                {
                                    "0": "73983",
                                    "1": "McClave",
                                    "2": "53",
                                    "3": "1949",
                                    "4": "0.023"
                                },
                                {
                                    "0": "41749",
                                    "1": "Cos Cob",
                                    "2": "53",
                                    "3": "2114",
                                    "4": "0.023"
                                },
                                {
                                    "0": "49101",
                                    "1": "Harbour Pointe",
                                    "2": "53",
                                    "3": "2244",
                                    "4": "0.023"
                                },
                                {
                                    "0": "58547",
                                    "1": "Elk Garden",
                                    "2": "52",
                                    "3": "2334",
                                    "4": "0.023"
                                },
                                {
                                    "0": "39957",
                                    "1": "Oriole Beach",
                                    "2": "52",
                                    "3": "1960",
                                    "4": "0.023"
                                },
                                {
                                    "0": "63578",
                                    "1": "Cave Junction",
                                    "2": "52",
                                    "3": "1975",
                                    "4": "0.023"
                                },
                                {
                                    "0": "40959",
                                    "1": "Upper Preston",
                                    "2": "52",
                                    "3": "2307",
                                    "4": "0.023"
                                },
                                {
                                    "0": "73254",
                                    "1": "Creelsboro",
                                    "2": "52",
                                    "3": "1972",
                                    "4": "0.023"
                                },
                                {
                                    "0": "63946",
                                    "1": "Hawarden",
                                    "2": "52",
                                    "3": "2559",
                                    "4": "0.023"
                                },
                                {
                                    "0": "63764",
                                    "1": "Lostine",
                                    "2": "52",
                                    "3": "2011",
                                    "4": "0.023"
                                },
                                {
                                    "0": "49788",
                                    "1": "Jones Creek",
                                    "2": "51",
                                    "3": "2459",
                                    "4": "0.022"
                                },
                                {
                                    "0": "50394",
                                    "1": "Lytle",
                                    "2": "51",
                                    "3": "1666",
                                    "4": "0.022"
                                },
                                {
                                    "0": "41923",
                                    "1": "Windsor Locks",
                                    "2": "51",
                                    "3": "1395",
                                    "4": "0.022"
                                },
                                {
                                    "0": "49253",
                                    "1": "Meadowdale",
                                    "2": "51",
                                    "3": "1450",
                                    "4": "0.022"
                                },
                                {
                                    "0": "57087",
                                    "1": "Rafael Capó",
                                    "2": "51",
                                    "3": "1928",
                                    "4": "0.022"
                                },
                                {
                                    "0": "50625",
                                    "1": "Eagle Valley",
                                    "2": "50",
                                    "3": "1761",
                                    "4": "0.022"
                                },
                                {
                                    "0": "50480",
                                    "1": "Mendoza",
                                    "2": "50",
                                    "3": "2466",
                                    "4": "0.022"
                                },
                                {
                                    "0": "104322",
                                    "1": "Sigel",
                                    "2": "50",
                                    "3": "2080",
                                    "4": "0.022"
                                },
                                {
                                    "0": "59190",
                                    "1": "Buchanan Lake Village",
                                    "2": "50",
                                    "3": "1954",
                                    "4": "0.022"
                                },
                                {
                                    "0": "55406",
                                    "1": "Schoharie",
                                    "2": "50",
                                    "3": "1428",
                                    "4": "0.022"
                                },
                                {
                                    "0": "49990",
                                    "1": "Big Moose",
                                    "2": "50",
                                    "3": "1949",
                                    "4": "0.022"
                                },
                                {
                                    "0": "70700",
                                    "1": "Lucasville",
                                    "2": "50",
                                    "3": "2317",
                                    "4": "0.022"
                                },
                                {
                                    "0": "51415",
                                    "1": "Middleway",
                                    "2": "50",
                                    "3": "1830",
                                    "4": "0.022"
                                },
                                {
                                    "0": "45963",
                                    "1": "Bratt",
                                    "2": "49",
                                    "3": "2267",
                                    "4": "0.021"
                                },
                                {
                                    "0": "73651",
                                    "1": "Hanaford",
                                    "2": "49",
                                    "3": "1469",
                                    "4": "0.021"
                                },
                                {
                                    "0": "63735",
                                    "1": "Kerby",
                                    "2": "49",
                                    "3": "1726",
                                    "4": "0.021"
                                },
                                {
                                    "0": "45523",
                                    "1": "Flomaton",
                                    "2": "49",
                                    "3": "1896",
                                    "4": "0.021"
                                },
                                {
                                    "0": "57141",
                                    "1": "Great Neck Estates",
                                    "2": "49",
                                    "3": "1675",
                                    "4": "0.021"
                                },
                                {
                                    "0": "45600",
                                    "1": "Amanda Park",
                                    "2": "49",
                                    "3": "1618",
                                    "4": "0.021"
                                },
                                {
                                    "0": "74510",
                                    "1": "Bow Mar",
                                    "2": "49",
                                    "3": "2242",
                                    "4": "0.021"
                                },
                                {
                                    "0": "59776",
                                    "1": "Cundiyo",
                                    "2": "49",
                                    "3": "2222",
                                    "4": "0.021"
                                },
                                {
                                    "0": "45949",
                                    "1": "Bokeelia",
                                    "2": "48",
                                    "3": "2099",
                                    "4": "0.021"
                                },
                                {
                                    "0": "67778",
                                    "1": "Staley",
                                    "2": "48",
                                    "3": "1894",
                                    "4": "0.021"
                                },
                                {
                                    "0": "52278",
                                    "1": "Dorchester",
                                    "2": "48",
                                    "3": "1568",
                                    "4": "0.021"
                                },
                                {
                                    "0": "56778",
                                    "1": "Ovilla",
                                    "2": "48",
                                    "3": "2452",
                                    "4": "0.021"
                                },
                                {
                                    "0": "59778",
                                    "1": "Cuyamungue",
                                    "2": "48",
                                    "3": "2258",
                                    "4": "0.021"
                                },
                                {
                                    "0": "69686",
                                    "1": "Hanoverton",
                                    "2": "47",
                                    "3": "2238",
                                    "4": "0.021"
                                },
                                {
                                    "0": "53573",
                                    "1": "North Ridge",
                                    "2": "47",
                                    "3": "1186",
                                    "4": "0.021"
                                },
                                {
                                    "0": "45725",
                                    "1": "College Place",
                                    "2": "47",
                                    "3": "2241",
                                    "4": "0.021"
                                },
                                {
                                    "0": "51514",
                                    "1": "Robertsburg",
                                    "2": "47",
                                    "3": "1151",
                                    "4": "0.021"
                                },
                                {
                                    "0": "58583",
                                    "1": "Gassaway",
                                    "2": "47",
                                    "3": "1561",
                                    "4": "0.021"
                                },
                                {
                                    "0": "39209",
                                    "1": "Trilby",
                                    "2": "47",
                                    "3": "1417",
                                    "4": "0.021"
                                },
                                {
                                    "0": "72904",
                                    "1": "Tolono",
                                    "2": "47",
                                    "3": "1898",
                                    "4": "0.021"
                                },
                                {
                                    "0": "40778",
                                    "1": "Point Roberts",
                                    "2": "47",
                                    "3": "1709",
                                    "4": "0.021"
                                },
                                {
                                    "0": "56738",
                                    "1": "Oak Point",
                                    "2": "47",
                                    "3": "2203",
                                    "4": "0.021"
                                },
                                {
                                    "0": "68939",
                                    "1": "Bourneville",
                                    "2": "46",
                                    "3": "2192",
                                    "4": "0.020"
                                },
                                {
                                    "0": "68948",
                                    "1": "Bratenahl",
                                    "2": "46",
                                    "3": "1985",
                                    "4": "0.020"
                                },
                                {
                                    "0": "75213",
                                    "1": "Spillertown",
                                    "2": "46",
                                    "3": "1586",
                                    "4": "0.020"
                                },
                                {
                                    "0": "59705",
                                    "1": "Cañon",
                                    "2": "46",
                                    "3": "3047",
                                    "4": "0.020"
                                },
                                {
                                    "0": "39216",
                                    "1": "Vamo",
                                    "2": "46",
                                    "3": "1374",
                                    "4": "0.020"
                                },
                                {
                                    "0": "66741",
                                    "1": "North Eaton",
                                    "2": "46",
                                    "3": "2013",
                                    "4": "0.020"
                                },
                                {
                                    "0": "56541",
                                    "1": "Sun River",
                                    "2": "45",
                                    "3": "1422",
                                    "4": "0.020"
                                },
                                {
                                    "0": "83933",
                                    "1": "Bowmansville",
                                    "2": "45",
                                    "3": "2384",
                                    "4": "0.020"
                                },
                                {
                                    "0": "56757",
                                    "1": "Old River-Winfree",
                                    "2": "45",
                                    "3": "1848",
                                    "4": "0.020"
                                },
                                {
                                    "0": "63961",
                                    "1": "Hiteman",
                                    "2": "45",
                                    "3": "1601",
                                    "4": "0.020"
                                },
                                {
                                    "0": "50555",
                                    "1": "Corfu",
                                    "2": "45",
                                    "3": "2334",
                                    "4": "0.020"
                                },
                                {
                                    "0": "75692",
                                    "1": "Bourbonnais",
                                    "2": "45",
                                    "3": "1726",
                                    "4": "0.020"
                                },
                                {
                                    "0": "67996",
                                    "1": "West Elkton",
                                    "2": "45",
                                    "3": "1415",
                                    "4": "0.020"
                                },
                                {
                                    "0": "46025",
                                    "1": "Clewiston",
                                    "2": "45",
                                    "3": "1546",
                                    "4": "0.020"
                                },
                                {
                                    "0": "59321",
                                    "1": "Madrone",
                                    "2": "45",
                                    "3": "1686",
                                    "4": "0.020"
                                },
                                {
                                    "0": "74594",
                                    "1": "Dacono",
                                    "2": "45",
                                    "3": "1335",
                                    "4": "0.020"
                                },
                                {
                                    "0": "56840",
                                    "1": "Petronila",
                                    "2": "44",
                                    "3": "2198",
                                    "4": "0.019"
                                },
                                {
                                    "0": "58788",
                                    "1": "Wappingers Falls",
                                    "2": "44",
                                    "3": "1820",
                                    "4": "0.019"
                                },
                                {
                                    "0": "48449",
                                    "1": "Guin",
                                    "2": "44",
                                    "3": "1982",
                                    "4": "0.019"
                                },
                                {
                                    "0": "49967",
                                    "1": "Beekmantown",
                                    "2": "44",
                                    "3": "1731",
                                    "4": "0.019"
                                },
                                {
                                    "0": "73736",
                                    "1": "Indian Creek",
                                    "2": "43",
                                    "3": "1904",
                                    "4": "0.019"
                                },
                                {
                                    "0": "52309",
                                    "1": "East Mountain",
                                    "2": "43",
                                    "3": "1081",
                                    "4": "0.019"
                                },
                                {
                                    "0": "74470",
                                    "1": "Andrix",
                                    "2": "43",
                                    "3": "1995",
                                    "4": "0.019"
                                },
                                {
                                    "0": "59368",
                                    "1": "New Laguna",
                                    "2": "43",
                                    "3": "1466",
                                    "4": "0.019"
                                },
                                {
                                    "0": "59350",
                                    "1": "Montoya",
                                    "2": "43",
                                    "3": "1306",
                                    "4": "0.019"
                                },
                                {
                                    "0": "39192",
                                    "1": "Tavares",
                                    "2": "42",
                                    "3": "2215",
                                    "4": "0.018"
                                },
                                {
                                    "0": "63995",
                                    "1": "Jamison",
                                    "2": "42",
                                    "3": "1485",
                                    "4": "0.018"
                                },
                                {
                                    "0": "58540",
                                    "1": "East Dailey",
                                    "2": "42",
                                    "3": "2319",
                                    "4": "0.018"
                                },
                                {
                                    "0": "59569",
                                    "1": "Molalla",
                                    "2": "42",
                                    "3": "1683",
                                    "4": "0.018"
                                },
                                {
                                    "0": "55070",
                                    "1": "The Colony",
                                    "2": "42",
                                    "3": "1808",
                                    "4": "0.018"
                                },
                                {
                                    "0": "59067",
                                    "1": "Ben Arnold",
                                    "2": "42",
                                    "3": "1464",
                                    "4": "0.018"
                                },
                                {
                                    "0": "50656",
                                    "1": "Eastchester",
                                    "2": "42",
                                    "3": "1500",
                                    "4": "0.018"
                                },
                                {
                                    "0": "51573",
                                    "1": "Triadelphia",
                                    "2": "42",
                                    "3": "1773",
                                    "4": "0.018"
                                },
                                {
                                    "0": "74557",
                                    "1": "Cheyenne Wells",
                                    "2": "42",
                                    "3": "1773",
                                    "4": "0.018"
                                },
                                {
                                    "0": "50094",
                                    "1": "Caton",
                                    "2": "41",
                                    "3": "1257",
                                    "4": "0.018"
                                },
                                {
                                    "0": "50420",
                                    "1": "Marfa",
                                    "2": "41",
                                    "3": "1616",
                                    "4": "0.018"
                                },
                                {
                                    "0": "56954",
                                    "1": "Corcovado",
                                    "2": "41",
                                    "3": "1952",
                                    "4": "0.018"
                                },
                                {
                                    "0": "48641",
                                    "1": "Nanafalia",
                                    "2": "41",
                                    "3": "1401",
                                    "4": "0.018"
                                },
                                {
                                    "0": "74115",
                                    "1": "Silver Plume",
                                    "2": "41",
                                    "3": "1923",
                                    "4": "0.018"
                                },
                                {
                                    "0": "62292",
                                    "1": "Wapinitia",
                                    "2": "41",
                                    "3": "1717",
                                    "4": "0.018"
                                },
                                {
                                    "0": "45371",
                                    "1": "Broomtown",
                                    "2": "40",
                                    "3": "1255",
                                    "4": "0.018"
                                },
                                {
                                    "0": "63824",
                                    "1": "Ewart",
                                    "2": "40",
                                    "3": "994",
                                    "4": "0.018"
                                },
                                {
                                    "0": "57058",
                                    "1": "Palmas del Mar",
                                    "2": "40",
                                    "3": "1292",
                                    "4": "0.018"
                                },
                                {
                                    "0": "73281",
                                    "1": "Diablock",
                                    "2": "40",
                                    "3": "1908",
                                    "4": "0.018"
                                },
                                {
                                    "0": "39898",
                                    "1": "Naples Park",
                                    "2": "39",
                                    "3": "1427",
                                    "4": "0.017"
                                },
                                {
                                    "0": "52335",
                                    "1": "El Refugio",
                                    "2": "39",
                                    "3": "1502",
                                    "4": "0.017"
                                },
                                {
                                    "0": "52423",
                                    "1": "Flowella",
                                    "2": "39",
                                    "3": "1508",
                                    "4": "0.017"
                                },
                                {
                                    "0": "74108",
                                    "1": "Segundo",
                                    "2": "39",
                                    "3": "1897",
                                    "4": "0.017"
                                },
                                {
                                    "0": "75236",
                                    "1": "Stonefort",
                                    "2": "38",
                                    "3": "1250",
                                    "4": "0.017"
                                },
                                {
                                    "0": "72276",
                                    "1": "Johnetta",
                                    "2": "38",
                                    "3": "1641",
                                    "4": "0.017"
                                },
                                {
                                    "0": "39681",
                                    "1": "Saks",
                                    "2": "38",
                                    "3": "1614",
                                    "4": "0.017"
                                },
                                {
                                    "0": "48426",
                                    "1": "Mary Esther",
                                    "2": "38",
                                    "3": "1174",
                                    "4": "0.017"
                                },
                                {
                                    "0": "59779",
                                    "1": "Dahlia",
                                    "2": "37",
                                    "3": "1415",
                                    "4": "0.016"
                                },
                                {
                                    "0": "41896",
                                    "1": "Topstone",
                                    "2": "37",
                                    "3": "1300",
                                    "4": "0.016"
                                },
                                {
                                    "0": "59430",
                                    "1": "Raton",
                                    "2": "37",
                                    "3": "1679",
                                    "4": "0.016"
                                },
                                {
                                    "0": "71564",
                                    "1": "Morton Grove",
                                    "2": "37",
                                    "3": "2059",
                                    "4": "0.016"
                                },
                                {
                                    "0": "43133",
                                    "1": "Smoot",
                                    "2": "37",
                                    "3": "1181",
                                    "4": "0.016"
                                },
                                {
                                    "0": "55140",
                                    "1": "Universal City",
                                    "2": "37",
                                    "3": "1176",
                                    "4": "0.016"
                                },
                                {
                                    "0": "58076",
                                    "1": "Bozeman Hot Springs",
                                    "2": "36",
                                    "3": "1411",
                                    "4": "0.016"
                                },
                                {
                                    "0": "73182",
                                    "1": "Calvert City",
                                    "2": "36",
                                    "3": "1209",
                                    "4": "0.016"
                                },
                                {
                                    "0": "70600",
                                    "1": "Jeromesville",
                                    "2": "36",
                                    "3": "1227",
                                    "4": "0.016"
                                },
                                {
                                    "0": "45331",
                                    "1": "Belgreen",
                                    "2": "36",
                                    "3": "1118",
                                    "4": "0.016"
                                },
                                {
                                    "0": "52261",
                                    "1": "Dickworsham",
                                    "2": "36",
                                    "3": "1001",
                                    "4": "0.016"
                                },
                                {
                                    "0": "39724",
                                    "1": "Southside",
                                    "2": "36",
                                    "3": "1465",
                                    "4": "0.016"
                                },
                                {
                                    "0": "50541",
                                    "1": "Conewango",
                                    "2": "35",
                                    "3": "1398",
                                    "4": "0.015"
                                },
                                {
                                    "0": "74376",
                                    "1": "Flanagan",
                                    "2": "35",
                                    "3": "2167",
                                    "4": "0.015"
                                },
                                {
                                    "0": "51328",
                                    "1": "Dallardsville",
                                    "2": "35",
                                    "3": "1215",
                                    "4": "0.015"
                                },
                                {
                                    "0": "58830",
                                    "1": "West Hempstead",
                                    "2": "34",
                                    "3": "1215",
                                    "4": "0.015"
                                },
                                {
                                    "0": "74028",
                                    "1": "Orchard Mesa",
                                    "2": "34",
                                    "3": "1006",
                                    "4": "0.015"
                                },
                                {
                                    "0": "75669",
                                    "1": "Birds",
                                    "2": "34",
                                    "3": "1557",
                                    "4": "0.015"
                                },
                                {
                                    "0": "50550",
                                    "1": "Copake",
                                    "2": "34",
                                    "3": "1588",
                                    "4": "0.015"
                                },
                                {
                                    "0": "55435",
                                    "1": "Shenorock",
                                    "2": "34",
                                    "3": "1395",
                                    "4": "0.015"
                                },
                                {
                                    "0": "69644",
                                    "1": "Glenwillow",
                                    "2": "34",
                                    "3": "1543",
                                    "4": "0.015"
                                },
                                {
                                    "0": "59081",
                                    "1": "Bernstein",
                                    "2": "34",
                                    "3": "1454",
                                    "4": "0.015"
                                },
                                {
                                    "0": "74472",
                                    "1": "Antonito",
                                    "2": "34",
                                    "3": "1149",
                                    "4": "0.015"
                                },
                                {
                                    "0": "58351",
                                    "1": "Lavon",
                                    "2": "34",
                                    "3": "1389",
                                    "4": "0.015"
                                },
                                {
                                    "0": "59768",
                                    "1": "Crossroads",
                                    "2": "33",
                                    "3": "1289",
                                    "4": "0.014"
                                },
                                {
                                    "0": "49925",
                                    "1": "Athol Springs",
                                    "2": "33",
                                    "3": "1311",
                                    "4": "0.014"
                                },
                                {
                                    "0": "55153",
                                    "1": "Van Alstyne",
                                    "2": "32",
                                    "3": "861",
                                    "4": "0.014"
                                },
                                {
                                    "0": "50129",
                                    "1": "Cherryplain",
                                    "2": "32",
                                    "3": "1090",
                                    "4": "0.014"
                                },
                                {
                                    "0": "73301",
                                    "1": "Ekron",
                                    "2": "32",
                                    "3": "1018",
                                    "4": "0.014"
                                },
                                {
                                    "0": "49293",
                                    "1": "Naches",
                                    "2": "32",
                                    "3": "1246",
                                    "4": "0.014"
                                },
                                {
                                    "0": "49696",
                                    "1": "Hollywood Park",
                                    "2": "32",
                                    "3": "1587",
                                    "4": "0.014"
                                },
                                {
                                    "0": "59383",
                                    "1": "Optimo",
                                    "2": "31",
                                    "3": "1628",
                                    "4": "0.014"
                                },
                                {
                                    "0": "90285",
                                    "1": "Ellisville",
                                    "2": "30",
                                    "3": "1028",
                                    "4": "0.013"
                                },
                                {
                                    "0": "54957",
                                    "1": "South La Paloma",
                                    "2": "30",
                                    "3": "930",
                                    "4": "0.013"
                                },
                                {
                                    "0": "56721",
                                    "1": "North Cowden",
                                    "2": "30",
                                    "3": "1565",
                                    "4": "0.013"
                                },
                                {
                                    "0": "73809",
                                    "1": "La Grange Park",
                                    "2": "29",
                                    "3": "1295",
                                    "4": "0.013"
                                },
                                {
                                    "0": "112330",
                                    "1": "Long Beach",
                                    "2": "29",
                                    "3": "1576",
                                    "4": "0.013"
                                },
                                {
                                    "0": "50690",
                                    "1": "Esopus",
                                    "2": "29",
                                    "3": "838",
                                    "4": "0.013"
                                },
                                {
                                    "0": "56894",
                                    "1": "Aceitunas",
                                    "2": "28",
                                    "3": "980",
                                    "4": "0.012"
                                },
                                {
                                    "0": "56546",
                                    "1": "Sylvanite",
                                    "2": "28",
                                    "3": "693",
                                    "4": "0.012"
                                },
                                {
                                    "0": "58530",
                                    "1": "Delray",
                                    "2": "28",
                                    "3": "899",
                                    "4": "0.012"
                                },
                                {
                                    "0": "74053",
                                    "1": "Pikeview",
                                    "2": "28",
                                    "3": "1197",
                                    "4": "0.012"
                                },
                                {
                                    "0": "59588",
                                    "1": "Newberg",
                                    "2": "27",
                                    "3": "1264",
                                    "4": "0.012"
                                },
                                {
                                    "0": "59508",
                                    "1": "Soham",
                                    "2": "27",
                                    "3": "625",
                                    "4": "0.012"
                                },
                                {
                                    "0": "39240",
                                    "1": "Ward Ridge",
                                    "2": "25",
                                    "3": "1346",
                                    "4": "0.011"
                                },
                                {
                                    "0": "55341",
                                    "1": "Roe Park",
                                    "2": "25",
                                    "3": "948",
                                    "4": "0.011"
                                },
                                {
                                    "0": "59328",
                                    "1": "Mayhill",
                                    "2": "25",
                                    "3": "1423",
                                    "4": "0.011"
                                },
                                {
                                    "0": "56631",
                                    "1": "Morita",
                                    "2": "24",
                                    "3": "1021",
                                    "4": "0.011"
                                },
                                {
                                    "0": "58190",
                                    "1": "Fishtail",
                                    "2": "23",
                                    "3": "1338",
                                    "4": "0.010"
                                },
                                {
                                    "0": "66770",
                                    "1": "Oakshade",
                                    "2": "17",
                                    "3": "561",
                                    "4": "0.007"
                                },
                                {
                                    "0": "56313",
                                    "1": "Dover",
                                    "2": "17",
                                    "3": "509",
                                    "4": "0.007"
                                },
                                {
                                    "0": "51337",
                                    "1": "Dawn",
                                    "2": "17",
                                    "3": "751",
                                    "4": "0.007"
                                },
                                {
                                    "0": "69702",
                                    "1": "Haydenville",
                                    "2": "16",
                                    "3": "678",
                                    "4": "0.007"
                                },
                                {
                                    "0": "112394",
                                    "1": "Midland",
                                    "2": "15",
                                    "3": "553",
                                    "4": "0.007"
                                }
                            ]
                        },
                        "text/html": "<table><tr><th>City Key</th><th>City</th><th>products_sold</th><th>qof_products_sold</th><th>pct_total</th></tr><tr><td>72610</td><td>Akhiok</td><td>732</td><td>30999</td><td>0.321</td></tr><tr><td>64723</td><td>Cherry Grove Beach</td><td>678</td><td>25558</td><td>0.297</td></tr><tr><td>92524</td><td>Sinclair</td><td>671</td><td>26557</td><td>0.294</td></tr><tr><td>81238</td><td>East Fultonham</td><td>633</td><td>21754</td><td>0.277</td></tr><tr><td>82686</td><td>Teutopolis</td><td>631</td><td>23120</td><td>0.276</td></tr><tr><td>81012</td><td>Rockwall</td><td>544</td><td>21338</td><td>0.238</td></tr><tr><td>67264</td><td>La Bolt</td><td>451</td><td>17139</td><td>0.198</td></tr><tr><td>49531</td><td>Tolna</td><td>443</td><td>16240</td><td>0.194</td></tr><tr><td>53088</td><td>North Crows Nest</td><td>443</td><td>17684</td><td>0.194</td></tr><tr><td>68739</td><td>Tschetter Colony</td><td>436</td><td>16929</td><td>0.191</td></tr><tr><td>68127</td><td>Mashulaville</td><td>435</td><td>15681</td><td>0.191</td></tr><tr><td>57487</td><td>Gresston</td><td>434</td><td>17199</td><td>0.190</td></tr><tr><td>65245</td><td>Lesslie</td><td>428</td><td>16480</td><td>0.188</td></tr><tr><td>47479</td><td>Minidoka</td><td>419</td><td>15857</td><td>0.184</td></tr><tr><td>70282</td><td>Federalsburg</td><td>418</td><td>16503</td><td>0.183</td></tr><tr><td>40704</td><td>Kapa'a</td><td>416</td><td>15293</td><td>0.182</td></tr><tr><td>49497</td><td>Sentinel Butte</td><td>415</td><td>18050</td><td>0.182</td></tr><tr><td>69332</td><td>Elbing</td><td>414</td><td>16464</td><td>0.181</td></tr><tr><td>50969</td><td>Sea Island</td><td>413</td><td>16699</td><td>0.181</td></tr><tr><td>75467</td><td>Frankewing</td><td>412</td><td>14821</td><td>0.180</td></tr><tr><td>47471</td><td>McCammon</td><td>410</td><td>13694</td><td>0.180</td></tr><tr><td>72743</td><td>Haycock</td><td>406</td><td>14640</td><td>0.178</td></tr><tr><td>51006</td><td>Statenville</td><td>405</td><td>14454</td><td>0.177</td></tr><tr><td>52657</td><td>Mickleton</td><td>404</td><td>16005</td><td>0.177</td></tr><tr><td>66127</td><td>Salt Wells</td><td>403</td><td>17223</td><td>0.177</td></tr><tr><td>61717</td><td>Rich Creek</td><td>403</td><td>16102</td><td>0.177</td></tr><tr><td>54129</td><td>Switz City</td><td>402</td><td>16553</td><td>0.176</td></tr><tr><td>69386</td><td>Furley</td><td>402</td><td>17765</td><td>0.176</td></tr><tr><td>49036</td><td>Omer</td><td>401</td><td>15592</td><td>0.176</td></tr><tr><td>70923</td><td>Page City</td><td>399</td><td>16449</td><td>0.175</td></tr><tr><td>44986</td><td>Good Hart</td><td>399</td><td>15547</td><td>0.175</td></tr><tr><td>62396</td><td>Plum Branch</td><td>398</td><td>16138</td><td>0.174</td></tr><tr><td>52637</td><td>Maple Shade</td><td>396</td><td>16199</td><td>0.173</td></tr><tr><td>54587</td><td>Victory Gardens</td><td>395</td><td>15200</td><td>0.173</td></tr><tr><td>52627</td><td>Madison Park</td><td>395</td><td>14487</td><td>0.173</td></tr><tr><td>52639</td><td>Marcella</td><td>392</td><td>16084</td><td>0.172</td></tr><tr><td>67402</td><td>Long Meadow</td><td>392</td><td>15635</td><td>0.172</td></tr><tr><td>48147</td><td>Oologah</td><td>391</td><td>14228</td><td>0.171</td></tr><tr><td>72803</td><td>Kwethluk</td><td>390</td><td>15689</td><td>0.171</td></tr><tr><td>53016</td><td>Mier</td><td>390</td><td>15480</td><td>0.171</td></tr><tr><td>56047</td><td>Grabill</td><td>389</td><td>17148</td><td>0.170</td></tr><tr><td>47499</td><td>New Plymouth</td><td>389</td><td>15797</td><td>0.170</td></tr><tr><td>69191</td><td>Bonner Springs</td><td>387</td><td>14178</td><td>0.170</td></tr><tr><td>52715</td><td>North Beach Haven</td><td>386</td><td>15599</td><td>0.169</td></tr><tr><td>49568</td><td>Wimbledon</td><td>385</td><td>14561</td><td>0.169</td></tr><tr><td>52743</td><td>Ortley Beach</td><td>384</td><td>14444</td><td>0.168</td></tr><tr><td>51708</td><td>Argusville</td><td>382</td><td>16674</td><td>0.167</td></tr><tr><td>67578</td><td>Severna Park</td><td>382</td><td>15147</td><td>0.167</td></tr><tr><td>83631</td><td>Bourneville</td><td>382</td><td>16100</td><td>0.167</td></tr><tr><td>62508</td><td>Ware Shoals</td><td>380</td><td>16457</td><td>0.166</td></tr><tr><td>47424</td><td>Idaho City</td><td>380</td><td>15142</td><td>0.166</td></tr><tr><td>44724</td><td>Bethel Acres</td><td>380</td><td>14976</td><td>0.166</td></tr><tr><td>47459</td><td>Lost River</td><td>379</td><td>14245</td><td>0.166</td></tr><tr><td>81839</td><td>Isabela</td><td>378</td><td>14482</td><td>0.166</td></tr><tr><td>90614</td><td>Jamison</td><td>377</td><td>15800</td><td>0.165</td></tr><tr><td>77866</td><td>Bernstein</td><td>376</td><td>14851</td><td>0.165</td></tr><tr><td>69884</td><td>Kalvesta</td><td>376</td><td>15950</td><td>0.165</td></tr><tr><td>67391</td><td>Liberty Grove</td><td>376</td><td>13730</td><td>0.165</td></tr><tr><td>64693</td><td>Boyden Arbor</td><td>375</td><td>14238</td><td>0.164</td></tr><tr><td>44901</td><td>Drumright</td><td>374</td><td>14566</td><td>0.164</td></tr><tr><td>66011</td><td>Caselton</td><td>374</td><td>15274</td><td>0.164</td></tr><tr><td>67557</td><td>Ruthsburg</td><td>373</td><td>13062</td><td>0.163</td></tr><tr><td>69264</td><td>Coffeyville</td><td>373</td><td>15839</td><td>0.163</td></tr><tr><td>69424</td><td>Tolchester Beach</td><td>372</td><td>16363</td><td>0.163</td></tr><tr><td>55744</td><td>Haddon Heights</td><td>371</td><td>15293</td><td>0.163</td></tr><tr><td>84488</td><td>Bourbonnais</td><td>371</td><td>13817</td><td>0.163</td></tr><tr><td>66109</td><td>Panaca</td><td>371</td><td>12236</td><td>0.163</td></tr><tr><td>47470</td><td>McCall</td><td>370</td><td>15451</td><td>0.162</td></tr><tr><td>57489</td><td>Griswoldville</td><td>370</td><td>13565</td><td>0.162</td></tr><tr><td>67174</td><td>Ferney</td><td>368</td><td>12651</td><td>0.161</td></tr><tr><td>54069</td><td>Schererville</td><td>368</td><td>15645</td><td>0.161</td></tr><tr><td>44806</td><td>Catesby</td><td>368</td><td>13917</td><td>0.161</td></tr><tr><td>76097</td><td>Maypearl</td><td>368</td><td>15343</td><td>0.161</td></tr><tr><td>59913</td><td>Accomac</td><td>368</td><td>16472</td><td>0.161</td></tr><tr><td>81400</td><td>Haydenville</td><td>368</td><td>14040</td><td>0.161</td></tr><tr><td>67099</td><td>Capa</td><td>367</td><td>13654</td><td>0.161</td></tr><tr><td>55567</td><td>Branchburg Park</td><td>367</td><td>14044</td><td>0.161</td></tr><tr><td>61901</td><td>Wyndham</td><td>366</td><td>12530</td><td>0.160</td></tr><tr><td>90858</td><td>New Baden</td><td>365</td><td>14274</td><td>0.160</td></tr><tr><td>52553</td><td>Imlaystown</td><td>364</td><td>15339</td><td>0.159</td></tr><tr><td>66579</td><td>Deeson</td><td>363</td><td>14443</td><td>0.159</td></tr><tr><td>51929</td><td>Jessie</td><td>363</td><td>14266</td><td>0.159</td></tr><tr><td>62442</td><td>Sans Souci</td><td>362</td><td>13099</td><td>0.159</td></tr><tr><td>38704</td><td>Watonga</td><td>361</td><td>13308</td><td>0.158</td></tr><tr><td>71029</td><td>Sallyards</td><td>361</td><td>15213</td><td>0.158</td></tr><tr><td>45064</td><td>Huntington Woods</td><td>360</td><td>14434</td><td>0.158</td></tr><tr><td>50845</td><td>Orchard Hill</td><td>360</td><td>14906</td><td>0.158</td></tr><tr><td>82121</td><td>Dorchester</td><td>359</td><td>14482</td><td>0.157</td></tr><tr><td>65272</td><td>Mauldin</td><td>359</td><td>14227</td><td>0.157</td></tr><tr><td>52862</td><td>Hollandsburg</td><td>359</td><td>13684</td><td>0.157</td></tr><tr><td>54379</td><td>Coosa</td><td>359</td><td>13853</td><td>0.157</td></tr><tr><td>54596</td><td>Wanaque</td><td>359</td><td>15190</td><td>0.157</td></tr><tr><td>52630</td><td>Manahawkin</td><td>358</td><td>13973</td><td>0.157</td></tr><tr><td>44781</td><td>Cache</td><td>358</td><td>14810</td><td>0.157</td></tr><tr><td>38318</td><td>Brown City</td><td>357</td><td>16069</td><td>0.156</td></tr><tr><td>57493</td><td>Gum Branch</td><td>356</td><td>14122</td><td>0.156</td></tr><tr><td>86057</td><td>Lucasville</td><td>356</td><td>14209</td><td>0.156</td></tr><tr><td>80089</td><td>Johnetta</td><td>356</td><td>12297</td><td>0.156</td></tr><tr><td>77532</td><td>Indian Creek</td><td>356</td><td>13722</td><td>0.156</td></tr><tr><td>81632</td><td>Esopus</td><td>355</td><td>13066</td><td>0.156</td></tr><tr><td>57498</td><td>Hahira</td><td>355</td><td>11122</td><td>0.156</td></tr><tr><td>38468</td><td>Ewen</td><td>355</td><td>12733</td><td>0.156</td></tr><tr><td>67032</td><td>Alcester</td><td>355</td><td>12802</td><td>0.156</td></tr><tr><td>56014</td><td>Fortville</td><td>355</td><td>13091</td><td>0.156</td></tr><tr><td>44701</td><td>Asher</td><td>354</td><td>14661</td><td>0.155</td></tr><tr><td>52916</td><td>La Paz</td><td>354</td><td>13798</td><td>0.155</td></tr><tr><td>66573</td><td>Darling</td><td>353</td><td>13688</td><td>0.155</td></tr><tr><td>77447</td><td>Hanaford</td><td>353</td><td>12552</td><td>0.155</td></tr><tr><td>54571</td><td>Towaco</td><td>352</td><td>13701</td><td>0.154</td></tr><tr><td>49062</td><td>Paw Paw Lake</td><td>350</td><td>13273</td><td>0.153</td></tr><tr><td>80875</td><td>Pharr</td><td>350</td><td>13185</td><td>0.153</td></tr><tr><td>68728</td><td>Tea</td><td>350</td><td>13704</td><td>0.153</td></tr><tr><td>51652</td><td>Waycross</td><td>348</td><td>14729</td><td>0.152</td></tr><tr><td>72782</td><td>King Cove</td><td>348</td><td>12793</td><td>0.152</td></tr><tr><td>86429</td><td>Lake Erie Beach</td><td>347</td><td>14080</td><td>0.152</td></tr><tr><td>38744</td><td>Yewed</td><td>346</td><td>13226</td><td>0.152</td></tr><tr><td>52702</td><td>Netcong</td><td>346</td><td>14371</td><td>0.152</td></tr><tr><td>81902</td><td>Palmas del Mar</td><td>345</td><td>14144</td><td>0.151</td></tr><tr><td>65187</td><td>Hardeeville</td><td>345</td><td>13060</td><td>0.151</td></tr><tr><td>75450</td><td>Fairfield Glade</td><td>345</td><td>13835</td><td>0.151</td></tr><tr><td>63483</td><td>Oakpark</td><td>345</td><td>14715</td><td>0.151</td></tr><tr><td>66094</td><td>Mount Montgomery</td><td>344</td><td>12970</td><td>0.151</td></tr><tr><td>70113</td><td>Bowleys Quarters</td><td>343</td><td>12934</td><td>0.150</td></tr><tr><td>52871</td><td>Huntingburg</td><td>343</td><td>13620</td><td>0.150</td></tr><tr><td>61710</td><td>Raven</td><td>343</td><td>12185</td><td>0.150</td></tr><tr><td>78006</td><td>North Eaton</td><td>342</td><td>13283</td><td>0.150</td></tr><tr><td>92132</td><td>Roe Park</td><td>341</td><td>14326</td><td>0.149</td></tr><tr><td>63386</td><td>Mappsburg</td><td>341</td><td>13912</td><td>0.149</td></tr><tr><td>61793</td><td>Stanardsville</td><td>341</td><td>11945</td><td>0.149</td></tr><tr><td>44751</td><td>Boynton</td><td>341</td><td>13462</td><td>0.149</td></tr><tr><td>72760</td><td>Ikatan</td><td>340</td><td>13843</td><td>0.149</td></tr><tr><td>80769</td><td>Oak Point</td><td>340</td><td>13841</td><td>0.149</td></tr><tr><td>90622</td><td>Jolley</td><td>339</td><td>12085</td><td>0.149</td></tr><tr><td>77852</td><td>Ben Arnold</td><td>338</td><td>13150</td><td>0.148</td></tr><tr><td>54121</td><td>Straughn</td><td>338</td><td>15727</td><td>0.148</td></tr><tr><td>78038</td><td>Obetz</td><td>337</td><td>13381</td><td>0.148</td></tr><tr><td>69283</td><td>Coyville</td><td>337</td><td>11650</td><td>0.148</td></tr><tr><td>90570</td><td>Hedrick</td><td>336</td><td>12229</td><td>0.147</td></tr><tr><td>38288</td><td>Berville</td><td>336</td><td>11965</td><td>0.147</td></tr><tr><td>85604</td><td>West Elkton</td><td>336</td><td>11694</td><td>0.147</td></tr><tr><td>41699</td><td>Mineral Hills</td><td>336</td><td>15334</td><td>0.147</td></tr><tr><td>72709</td><td>Ekwok</td><td>335</td><td>11574</td><td>0.147</td></tr><tr><td>51875</td><td>Glen Ullin</td><td>335</td><td>13429</td><td>0.147</td></tr><tr><td>72808</td><td>Lemeta</td><td>334</td><td>11864</td><td>0.146</td></tr><tr><td>77321</td><td>Coin</td><td>334</td><td>12918</td><td>0.146</td></tr><tr><td>85890</td><td>Van Alstyne</td><td>334</td><td>13118</td><td>0.146</td></tr><tr><td>83832</td><td>Arietta</td><td>333</td><td>13183</td><td>0.146</td></tr><tr><td>80310</td><td>Wappingers Falls</td><td>333</td><td>12431</td><td>0.146</td></tr><tr><td>76486</td><td>Tolono</td><td>333</td><td>14285</td><td>0.146</td></tr><tr><td>93367</td><td>Elkatawa</td><td>332</td><td>13558</td><td>0.145</td></tr><tr><td>52592</td><td>Laurence Harbor</td><td>332</td><td>12192</td><td>0.145</td></tr><tr><td>64685</td><td>Blackville</td><td>332</td><td>13303</td><td>0.145</td></tr><tr><td>62500</td><td>Verdery</td><td>332</td><td>12948</td><td>0.145</td></tr><tr><td>55733</td><td>Golf View</td><td>332</td><td>13841</td><td>0.145</td></tr><tr><td>82266</td><td>Flowella</td><td>330</td><td>12232</td><td>0.145</td></tr><tr><td>81598</td><td>Eastchester</td><td>330</td><td>11709</td><td>0.145</td></tr><tr><td>68806</td><td>Wounded Knee</td><td>329</td><td>13530</td><td>0.144</td></tr><tr><td>92554</td><td>Wapiti</td><td>329</td><td>12425</td><td>0.144</td></tr><tr><td>80752</td><td>North Cowden</td><td>329</td><td>15869</td><td>0.144</td></tr><tr><td>57592</td><td>Leathersville</td><td>328</td><td>12151</td><td>0.144</td></tr><tr><td>62352</td><td>New Zion</td><td>327</td><td>12713</td><td>0.143</td></tr><tr><td>44851</td><td>Cookietown</td><td>326</td><td>13080</td><td>0.143</td></tr><tr><td>47692</td><td>Termo</td><td>326</td><td>12999</td><td>0.143</td></tr><tr><td>74843</td><td>Obion</td><td>326</td><td>13311</td><td>0.143</td></tr><tr><td>81188</td><td>Cuyahoga Heights</td><td>326</td><td>12565</td><td>0.143</td></tr><tr><td>91707</td><td>Coupland</td><td>326</td><td>11595</td><td>0.143</td></tr><tr><td>41628</td><td>Lexington Heights</td><td>326</td><td>12547</td><td>0.143</td></tr><tr><td>78445</td><td>North Ridge</td><td>326</td><td>12603</td><td>0.143</td></tr><tr><td>84827</td><td>Jones Creek</td><td>325</td><td>12529</td><td>0.142</td></tr><tr><td>86380</td><td>Islip Terrace</td><td>325</td><td>14681</td><td>0.142</td></tr><tr><td>84036</td><td>Chateaugay</td><td>324</td><td>14000</td><td>0.142</td></tr><tr><td>91757</td><td>Dawn</td><td>324</td><td>12865</td><td>0.142</td></tr><tr><td>82506</td><td>Roachtown</td><td>324</td><td>12592</td><td>0.142</td></tr><tr><td>71135</td><td>Virgil</td><td>324</td><td>11933</td><td>0.142</td></tr><tr><td>93314</td><td>Creelsboro</td><td>324</td><td>12216</td><td>0.142</td></tr><tr><td>85854</td><td>Truscott</td><td>324</td><td>13452</td><td>0.142</td></tr><tr><td>76043</td><td>Lytle</td><td>324</td><td>14334</td><td>0.142</td></tr><tr><td>38583</td><td>Seiling</td><td>324</td><td>12350</td><td>0.142</td></tr><tr><td>81567</td><td>Eagle Valley</td><td>323</td><td>12721</td><td>0.142</td></tr><tr><td>44863</td><td>Cowlington</td><td>323</td><td>12610</td><td>0.142</td></tr><tr><td>87261</td><td>Topstone</td><td>322</td><td>10743</td><td>0.141</td></tr><tr><td>48988</td><td>Muir</td><td>322</td><td>11751</td><td>0.141</td></tr><tr><td>68640</td><td>Philip</td><td>322</td><td>12237</td><td>0.141</td></tr><tr><td>80902</td><td>Premont</td><td>322</td><td>11686</td><td>0.141</td></tr><tr><td>81497</td><td>Corfu</td><td>321</td><td>13951</td><td>0.141</td></tr><tr><td>53050</td><td>Mount Summit</td><td>321</td><td>12024</td><td>0.141</td></tr><tr><td>49373</td><td>Makoti</td><td>321</td><td>12251</td><td>0.141</td></tr><tr><td>63227</td><td>Gargatha</td><td>320</td><td>13986</td><td>0.140</td></tr><tr><td>82633</td><td>Spillertown</td><td>320</td><td>13942</td><td>0.140</td></tr><tr><td>83547</td><td>Ashtabula</td><td>320</td><td>11396</td><td>0.140</td></tr><tr><td>55498</td><td>Absecon</td><td>319</td><td>12415</td><td>0.140</td></tr><tr><td>44710</td><td>Balko</td><td>319</td><td>15103</td><td>0.140</td></tr><tr><td>83907</td><td>Big Moose</td><td>319</td><td>12056</td><td>0.140</td></tr><tr><td>77822</td><td>Batson</td><td>319</td><td>13841</td><td>0.140</td></tr><tr><td>64758</td><td>Dillon</td><td>318</td><td>13177</td><td>0.139</td></tr><tr><td>85463</td><td>South Euclid</td><td>318</td><td>12439</td><td>0.139</td></tr><tr><td>70234</td><td>Dickerson</td><td>318</td><td>11467</td><td>0.139</td></tr><tr><td>38343</td><td>Caro</td><td>318</td><td>12684</td><td>0.139</td></tr><tr><td>80253</td><td>Trumansburg</td><td>317</td><td>12899</td><td>0.139</td></tr><tr><td>61746</td><td>Sandy Level</td><td>317</td><td>12647</td><td>0.139</td></tr><tr><td>77410</td><td>Dunkerton</td><td>316</td><td>12634</td><td>0.138</td></tr><tr><td>81709</td><td>Gasport</td><td>316</td><td>12937</td><td>0.138</td></tr><tr><td>81738</td><td>Aceitunas</td><td>316</td><td>11713</td><td>0.138</td></tr><tr><td>69994</td><td>Medicine Lodge</td><td>316</td><td>13571</td><td>0.138</td></tr><tr><td>84465</td><td>Birds</td><td>316</td><td>11533</td><td>0.138</td></tr><tr><td>51796</td><td>Crary</td><td>315</td><td>11330</td><td>0.138</td></tr><tr><td>76309</td><td>Spillville</td><td>315</td><td>12526</td><td>0.138</td></tr><tr><td>62350</td><td>Nesmith</td><td>315</td><td>13963</td><td>0.138</td></tr><tr><td>81941</td><td>Rosa Sánchez</td><td>314</td><td>11840</td><td>0.138</td></tr><tr><td>90241</td><td>Du Quoin</td><td>313</td><td>10986</td><td>0.137</td></tr><tr><td>83491</td><td>Port Alto</td><td>313</td><td>11577</td><td>0.137</td></tr><tr><td>72894</td><td>Port Chilkoot</td><td>313</td><td>13757</td><td>0.137</td></tr><tr><td>85693</td><td>South La Paloma</td><td>312</td><td>13712</td><td>0.137</td></tr><tr><td>93361</td><td>Ekron</td><td>312</td><td>13610</td><td>0.137</td></tr><tr><td>76101</td><td>McCamey</td><td>312</td><td>11225</td><td>0.137</td></tr><tr><td>49413</td><td>Munich</td><td>312</td><td>9587</td><td>0.137</td></tr><tr><td>83842</td><td>Athol Springs</td><td>311</td><td>12207</td><td>0.136</td></tr><tr><td>72761</td><td>Iliamna</td><td>311</td><td>12235</td><td>0.136</td></tr><tr><td>48937</td><td>Caruthers</td><td>310</td><td>12348</td><td>0.136</td></tr><tr><td>85807</td><td>The Colony</td><td>310</td><td>13345</td><td>0.136</td></tr><tr><td>71060</td><td>Sherwin</td><td>310</td><td>12395</td><td>0.136</td></tr><tr><td>48073</td><td>McQueen</td><td>310</td><td>10766</td><td>0.136</td></tr><tr><td>84656</td><td>Haltom City</td><td>308</td><td>12648</td><td>0.135</td></tr><tr><td>91748</td><td>Dallardsville</td><td>308</td><td>13478</td><td>0.135</td></tr><tr><td>86437</td><td>Lake Ronkonkoma</td><td>308</td><td>14171</td><td>0.135</td></tr><tr><td>75493</td><td>Greenback</td><td>308</td><td>13216</td><td>0.135</td></tr><tr><td>51780</td><td>Chaseley</td><td>307</td><td>12423</td><td>0.134</td></tr><tr><td>81384</td><td>Hanoverton</td><td>307</td><td>12563</td><td>0.134</td></tr><tr><td>76129</td><td>Mendoza</td><td>307</td><td>13334</td><td>0.134</td></tr><tr><td>81481</td><td>Conesus Lake</td><td>306</td><td>11810</td><td>0.134</td></tr><tr><td>55710</td><td>Francis Mills</td><td>306</td><td>10892</td><td>0.134</td></tr><tr><td>82104</td><td>Dickworsham</td><td>305</td><td>12190</td><td>0.134</td></tr><tr><td>81492</td><td>Copake</td><td>305</td><td>13104</td><td>0.134</td></tr><tr><td>80788</td><td>Old River-Winfree</td><td>304</td><td>10818</td><td>0.133</td></tr><tr><td>86471</td><td>Lime Lake</td><td>304</td><td>11484</td><td>0.133</td></tr><tr><td>90329</td><td>Flanagan</td><td>304</td><td>9934</td><td>0.133</td></tr><tr><td>48762</td><td>Arrowbear Lake</td><td>303</td><td>12546</td><td>0.133</td></tr><tr><td>68504</td><td>Tomnolen</td><td>303</td><td>12366</td><td>0.133</td></tr><tr><td>66646</td><td>Glancy</td><td>302</td><td>13561</td><td>0.132</td></tr><tr><td>72125</td><td>Wrangell</td><td>302</td><td>11138</td><td>0.132</td></tr><tr><td>93242</td><td>Calvert City</td><td>302</td><td>9321</td><td>0.132</td></tr><tr><td>41466</td><td>Knights Landing</td><td>302</td><td>10582</td><td>0.132</td></tr><tr><td>83884</td><td>Beekmantown</td><td>302</td><td>9779</td><td>0.132</td></tr><tr><td>44439</td><td>San Jacinto</td><td>301</td><td>10883</td><td>0.132</td></tr><tr><td>48118</td><td>Nichols Hills</td><td>301</td><td>11119</td><td>0.132</td></tr><tr><td>80107</td><td>Knifley</td><td>301</td><td>11669</td><td>0.132</td></tr><tr><td>81342</td><td>Glenwillow</td><td>301</td><td>12632</td><td>0.132</td></tr><tr><td>41568</td><td>Lompoc</td><td>300</td><td>11192</td><td>0.131</td></tr><tr><td>79962</td><td>Frenchburg</td><td>300</td><td>11414</td><td>0.131</td></tr><tr><td>67024</td><td>Zurich</td><td>299</td><td>11989</td><td>0.131</td></tr><tr><td>80352</td><td>West Hempstead</td><td>299</td><td>11836</td><td>0.131</td></tr><tr><td>40659</td><td>Glen Avon</td><td>299</td><td>11565</td><td>0.131</td></tr><tr><td>92521</td><td>Shell</td><td>299</td><td>11245</td><td>0.131</td></tr><tr><td>81931</td><td>Rafael Capó</td><td>299</td><td>13826</td><td>0.131</td></tr><tr><td>84735</td><td>Hollywood Park</td><td>298</td><td>11844</td><td>0.131</td></tr><tr><td>85883</td><td>Vair</td><td>298</td><td>12913</td><td>0.131</td></tr><tr><td>85575</td><td>Waite Hill</td><td>297</td><td>12551</td><td>0.130</td></tr><tr><td>78035</td><td>Oakshade</td><td>296</td><td>10810</td><td>0.130</td></tr><tr><td>78508</td><td>Palatine Bridge</td><td>296</td><td>11208</td><td>0.130</td></tr><tr><td>81798</td><td>Corcovado</td><td>296</td><td>10667</td><td>0.130</td></tr><tr><td>90565</td><td>Hawarden</td><td>295</td><td>10143</td><td>0.129</td></tr><tr><td>90634</td><td>Keosauqua</td><td>295</td><td>12436</td><td>0.129</td></tr><tr><td>69146</td><td>Baldwin City</td><td>295</td><td>11619</td><td>0.129</td></tr><tr><td>49016</td><td>North Manitou</td><td>294</td><td>12561</td><td>0.129</td></tr><tr><td>66176</td><td>Yerington</td><td>292</td><td>12639</td><td>0.128</td></tr><tr><td>83476</td><td>Plata</td><td>291</td><td>11027</td><td>0.127</td></tr><tr><td>92226</td><td>Shenorock</td><td>291</td><td>11659</td><td>0.127</td></tr><tr><td>49017</td><td>North Muskegon</td><td>290</td><td>11948</td><td>0.127</td></tr><tr><td>48778</td><td>Avenal</td><td>289</td><td>10842</td><td>0.127</td></tr><tr><td>90443</td><td>Ewart</td><td>289</td><td>11386</td><td>0.127</td></tr><tr><td>77975</td><td>Buchanan Lake Village</td><td>289</td><td>9946</td><td>0.127</td></tr><tr><td>92526</td><td>Smoot</td><td>289</td><td>13405</td><td>0.127</td></tr><tr><td>82152</td><td>East Mountain</td><td>289</td><td>11170</td><td>0.127</td></tr><tr><td>86228</td><td>New Lexington</td><td>289</td><td>11661</td><td>0.127</td></tr><tr><td>76069</td><td>Marfa</td><td>288</td><td>11344</td><td>0.126</td></tr><tr><td>90580</td><td>Hiteman</td><td>288</td><td>10578</td><td>0.126</td></tr><tr><td>87114</td><td>Cos Cob</td><td>288</td><td>12415</td><td>0.126</td></tr><tr><td>48851</td><td>Bombay Beach</td><td>287</td><td>12150</td><td>0.126</td></tr><tr><td>86054</td><td>Lowellville</td><td>286</td><td>11532</td><td>0.125</td></tr><tr><td>92478</td><td>Orpha</td><td>285</td><td>11139</td><td>0.125</td></tr><tr><td>84775</td><td>Impact</td><td>284</td><td>11282</td><td>0.124</td></tr><tr><td>87288</td><td>Windsor Locks</td><td>282</td><td>10233</td><td>0.124</td></tr><tr><td>92188</td><td>Sauquoit</td><td>282</td><td>12705</td><td>0.124</td></tr><tr><td>83640</td><td>Bratenahl</td><td>281</td><td>10655</td><td>0.123</td></tr><tr><td>86258</td><td>Greig</td><td>281</td><td>10395</td><td>0.123</td></tr><tr><td>75938</td><td>Lavon</td><td>281</td><td>11961</td><td>0.123</td></tr><tr><td>84011</td><td>Caton</td><td>280</td><td>10787</td><td>0.123</td></tr><tr><td>40600</td><td>Fieldbrook</td><td>280</td><td>11239</td><td>0.123</td></tr><tr><td>79969</td><td>Garlin</td><td>279</td><td>11410</td><td>0.122</td></tr><tr><td>84694</td><td>Helotes</td><td>279</td><td>10951</td><td>0.122</td></tr><tr><td>99979</td><td>Vassalboro</td><td>279</td><td>11317</td><td>0.122</td></tr><tr><td>82178</td><td>El Refugio</td><td>278</td><td>8150</td><td>0.122</td></tr><tr><td>41497</td><td>Lake Davis</td><td>278</td><td>11999</td><td>0.122</td></tr><tr><td>81726</td><td>Glen Park</td><td>277</td><td>10173</td><td>0.121</td></tr><tr><td>90948</td><td>Otterville</td><td>276</td><td>9848</td><td>0.121</td></tr><tr><td>81483</td><td>Conewango</td><td>275</td><td>10980</td><td>0.120</td></tr><tr><td>95693</td><td>Vidrine</td><td>275</td><td>11844</td><td>0.120</td></tr><tr><td>41500</td><td>Lake Hughes</td><td>274</td><td>9417</td><td>0.120</td></tr><tr><td>77092</td><td>Wasco</td><td>273</td><td>10564</td><td>0.120</td></tr><tr><td>47644</td><td>Stallion Springs</td><td>273</td><td>10073</td><td>0.120</td></tr><tr><td>81132</td><td>Seagraves</td><td>273</td><td>10577</td><td>0.120</td></tr><tr><td>41398</td><td>Idria</td><td>273</td><td>10991</td><td>0.120</td></tr><tr><td>76858</td><td>Segundo</td><td>272</td><td>11050</td><td>0.119</td></tr><tr><td>47921</td><td>Hanna</td><td>272</td><td>10405</td><td>0.119</td></tr><tr><td>85957</td><td>Jeromesville</td><td>272</td><td>10399</td><td>0.119</td></tr><tr><td>77296</td><td>Cherokee</td><td>271</td><td>9728</td><td>0.119</td></tr><tr><td>81783</td><td>Cataño</td><td>271</td><td>11301</td><td>0.119</td></tr><tr><td>103228</td><td>Mary Esther</td><td>269</td><td>11707</td><td>0.118</td></tr><tr><td>80809</td><td>Ovilla</td><td>268</td><td>10425</td><td>0.117</td></tr><tr><td>75393</td><td>Corryton</td><td>268</td><td>9940</td><td>0.117</td></tr><tr><td>72646</td><td>Biorka</td><td>268</td><td>11006</td><td>0.117</td></tr><tr><td>92197</td><td>Schoharie</td><td>268</td><td>11198</td><td>0.117</td></tr><tr><td>84888</td><td>Kopperl</td><td>268</td><td>10946</td><td>0.117</td></tr><tr><td>85877</td><td>Universal City</td><td>268</td><td>10963</td><td>0.117</td></tr><tr><td>48763</td><td>Arrowhead Highlands</td><td>267</td><td>10568</td><td>0.117</td></tr><tr><td>47757</td><td>Valley View Park</td><td>266</td><td>10573</td><td>0.117</td></tr><tr><td>103153</td><td>Lake Clarke Shores</td><td>265</td><td>7834</td><td>0.116</td></tr><tr><td>90400</td><td>Goodings Grove</td><td>265</td><td>10584</td><td>0.116</td></tr><tr><td>44370</td><td>Ridgemark</td><td>264</td><td>8609</td><td>0.116</td></tr><tr><td>55847</td><td>Brookville</td><td>264</td><td>11669</td><td>0.116</td></tr><tr><td>41358</td><td>Herlong</td><td>262</td><td>11442</td><td>0.115</td></tr><tr><td>47741</td><td>Twin Peaks</td><td>262</td><td>10692</td><td>0.115</td></tr><tr><td>101008</td><td>Tierra Verde</td><td>262</td><td>9207</td><td>0.115</td></tr><tr><td>96249</td><td>Claycomo</td><td>262</td><td>10089</td><td>0.115</td></tr><tr><td>98706</td><td>Grider</td><td>261</td><td>10918</td><td>0.114</td></tr><tr><td>97989</td><td>Peeples Valley</td><td>260</td><td>10265</td><td>0.114</td></tr><tr><td>80662</td><td>Morita</td><td>258</td><td>10538</td><td>0.113</td></tr><tr><td>86243</td><td>Great Neck Estates</td><td>258</td><td>10192</td><td>0.113</td></tr><tr><td>101061</td><td>West Frostproof</td><td>258</td><td>11057</td><td>0.113</td></tr><tr><td>82394</td><td>Richland</td><td>257</td><td>9986</td><td>0.113</td></tr><tr><td>83304</td><td>Saks</td><td>257</td><td>10595</td><td>0.113</td></tr><tr><td>101670</td><td>Cramerton</td><td>256</td><td>11579</td><td>0.112</td></tr><tr><td>87906</td><td>Elk Garden</td><td>255</td><td>10244</td><td>0.112</td></tr><tr><td>91354</td><td>Sekiu</td><td>254</td><td>10636</td><td>0.111</td></tr><tr><td>46997</td><td>Lytle Creek</td><td>253</td><td>9839</td><td>0.111</td></tr><tr><td>81837</td><td>Indios</td><td>253</td><td>9484</td><td>0.111</td></tr><tr><td>97091</td><td>Inguadona</td><td>252</td><td>9202</td><td>0.110</td></tr><tr><td>86001</td><td>Lakemore</td><td>252</td><td>10085</td><td>0.110</td></tr><tr><td>98700</td><td>Greenfield</td><td>252</td><td>9770</td><td>0.110</td></tr><tr><td>105638</td><td>Harkers Island</td><td>249</td><td>9534</td><td>0.109</td></tr><tr><td>96274</td><td>Coney Island</td><td>249</td><td>9534</td><td>0.109</td></tr><tr><td>94223</td><td>Bokeelia</td><td>247</td><td>8768</td><td>0.108</td></tr><tr><td>103353</td><td>Cale</td><td>246</td><td>11030</td><td>0.108</td></tr><tr><td>80871</td><td>Petronila</td><td>246</td><td>10329</td><td>0.108</td></tr><tr><td>76778</td><td>Orchard Mesa</td><td>246</td><td>9139</td><td>0.108</td></tr><tr><td>44333</td><td>Rail Road Flat</td><td>246</td><td>8905</td><td>0.108</td></tr><tr><td>101493</td><td>Abbottsburg</td><td>245</td><td>11040</td><td>0.107</td></tr><tr><td>91770</td><td>Del Valle</td><td>245</td><td>8942</td><td>0.107</td></tr><tr><td>93341</td><td>Diablock</td><td>244</td><td>10280</td><td>0.107</td></tr><tr><td>47673</td><td>Taft Heights</td><td>243</td><td>8929</td><td>0.106</td></tr><tr><td>102671</td><td>New Braintree</td><td>243</td><td>10534</td><td>0.106</td></tr><tr><td>101013</td><td>Trilby</td><td>243</td><td>8245</td><td>0.106</td></tr><tr><td>98140</td><td>Walapai</td><td>242</td><td>10424</td><td>0.106</td></tr><tr><td>96636</td><td>Lisco</td><td>242</td><td>10488</td><td>0.106</td></tr><tr><td>40550</td><td>El Centro</td><td>242</td><td>10699</td><td>0.106</td></tr><tr><td>102456</td><td>Cadogan</td><td>242</td><td>7994</td><td>0.106</td></tr><tr><td>95350</td><td>Lilbourn</td><td>242</td><td>8834</td><td>0.106</td></tr><tr><td>87826</td><td>Bruceton Mills</td><td>241</td><td>8026</td><td>0.106</td></tr><tr><td>95541</td><td>Plaquemine</td><td>241</td><td>8670</td><td>0.106</td></tr><tr><td>96703</td><td>Nehawka</td><td>241</td><td>9745</td><td>0.106</td></tr><tr><td>82995</td><td>Nitro</td><td>240</td><td>8256</td><td>0.105</td></tr><tr><td>105917</td><td>Tooele</td><td>240</td><td>8624</td><td>0.105</td></tr><tr><td>95538</td><td>Yaak</td><td>240</td><td>8719</td><td>0.105</td></tr><tr><td>96872</td><td>Tamora</td><td>240</td><td>9629</td><td>0.105</td></tr><tr><td>83092</td><td>Slanesville</td><td>239</td><td>10384</td><td>0.105</td></tr><tr><td>83062</td><td>Robertsburg</td><td>239</td><td>8937</td><td>0.105</td></tr><tr><td>105458</td><td>Weigelstown</td><td>239</td><td>10470</td><td>0.105</td></tr><tr><td>105878</td><td>Scofield</td><td>239</td><td>10009</td><td>0.105</td></tr><tr><td>95791</td><td>Bayou Cane</td><td>239</td><td>8634</td><td>0.105</td></tr><tr><td>96010</td><td>Gardere</td><td>239</td><td>9469</td><td>0.105</td></tr><tr><td>97553</td><td>Sunburg</td><td>239</td><td>10079</td><td>0.105</td></tr><tr><td>106381</td><td>Chalco</td><td>238</td><td>9822</td><td>0.104</td></tr><tr><td>97472</td><td>Saint Louis Park</td><td>238</td><td>9268</td><td>0.104</td></tr><tr><td>76865</td><td>Silver Plume</td><td>238</td><td>9687</td><td>0.104</td></tr><tr><td>87481</td><td>Harbour Pointe</td><td>237</td><td>9937</td><td>0.104</td></tr><tr><td>91464</td><td>Venersborg</td><td>237</td><td>9513</td><td>0.104</td></tr><tr><td>103133</td><td>Key Biscayne</td><td>236</td><td>9206</td><td>0.103</td></tr><tr><td>93348</td><td>Drakesboro</td><td>236</td><td>9353</td><td>0.103</td></tr><tr><td>105279</td><td>Bernardston</td><td>235</td><td>9776</td><td>0.103</td></tr><tr><td>79807</td><td>Cuyamungue</td><td>235</td><td>7737</td><td>0.103</td></tr><tr><td>89618</td><td>Bergen Park</td><td>235</td><td>8879</td><td>0.103</td></tr><tr><td>78218</td><td>Scioto Furnace</td><td>233</td><td>7672</td><td>0.102</td></tr><tr><td>94627</td><td>Sylvanite</td><td>233</td><td>9407</td><td>0.102</td></tr><tr><td>102100</td><td>Sarversville</td><td>233</td><td>8430</td><td>0.102</td></tr><tr><td>104202</td><td>Shawboro</td><td>233</td><td>9776</td><td>0.102</td></tr><tr><td>100350</td><td>Connoquenessing</td><td>232</td><td>9296</td><td>0.102</td></tr><tr><td>94935</td><td>Karthaus</td><td>232</td><td>9553</td><td>0.102</td></tr><tr><td>105377</td><td>Trout Run</td><td>231</td><td>9059</td><td>0.101</td></tr><tr><td>82656</td><td>Stonefort</td><td>231</td><td>10139</td><td>0.101</td></tr><tr><td>88060</td><td>Mayhill</td><td>231</td><td>8840</td><td>0.101</td></tr><tr><td>48004</td><td>Komalty</td><td>231</td><td>8369</td><td>0.101</td></tr><tr><td>47855</td><td>Yermo</td><td>231</td><td>8617</td><td>0.101</td></tr><tr><td>91271</td><td>Point Roberts</td><td>230</td><td>9135</td><td>0.101</td></tr><tr><td>88162</td><td>Raton</td><td>230</td><td>10348</td><td>0.101</td></tr><tr><td>100507</td><td>Elverson</td><td>230</td><td>8230</td><td>0.101</td></tr><tr><td>47134</td><td>Nicasio</td><td>230</td><td>9354</td><td>0.101</td></tr><tr><td>82935</td><td>Lorentz</td><td>229</td><td>8996</td><td>0.100</td></tr><tr><td>103866</td><td>Gilford</td><td>229</td><td>9221</td><td>0.100</td></tr><tr><td>96056</td><td>Arrow Rock</td><td>229</td><td>8739</td><td>0.100</td></tr><tr><td>89681</td><td>Cheyenne Wells</td><td>228</td><td>9501</td><td>0.100</td></tr><tr><td>99099</td><td>Penns Creek</td><td>228</td><td>7775</td><td>0.100</td></tr><tr><td>104412</td><td>Golden Meadow</td><td>228</td><td>8419</td><td>0.100</td></tr><tr><td>104305</td><td>Shay</td><td>227</td><td>9742</td><td>0.099</td></tr><tr><td>90821</td><td>Morton Grove</td><td>227</td><td>7364</td><td>0.099</td></tr><tr><td>96491</td><td>Hodgdon</td><td>227</td><td>10544</td><td>0.099</td></tr><tr><td>94861</td><td>Homer City</td><td>227</td><td>10693</td><td>0.099</td></tr><tr><td>76803</td><td>Pikeview</td><td>226</td><td>9284</td><td>0.099</td></tr><tr><td>100434</td><td>Dry Run</td><td>225</td><td>9823</td><td>0.099</td></tr><tr><td>103648</td><td>Marguerite</td><td>225</td><td>8117</td><td>0.099</td></tr><tr><td>96177</td><td>Buell</td><td>225</td><td>8829</td><td>0.099</td></tr><tr><td>40608</td><td>Floriston</td><td>224</td><td>9164</td><td>0.098</td></tr><tr><td>93646</td><td>Bozeman Hot Springs</td><td>224</td><td>9364</td><td>0.098</td></tr><tr><td>106065</td><td>Bowlus</td><td>224</td><td>10157</td><td>0.098</td></tr><tr><td>79407</td><td>Guin</td><td>224</td><td>10202</td><td>0.098</td></tr><tr><td>104397</td><td>Stoneboro</td><td>223</td><td>10122</td><td>0.098</td></tr><tr><td>47016</td><td>Marin City</td><td>223</td><td>8101</td><td>0.098</td></tr><tr><td>104573</td><td>Mamou</td><td>223</td><td>8612</td><td>0.098</td></tr><tr><td>94300</td><td>Cloud Lake</td><td>222</td><td>8350</td><td>0.097</td></tr><tr><td>106203</td><td>Deer River</td><td>222</td><td>9651</td><td>0.097</td></tr><tr><td>79734</td><td>Cañon</td><td>222</td><td>8345</td><td>0.097</td></tr><tr><td>96024</td><td>Airport Drive</td><td>222</td><td>8857</td><td>0.097</td></tr><tr><td>44316</td><td>Port Hueneme</td><td>222</td><td>9556</td><td>0.097</td></tr><tr><td>94622</td><td>Sun River</td><td>221</td><td>7990</td><td>0.097</td></tr><tr><td>99567</td><td>Amado</td><td>221</td><td>7398</td><td>0.097</td></tr><tr><td>77088</td><td>Wapinitia</td><td>221</td><td>8957</td><td>0.097</td></tr><tr><td>76733</td><td>McClave</td><td>221</td><td>10669</td><td>0.097</td></tr><tr><td>93803</td><td>Greycliff</td><td>220</td><td>7833</td><td>0.096</td></tr><tr><td>97147</td><td>Lake Crystal</td><td>220</td><td>8065</td><td>0.096</td></tr><tr><td>105663</td><td>Hightsville</td><td>220</td><td>9014</td><td>0.096</td></tr><tr><td>105356</td><td>Edgartown</td><td>220</td><td>7933</td><td>0.096</td></tr><tr><td>41432</td><td>Jesmond Dene</td><td>220</td><td>6287</td><td>0.096</td></tr><tr><td>101999</td><td>Moroni</td><td>219</td><td>7487</td><td>0.096</td></tr><tr><td>95033</td><td>North Brookfield</td><td>219</td><td>9346</td><td>0.096</td></tr><tr><td>102374</td><td>Black Lick</td><td>219</td><td>9061</td><td>0.096</td></tr><tr><td>79805</td><td>Cundiyo</td><td>219</td><td>8908</td><td>0.096</td></tr><tr><td>46801</td><td>Chalco</td><td>219</td><td>8718</td><td>0.096</td></tr><tr><td>88115</td><td>Optimo</td><td>219</td><td>9361</td><td>0.096</td></tr><tr><td>83400</td><td>Tuscaloosa</td><td>218</td><td>9225</td><td>0.096</td></tr><tr><td>104288</td><td>Valdese</td><td>218</td><td>8578</td><td>0.096</td></tr><tr><td>91534</td><td>Vollmar</td><td>217</td><td>9906</td><td>0.095</td></tr><tr><td>79440</td><td>Highland Home</td><td>217</td><td>7793</td><td>0.095</td></tr><tr><td>102050</td><td>Rose Tree</td><td>216</td><td>8558</td><td>0.095</td></tr><tr><td>72561</td><td>Tumacacori</td><td>216</td><td>7145</td><td>0.095</td></tr><tr><td>62420</td><td>Ridgeway</td><td>216</td><td>8847</td><td>0.095</td></tr><tr><td>47188</td><td>Orick</td><td>216</td><td>8685</td><td>0.095</td></tr><tr><td>94161</td><td>Astor Park</td><td>215</td><td>7731</td><td>0.094</td></tr><tr><td>106148</td><td>Cloquet</td><td>215</td><td>9409</td><td>0.094</td></tr><tr><td>99060</td><td>Orrtanna</td><td>214</td><td>10907</td><td>0.094</td></tr><tr><td>98014</td><td>Queen Valley</td><td>214</td><td>8890</td><td>0.094</td></tr><tr><td>76970</td><td>Placer</td><td>214</td><td>7464</td><td>0.094</td></tr><tr><td>104530</td><td>Larose</td><td>213</td><td>8676</td><td>0.093</td></tr><tr><td>94333</td><td>Cypress Quarters</td><td>213</td><td>7886</td><td>0.093</td></tr><tr><td>106020</td><td>Beaver Bay</td><td>213</td><td>6784</td><td>0.093</td></tr><tr><td>89594</td><td>Andrix</td><td>212</td><td>8979</td><td>0.093</td></tr><tr><td>101559</td><td>Bethania</td><td>212</td><td>9028</td><td>0.093</td></tr><tr><td>101804</td><td>Carbonville</td><td>212</td><td>9130</td><td>0.093</td></tr><tr><td>94237</td><td>Bratt</td><td>212</td><td>8454</td><td>0.093</td></tr><tr><td>82963</td><td>Middleway</td><td>212</td><td>8519</td><td>0.093</td></tr><tr><td>102342</td><td>Bell Acres</td><td>212</td><td>7505</td><td>0.093</td></tr><tr><td>106222</td><td>Dover</td><td>212</td><td>8545</td><td>0.093</td></tr><tr><td>101245</td><td>Schaal</td><td>211</td><td>8254</td><td>0.092</td></tr><tr><td>88154</td><td>Puerto de Luna</td><td>211</td><td>8387</td><td>0.092</td></tr><tr><td>47626</td><td>South Laguna</td><td>211</td><td>7600</td><td>0.092</td></tr><tr><td>87766</td><td>Annamoriah</td><td>210</td><td>8409</td><td>0.092</td></tr><tr><td>84046</td><td>Cherryplain</td><td>210</td><td>8248</td><td>0.092</td></tr><tr><td>103631</td><td>Mahaffey</td><td>210</td><td>8070</td><td>0.092</td></tr><tr><td>77605</td><td>La Grange Park</td><td>210</td><td>8337</td><td>0.092</td></tr><tr><td>99994</td><td>Weld</td><td>209</td><td>8211</td><td>0.092</td></tr><tr><td>99353</td><td>Marcell</td><td>209</td><td>7927</td><td>0.092</td></tr><tr><td>91372</td><td>Skyway</td><td>209</td><td>6317</td><td>0.092</td></tr><tr><td>87543</td><td>Koontzville</td><td>209</td><td>7981</td><td>0.092</td></tr><tr><td>78914</td><td>Broomtown</td><td>209</td><td>8432</td><td>0.092</td></tr><tr><td>100413</td><td>Devault</td><td>208</td><td>9232</td><td>0.091</td></tr><tr><td>87602</td><td>Malott</td><td>208</td><td>8186</td><td>0.091</td></tr><tr><td>105339</td><td>Dracut</td><td>208</td><td>7688</td><td>0.091</td></tr><tr><td>96434</td><td>Edgecomb</td><td>207</td><td>7708</td><td>0.091</td></tr><tr><td>89596</td><td>Antonito</td><td>207</td><td>7582</td><td>0.091</td></tr><tr><td>78874</td><td>Belgreen</td><td>206</td><td>8254</td><td>0.090</td></tr><tr><td>104045</td><td>Navassa</td><td>206</td><td>7372</td><td>0.090</td></tr><tr><td>89741</td><td>East Portal</td><td>206</td><td>8873</td><td>0.090</td></tr><tr><td>99456</td><td>Northrop</td><td>206</td><td>7905</td><td>0.090</td></tr><tr><td>100428</td><td>Downingtown</td><td>206</td><td>8402</td><td>0.090</td></tr><tr><td>100840</td><td>Tiff City</td><td>206</td><td>7258</td><td>0.090</td></tr><tr><td>94644</td><td>Twodot</td><td>205</td><td>9405</td><td>0.090</td></tr><tr><td>106049</td><td>Biscay</td><td>204</td><td>6883</td><td>0.089</td></tr><tr><td>90082</td><td>Kerby</td><td>204</td><td>7432</td><td>0.089</td></tr><tr><td>99662</td><td>Cortaro</td><td>204</td><td>8856</td><td>0.089</td></tr><tr><td>100763</td><td>Shell Knob</td><td>204</td><td>7805</td><td>0.089</td></tr><tr><td>106530</td><td>Hayes Center</td><td>203</td><td>7136</td><td>0.089</td></tr><tr><td>99066</td><td>Oval</td><td>203</td><td>7298</td><td>0.089</td></tr><tr><td>102060</td><td>Rothsville</td><td>203</td><td>7205</td><td>0.089</td></tr><tr><td>104234</td><td>Staley</td><td>203</td><td>6945</td><td>0.089</td></tr><tr><td>89654</td><td>Byers</td><td>203</td><td>8487</td><td>0.089</td></tr><tr><td>104289</td><td>Valhalla</td><td>203</td><td>5229</td><td>0.089</td></tr><tr><td>95036</td><td>North Eastham</td><td>202</td><td>7912</td><td>0.088</td></tr><tr><td>91452</td><td>Upper Preston</td><td>202</td><td>7161</td><td>0.088</td></tr><tr><td>100833</td><td>Terre du Lac</td><td>202</td><td>7564</td><td>0.088</td></tr><tr><td>78972</td><td>Coker</td><td>201</td><td>8229</td><td>0.088</td></tr><tr><td>87633</td><td>Meadowdale</td><td>201</td><td>7633</td><td>0.088</td></tr><tr><td>98906</td><td>Morrison Bluff</td><td>201</td><td>8365</td><td>0.088</td></tr><tr><td>83290</td><td>Robertsdale</td><td>201</td><td>6794</td><td>0.088</td></tr><tr><td>105671</td><td>Holden Beach</td><td>200</td><td>6247</td><td>0.088</td></tr><tr><td>62837</td><td>Golden Meadow</td><td>200</td><td>8271</td><td>0.088</td></tr><tr><td>96334</td><td>Beals</td><td>200</td><td>7856</td><td>0.088</td></tr><tr><td>38005</td><td>Sarversville</td><td>199</td><td>7983</td><td>0.087</td></tr><tr><td>100996</td><td>Tavares</td><td>199</td><td>6769</td><td>0.087</td></tr><tr><td>99166</td><td>Railroad</td><td>199</td><td>8202</td><td>0.087</td></tr><tr><td>89325</td><td>Amanda Park</td><td>199</td><td>7021</td><td>0.087</td></tr><tr><td>88240</td><td>Soham</td><td>199</td><td>8373</td><td>0.087</td></tr><tr><td>88082</td><td>Montoya</td><td>199</td><td>5955</td><td>0.087</td></tr><tr><td>97570</td><td>Tenstrike</td><td>199</td><td>7425</td><td>0.087</td></tr><tr><td>101568</td><td>Bladenboro</td><td>198</td><td>7936</td><td>0.087</td></tr><tr><td>95253</td><td>Jane</td><td>198</td><td>7410</td><td>0.087</td></tr><tr><td>96152</td><td>Branson West</td><td>198</td><td>7157</td><td>0.087</td></tr><tr><td>89450</td><td>College Place</td><td>198</td><td>9140</td><td>0.087</td></tr><tr><td>103780</td><td>Mount Pocono</td><td>198</td><td>6202</td><td>0.087</td></tr><tr><td>101020</td><td>Vamo</td><td>197</td><td>8167</td><td>0.086</td></tr><tr><td>101204</td><td>Reader</td><td>197</td><td>7735</td><td>0.086</td></tr><tr><td>104620</td><td>Mooringsport</td><td>197</td><td>8183</td><td>0.086</td></tr><tr><td>100568</td><td>Olivette</td><td>196</td><td>8386</td><td>0.086</td></tr><tr><td>95930</td><td>Donner</td><td>196</td><td>7889</td><td>0.086</td></tr><tr><td>104953</td><td>Humansville</td><td>196</td><td>7630</td><td>0.086</td></tr><tr><td>102076</td><td>Sabinsville</td><td>195</td><td>6997</td><td>0.085</td></tr><tr><td>105327</td><td>Cotuit</td><td>195</td><td>8881</td><td>0.085</td></tr><tr><td>104702</td><td>Dennis Acres</td><td>195</td><td>6622</td><td>0.085</td></tr><tr><td>88148</td><td>Portales</td><td>195</td><td>6292</td><td>0.085</td></tr><tr><td>87899</td><td>East Dailey</td><td>195</td><td>8150</td><td>0.085</td></tr><tr><td>106631</td><td>White Church</td><td>194</td><td>7809</td><td>0.085</td></tr><tr><td>95748</td><td>Alden Bridge</td><td>194</td><td>8337</td><td>0.085</td></tr><tr><td>102390</td><td>Boalsburg</td><td>194</td><td>7634</td><td>0.085</td></tr><tr><td>83121</td><td>Triadelphia</td><td>194</td><td>7732</td><td>0.085</td></tr><tr><td>103211</td><td>Lynne</td><td>193</td><td>7999</td><td>0.085</td></tr><tr><td>103655</td><td>Marion Hill</td><td>193</td><td>7643</td><td>0.085</td></tr><tr><td>98432</td><td>Naples Park</td><td>193</td><td>6623</td><td>0.085</td></tr><tr><td>89925</td><td>Cave Junction</td><td>193</td><td>8267</td><td>0.085</td></tr><tr><td>87889</td><td>Delray</td><td>192</td><td>8067</td><td>0.084</td></tr><tr><td>98692</td><td>Grannis</td><td>192</td><td>7933</td><td>0.084</td></tr><tr><td>105700</td><td>Kannapolis</td><td>192</td><td>8012</td><td>0.084</td></tr><tr><td>46564</td><td>Heilwood</td><td>191</td><td>8355</td><td>0.084</td></tr><tr><td>76917</td><td>Molalla</td><td>191</td><td>7620</td><td>0.084</td></tr><tr><td>102635</td><td>Toughkenamon</td><td>191</td><td>8383</td><td>0.084</td></tr><tr><td>96104</td><td>Bernie</td><td>191</td><td>6663</td><td>0.084</td></tr><tr><td>102665</td><td>Nahant</td><td>189</td><td>8262</td><td>0.083</td></tr><tr><td>96876</td><td>Eden Valley</td><td>189</td><td>7022</td><td>0.083</td></tr><tr><td>98103</td><td>Tempe</td><td>189</td><td>7547</td><td>0.083</td></tr><tr><td>98158</td><td>Willow Valley</td><td>189</td><td>7016</td><td>0.083</td></tr><tr><td>79547</td><td>Marion Junction</td><td>189</td><td>7021</td><td>0.083</td></tr><tr><td>79797</td><td>Crossroads</td><td>189</td><td>9255</td><td>0.083</td></tr><tr><td>79808</td><td>Dahlia</td><td>189</td><td>6842</td><td>0.083</td></tr><tr><td>38542</td><td>Ravia</td><td>189</td><td>8560</td><td>0.083</td></tr><tr><td>61426</td><td>Bernardston</td><td>189</td><td>7525</td><td>0.083</td></tr><tr><td>96894</td><td>Elrosa</td><td>188</td><td>8555</td><td>0.082</td></tr><tr><td>76936</td><td>Newberg</td><td>188</td><td>8606</td><td>0.082</td></tr><tr><td>99569</td><td>Antares</td><td>188</td><td>7313</td><td>0.082</td></tr><tr><td>94842</td><td>Heilwood</td><td>188</td><td>7170</td><td>0.082</td></tr><tr><td>47005</td><td>Magalia</td><td>187</td><td>6761</td><td>0.082</td></tr><tr><td>99383</td><td>Miesville</td><td>187</td><td>6392</td><td>0.082</td></tr><tr><td>88084</td><td>Moquino</td><td>186</td><td>6841</td><td>0.081</td></tr><tr><td>95349</td><td>Licking</td><td>186</td><td>7866</td><td>0.081</td></tr><tr><td>50814</td><td>Nicholson</td><td>186</td><td>9237</td><td>0.081</td></tr><tr><td>99026</td><td>North York</td><td>185</td><td>7342</td><td>0.081</td></tr><tr><td>89718</td><td>Dacono</td><td>185</td><td>6775</td><td>0.081</td></tr><tr><td>105949</td><td>Westwater</td><td>185</td><td>5844</td><td>0.081</td></tr><tr><td>101642</td><td>Claremont</td><td>185</td><td>8021</td><td>0.081</td></tr><tr><td>89683</td><td>Chipita Park</td><td>184</td><td>6951</td><td>0.081</td></tr><tr><td>94726</td><td>Gardners</td><td>184</td><td>6737</td><td>0.081</td></tr><tr><td>38737</td><td>Wright City</td><td>183</td><td>7332</td><td>0.080</td></tr><tr><td>56153</td><td>Bock</td><td>183</td><td>8244</td><td>0.080</td></tr><tr><td>105385</td><td>Tunnelhill</td><td>183</td><td>7940</td><td>0.080</td></tr><tr><td>42598</td><td>Oley</td><td>183</td><td>6316</td><td>0.080</td></tr><tr><td>106153</td><td>Cokato</td><td>183</td><td>7578</td><td>0.080</td></tr><tr><td>101044</td><td>Ward Ridge</td><td>183</td><td>7140</td><td>0.080</td></tr><tr><td>88100</td><td>New Laguna</td><td>182</td><td>8020</td><td>0.080</td></tr><tr><td>61111</td><td>Airport Drive</td><td>182</td><td>7588</td><td>0.080</td></tr><tr><td>63044</td><td>Mooringsport</td><td>182</td><td>7207</td><td>0.080</td></tr><tr><td>95224</td><td>White Horse Beach</td><td>182</td><td>7971</td><td>0.080</td></tr><tr><td>87556</td><td>Lake Stevens</td><td>182</td><td>7699</td><td>0.080</td></tr><tr><td>54828</td><td>Northrop</td><td>182</td><td>6450</td><td>0.080</td></tr><tr><td>53304</td><td>Inguadona</td><td>182</td><td>7150</td><td>0.080</td></tr><tr><td>94308</td><td>Compass Lake</td><td>182</td><td>5648</td><td>0.080</td></tr><tr><td>89604</td><td>Aspen Park</td><td>181</td><td>6928</td><td>0.079</td></tr><tr><td>73353</td><td>Antares</td><td>181</td><td>8050</td><td>0.079</td></tr><tr><td>93760</td><td>Fishtail</td><td>181</td><td>6294</td><td>0.079</td></tr><tr><td>66241</td><td>Harkers Island</td><td>180</td><td>6602</td><td>0.079</td></tr><tr><td>104184</td><td>Saxapahaw</td><td>180</td><td>6418</td><td>0.079</td></tr><tr><td>88124</td><td>Pastura</td><td>180</td><td>6013</td><td>0.079</td></tr><tr><td>60480</td><td>Vidrine</td><td>180</td><td>7055</td><td>0.079</td></tr><tr><td>79922</td><td>La Cueva</td><td>180</td><td>6269</td><td>0.079</td></tr><tr><td>67589</td><td>Navassa</td><td>179</td><td>7610</td><td>0.078</td></tr><tr><td>72539</td><td>Tempe</td><td>179</td><td>6390</td><td>0.078</td></tr><tr><td>95601</td><td>Saint Landry</td><td>179</td><td>7260</td><td>0.078</td></tr><tr><td>99036</td><td>Nuangola</td><td>178</td><td>8923</td><td>0.078</td></tr><tr><td>94299</td><td>Clewiston</td><td>178</td><td>6164</td><td>0.078</td></tr><tr><td>64965</td><td>Panton</td><td>178</td><td>7282</td><td>0.078</td></tr><tr><td>94175</td><td>Bakers Mill</td><td>178</td><td>6368</td><td>0.078</td></tr><tr><td>88189</td><td>San Acacia</td><td>177</td><td>6996</td><td>0.078</td></tr><tr><td>104509</td><td>Kinder</td><td>177</td><td>5277</td><td>0.078</td></tr><tr><td>72425</td><td>Peeples Valley</td><td>177</td><td>5609</td><td>0.078</td></tr><tr><td>90111</td><td>Lostine</td><td>177</td><td>6364</td><td>0.078</td></tr><tr><td>106062</td><td>Bock</td><td>177</td><td>7694</td><td>0.078</td></tr><tr><td>50966</td><td>Scott</td><td>177</td><td>6789</td><td>0.078</td></tr><tr><td>101362</td><td>Wesson</td><td>177</td><td>7285</td><td>0.078</td></tr><tr><td>91437</td><td>Trentwood</td><td>176</td><td>6415</td><td>0.077</td></tr><tr><td>61264</td><td>Buell</td><td>176</td><td>7313</td><td>0.077</td></tr><tr><td>98020</td><td>Red Mesa</td><td>176</td><td>6874</td><td>0.077</td></tr><tr><td>88053</td><td>Madrone</td><td>176</td><td>6063</td><td>0.077</td></tr><tr><td>64635</td><td>Terre du Lac</td><td>176</td><td>6808</td><td>0.077</td></tr><tr><td>99986</td><td>Wallagrass</td><td>176</td><td>7965</td><td>0.077</td></tr><tr><td>106532</td><td>Heartwell</td><td>175</td><td>6305</td><td>0.077</td></tr><tr><td>100612</td><td>Phelps City</td><td>175</td><td>5417</td><td>0.077</td></tr><tr><td>67746</td><td>Shawboro</td><td>175</td><td>7973</td><td>0.077</td></tr><tr><td>79066</td><td>Flomaton</td><td>174</td><td>5620</td><td>0.076</td></tr><tr><td>98125</td><td>Tumacacori</td><td>174</td><td>6945</td><td>0.076</td></tr><tr><td>99357</td><td>Markville</td><td>174</td><td>6568</td><td>0.076</td></tr><tr><td>67832</td><td>Valdese</td><td>174</td><td>5685</td><td>0.076</td></tr><tr><td>87110</td><td>Colebrook</td><td>173</td><td>7045</td><td>0.076</td></tr><tr><td>64929</td><td>Manchester Center</td><td>173</td><td>8005</td><td>0.076</td></tr><tr><td>42607</td><td>Orrtanna</td><td>173</td><td>7079</td><td>0.076</td></tr><tr><td>79599</td><td>Nanafalia</td><td>172</td><td>7086</td><td>0.075</td></tr><tr><td>66266</td><td>Hightsville</td><td>172</td><td>6021</td><td>0.075</td></tr><tr><td>79045</td><td>Eulaton</td><td>172</td><td>6783</td><td>0.075</td></tr><tr><td>38209</td><td>Tresckow</td><td>172</td><td>6730</td><td>0.075</td></tr><tr><td>105792</td><td>McAdenville</td><td>171</td><td>6473</td><td>0.075</td></tr><tr><td>72450</td><td>Queen Valley</td><td>171</td><td>7387</td><td>0.075</td></tr><tr><td>96377</td><td>Cape Neddick</td><td>171</td><td>7273</td><td>0.075</td></tr><tr><td>42573</td><td>North York</td><td>171</td><td>6177</td><td>0.075</td></tr><tr><td>70334</td><td>Abbottsburg</td><td>171</td><td>6319</td><td>0.075</td></tr><tr><td>102645</td><td>Tresckow</td><td>170</td><td>5919</td><td>0.074</td></tr><tr><td>105519</td><td>Wilkes-Barre</td><td>170</td><td>7342</td><td>0.074</td></tr><tr><td>78870</td><td>Bazemore</td><td>170</td><td>6923</td><td>0.074</td></tr><tr><td>70400</td><td>Bethania</td><td>170</td><td>6062</td><td>0.074</td></tr><tr><td>101705</td><td>Dundarrach</td><td>168</td><td>6699</td><td>0.074</td></tr><tr><td>52042</td><td>Cape Neddick</td><td>168</td><td>5689</td><td>0.074</td></tr><tr><td>41165</td><td>Dry Run</td><td>168</td><td>7392</td><td>0.074</td></tr><tr><td>102219</td><td>Madaket</td><td>167</td><td>7803</td><td>0.073</td></tr><tr><td>54755</td><td>Miesville</td><td>167</td><td>5980</td><td>0.073</td></tr><tr><td>61083</td><td>Tooele</td><td>167</td><td>7031</td><td>0.073</td></tr><tr><td>103794</td><td>Alstead</td><td>167</td><td>5892</td><td>0.073</td></tr><tr><td>103799</td><td>Ashland</td><td>167</td><td>5996</td><td>0.073</td></tr><tr><td>37955</td><td>Rose Tree</td><td>167</td><td>7506</td><td>0.073</td></tr><tr><td>42181</td><td>Morrison Bluff</td><td>167</td><td>6559</td><td>0.073</td></tr><tr><td>99970</td><td>Tremont</td><td>166</td><td>5929</td><td>0.073</td></tr><tr><td>96587</td><td>Howells</td><td>166</td><td>5355</td><td>0.073</td></tr><tr><td>39346</td><td>Armstrong Creek</td><td>165</td><td>8253</td><td>0.072</td></tr><tr><td>43702</td><td>Oconto Falls</td><td>165</td><td>7483</td><td>0.072</td></tr><tr><td>43529</td><td>Lunds</td><td>165</td><td>6934</td><td>0.072</td></tr><tr><td>103870</td><td>Goffstown</td><td>164</td><td>6909</td><td>0.072</td></tr><tr><td>61639</td><td>New Braintree</td><td>164</td><td>6168</td><td>0.072</td></tr><tr><td>83347</td><td>Southside</td><td>164</td><td>6342</td><td>0.072</td></tr><tr><td>44039</td><td>Lisco</td><td>164</td><td>6839</td><td>0.072</td></tr><tr><td>42455</td><td>Tilleda</td><td>164</td><td>6159</td><td>0.072</td></tr><tr><td>85782</td><td>Tarzan</td><td>163</td><td>6322</td><td>0.071</td></tr><tr><td>87673</td><td>Naches</td><td>163</td><td>6691</td><td>0.071</td></tr><tr><td>61361</td><td>Coney Island</td><td>162</td><td>5854</td><td>0.071</td></tr><tr><td>87969</td><td>Hambleton</td><td>162</td><td>7448</td><td>0.071</td></tr><tr><td>70510</td><td>Cramerton</td><td>162</td><td>7023</td><td>0.071</td></tr><tr><td>42362</td><td>Sayner</td><td>161</td><td>5487</td><td>0.071</td></tr><tr><td>64098</td><td>Alden Bridge</td><td>161</td><td>6308</td><td>0.071</td></tr><tr><td>61239</td><td>Branson West</td><td>160</td><td>6488</td><td>0.070</td></tr><tr><td>42713</td><td>Railroad</td><td>160</td><td>6294</td><td>0.070</td></tr><tr><td>45226</td><td>Wilkes-Barre</td><td>160</td><td>5713</td><td>0.070</td></tr><tr><td>56156</td><td>Bowlus</td><td>159</td><td>5601</td><td>0.070</td></tr><tr><td>61486</td><td>Dracut</td><td>159</td><td>6776</td><td>0.070</td></tr><tr><td>39562</td><td>Cylon</td><td>159</td><td>6171</td><td>0.070</td></tr><tr><td>93616</td><td>Basin</td><td>159</td><td>8004</td><td>0.070</td></tr><tr><td>79477</td><td>Jemison</td><td>159</td><td>5553</td><td>0.070</td></tr><tr><td>62997</td><td>Mamou</td><td>159</td><td>6546</td><td>0.070</td></tr><tr><td>60505</td><td>North Brookfield</td><td>158</td><td>5233</td><td>0.069</td></tr><tr><td>73351</td><td>Amado</td><td>158</td><td>7324</td><td>0.069</td></tr><tr><td>43854</td><td>Marion Hill</td><td>158</td><td>7139</td><td>0.069</td></tr><tr><td>41144</td><td>Devault</td><td>158</td><td>5492</td><td>0.069</td></tr><tr><td>61633</td><td>Nahant</td><td>158</td><td>5280</td><td>0.069</td></tr><tr><td>86434</td><td>Lake Mohegan</td><td>158</td><td>5412</td><td>0.069</td></tr><tr><td>70545</td><td>Dundarrach</td><td>157</td><td>5206</td><td>0.069</td></tr><tr><td>61474</td><td>Cotuit</td><td>157</td><td>6889</td><td>0.069</td></tr><tr><td>43830</td><td>Mahaffey</td><td>157</td><td>7369</td><td>0.069</td></tr><tr><td>57851</td><td>Tenstrike</td><td>157</td><td>5854</td><td>0.069</td></tr><tr><td>60732</td><td>Dennis Acres</td><td>157</td><td>6559</td><td>0.069</td></tr><tr><td>89634</td><td>Bow Mar</td><td>156</td><td>5857</td><td>0.068</td></tr><tr><td>72576</td><td>Walapai</td><td>156</td><td>5713</td><td>0.068</td></tr><tr><td>46950</td><td>Hayes Center</td><td>156</td><td>6046</td><td>0.068</td></tr><tr><td>60388</td><td>Saint Landry</td><td>155</td><td>6961</td><td>0.068</td></tr><tr><td>53109</td><td>Elrosa</td><td>155</td><td>5431</td><td>0.068</td></tr><tr><td>65312</td><td>Lilbourn</td><td>155</td><td>5945</td><td>0.068</td></tr><tr><td>91330</td><td>Royal City</td><td>155</td><td>5572</td><td>0.068</td></tr><tr><td>64360</td><td>Gardere</td><td>155</td><td>5728</td><td>0.068</td></tr><tr><td>102959</td><td>Florahome</td><td>155</td><td>7576</td><td>0.068</td></tr><tr><td>40273</td><td>Boalsburg</td><td>154</td><td>7007</td><td>0.067</td></tr><tr><td>87942</td><td>Gassaway</td><td>154</td><td>4743</td><td>0.067</td></tr><tr><td>38845</td><td>Reader</td><td>154</td><td>6346</td><td>0.067</td></tr><tr><td>46448</td><td>Gardners</td><td>153</td><td>5772</td><td>0.067</td></tr><tr><td>64280</td><td>Donner</td><td>153</td><td>5850</td><td>0.067</td></tr><tr><td>99051</td><td>Oley</td><td>153</td><td>5801</td><td>0.067</td></tr><tr><td>40257</td><td>Black Lick</td><td>152</td><td>5794</td><td>0.067</td></tr><tr><td>64853</td><td>Cavendish</td><td>152</td><td>5897</td><td>0.067</td></tr><tr><td>50297</td><td>Wallagrass</td><td>152</td><td>4347</td><td>0.067</td></tr><tr><td>37981</td><td>Sabinsville</td><td>151</td><td>4911</td><td>0.066</td></tr><tr><td>41238</td><td>Elverson</td><td>151</td><td>5886</td><td>0.066</td></tr><tr><td>65982</td><td>Westwater</td><td>151</td><td>4722</td><td>0.066</td></tr><tr><td>45165</td><td>Weigelstown</td><td>150</td><td>5832</td><td>0.066</td></tr><tr><td>63191</td><td>White Church</td><td>150</td><td>6013</td><td>0.066</td></tr><tr><td>54729</td><td>Markville</td><td>149</td><td>7244</td><td>0.065</td></tr><tr><td>113700</td><td>Cylon</td><td>149</td><td>5176</td><td>0.065</td></tr><tr><td>64414</td><td>Phelps City</td><td>149</td><td>5702</td><td>0.065</td></tr><tr><td>71783</td><td>Alstead</td><td>148</td><td>6181</td><td>0.065</td></tr><tr><td>41081</td><td>Connoquenessing</td><td>148</td><td>6547</td><td>0.065</td></tr><tr><td>110203</td><td>Delray</td><td>148</td><td>5817</td><td>0.065</td></tr><tr><td>61143</td><td>Arrow Rock</td><td>148</td><td>5505</td><td>0.065</td></tr><tr><td>54725</td><td>Marcell</td><td>146</td><td>5210</td><td>0.064</td></tr><tr><td>45092</td><td>Tunnelhill</td><td>146</td><td>5818</td><td>0.064</td></tr><tr><td>57834</td><td>Sunburg</td><td>146</td><td>5546</td><td>0.064</td></tr><tr><td>39003</td><td>Wesson</td><td>146</td><td>5033</td><td>0.064</td></tr><tr><td>61503</td><td>Edgartown</td><td>146</td><td>5915</td><td>0.064</td></tr><tr><td>53360</td><td>Lake Crystal</td><td>145</td><td>5688</td><td>0.064</td></tr><tr><td>38886</td><td>Schaal</td><td>145</td><td>6434</td><td>0.064</td></tr><tr><td>102762</td><td>Lunds</td><td>144</td><td>6454</td><td>0.063</td></tr><tr><td>66395</td><td>McAdenville</td><td>143</td><td>4921</td><td>0.063</td></tr><tr><td>61191</td><td>Bernie</td><td>143</td><td>6032</td><td>0.063</td></tr><tr><td>41159</td><td>Downingtown</td><td>143</td><td>5781</td><td>0.063</td></tr><tr><td>65311</td><td>Licking</td><td>143</td><td>4828</td><td>0.063</td></tr><tr><td>62954</td><td>Larose</td><td>143</td><td>6045</td><td>0.063</td></tr><tr><td>64370</td><td>Olivette</td><td>142</td><td>4638</td><td>0.062</td></tr><tr><td>52156</td><td>Hodgdon</td><td>142</td><td>5859</td><td>0.062</td></tr><tr><td>71855</td><td>Gilford</td><td>142</td><td>4791</td><td>0.062</td></tr><tr><td>56294</td><td>Deer River</td><td>141</td><td>5992</td><td>0.062</td></tr><tr><td>60328</td><td>Plaquemine</td><td>140</td><td>5278</td><td>0.061</td></tr><tr><td>87937</td><td>Gallipolis Ferry</td><td>140</td><td>5740</td><td>0.061</td></tr><tr><td>46186</td><td>Edmund</td><td>140</td><td>6169</td><td>0.061</td></tr><tr><td>64141</td><td>Bayou Cane</td><td>140</td><td>5506</td><td>0.061</td></tr><tr><td>39337</td><td>Arbor Vitae</td><td>140</td><td>6379</td><td>0.061</td></tr><tr><td>38135</td><td>Stoneboro</td><td>140</td><td>5737</td><td>0.061</td></tr><tr><td>66303</td><td>Kannapolis</td><td>139</td><td>5312</td><td>0.061</td></tr><tr><td>109282</td><td>Lunds</td><td>139</td><td>5577</td><td>0.061</td></tr><tr><td>56140</td><td>Biscay</td><td>138</td><td>6377</td><td>0.060</td></tr><tr><td>43652</td><td>Necedah</td><td>138</td><td>4949</td><td>0.060</td></tr><tr><td>56239</td><td>Cloquet</td><td>138</td><td>4391</td><td>0.060</td></tr><tr><td>108864</td><td>Port Hueneme</td><td>136</td><td>4933</td><td>0.060</td></tr><tr><td>41967</td><td>Grannis</td><td>136</td><td>5828</td><td>0.060</td></tr><tr><td>44106</td><td>Nehawka</td><td>136</td><td>5393</td><td>0.060</td></tr><tr><td>44275</td><td>Tamora</td><td>136</td><td>5161</td><td>0.060</td></tr><tr><td>71859</td><td>Goffstown</td><td>136</td><td>5440</td><td>0.060</td></tr><tr><td>46583</td><td>Homer City</td><td>135</td><td>5075</td><td>0.059</td></tr><tr><td>60983</td><td>Humansville</td><td>135</td><td>4643</td><td>0.059</td></tr><tr><td>39504</td><td>Chetek</td><td>135</td><td>6673</td><td>0.059</td></tr><tr><td>64565</td><td>Shell Knob</td><td>135</td><td>5426</td><td>0.059</td></tr><tr><td>38043</td><td>Shay</td><td>135</td><td>4679</td><td>0.059</td></tr><tr><td>53091</td><td>Eden Valley</td><td>134</td><td>4730</td><td>0.059</td></tr><tr><td>45084</td><td>Trout Run</td><td>134</td><td>4922</td><td>0.059</td></tr><tr><td>87371</td><td>Trilby</td><td>133</td><td>4986</td><td>0.058</td></tr><tr><td>115690</td><td>Kerby</td><td>133</td><td>5793</td><td>0.058</td></tr><tr><td>41981</td><td>Grider</td><td>133</td><td>4390</td><td>0.058</td></tr><tr><td>98491</td><td>Oriole Beach</td><td>133</td><td>4101</td><td>0.058</td></tr><tr><td>42583</td><td>Nuangola</td><td>132</td><td>4497</td><td>0.058</td></tr><tr><td>106912</td><td>Dahlia</td><td>132</td><td>6042</td><td>0.058</td></tr><tr><td>43990</td><td>Howells</td><td>132</td><td>4845</td><td>0.058</td></tr><tr><td>38199</td><td>Toughkenamon</td><td>132</td><td>4857</td><td>0.058</td></tr><tr><td>112304</td><td>Lake Stevens</td><td>131</td><td>4835</td><td>0.057</td></tr><tr><td>110283</td><td>Hambleton</td><td>130</td><td>5711</td><td>0.057</td></tr><tr><td>97270</td><td>Manchester Center</td><td>130</td><td>4821</td><td>0.057</td></tr><tr><td>104594</td><td>Meaux</td><td>130</td><td>5362</td><td>0.057</td></tr><tr><td>67833</td><td>Valhalla</td><td>129</td><td>4586</td><td>0.057</td></tr><tr><td>39371</td><td>Baraboo</td><td>129</td><td>5294</td><td>0.057</td></tr><tr><td>61956</td><td>Carbonville</td><td>129</td><td>5475</td><td>0.057</td></tr><tr><td>53792</td><td>Rockwall</td><td>129</td><td>5214</td><td>0.057</td></tr><tr><td>50290</td><td>Vassalboro</td><td>128</td><td>5674</td><td>0.056</td></tr><tr><td>50305</td><td>Weld</td><td>128</td><td>3768</td><td>0.056</td></tr><tr><td>43979</td><td>Mount Pocono</td><td>127</td><td>5564</td><td>0.056</td></tr><tr><td>109455</td><td>Oconto Falls</td><td>127</td><td>5658</td><td>0.056</td></tr><tr><td>84327</td><td>Lynne</td><td>126</td><td>5202</td><td>0.055</td></tr><tr><td>60508</td><td>North Eastham</td><td>126</td><td>4911</td><td>0.055</td></tr><tr><td>52099</td><td>Edgecomb</td><td>126</td><td>4671</td><td>0.055</td></tr><tr><td>51999</td><td>Beals</td><td>126</td><td>5237</td><td>0.055</td></tr><tr><td>46657</td><td>Karthaus</td><td>126</td><td>4399</td><td>0.055</td></tr><tr><td>87354</td><td>Tavares</td><td>125</td><td>4905</td><td>0.055</td></tr><tr><td>110541</td><td>Fieldbrook</td><td>125</td><td>6058</td><td>0.055</td></tr><tr><td>76207</td><td>Bakers Mill</td><td>125</td><td>4820</td><td>0.055</td></tr><tr><td>65501</td><td>Jane</td><td>125</td><td>4405</td><td>0.055</td></tr><tr><td>43292</td><td>Cale</td><td>125</td><td>5157</td><td>0.055</td></tr><tr><td>84249</td><td>Key Biscayne</td><td>124</td><td>5454</td><td>0.054</td></tr><tr><td>46292</td><td>Grantsburg</td><td>124</td><td>5274</td><td>0.054</td></tr><tr><td>62933</td><td>Kinder</td><td>124</td><td>5379</td><td>0.054</td></tr><tr><td>108171</td><td>Placer</td><td>123</td><td>6311</td><td>0.054</td></tr><tr><td>72594</td><td>Willow Valley</td><td>123</td><td>5102</td><td>0.054</td></tr><tr><td>64966</td><td>Pawlet</td><td>123</td><td>5380</td><td>0.054</td></tr><tr><td>65040</td><td>Wells</td><td>123</td><td>5526</td><td>0.054</td></tr><tr><td>86242</td><td>Great Neck</td><td>123</td><td>4113</td><td>0.054</td></tr><tr><td>109834</td><td>Mayhill</td><td>123</td><td>5056</td><td>0.054</td></tr><tr><td>43847</td><td>Marguerite</td><td>122</td><td>5276</td><td>0.053</td></tr><tr><td>109928</td><td>Puerto de Luna</td><td>122</td><td>4823</td><td>0.053</td></tr><tr><td>97381</td><td>Wells</td><td>122</td><td>5045</td><td>0.053</td></tr><tr><td>110549</td><td>Floriston</td><td>122</td><td>5622</td><td>0.053</td></tr><tr><td>66274</td><td>Holden Beach</td><td>122</td><td>4246</td><td>0.053</td></tr><tr><td>91567</td><td>Wray</td><td>122</td><td>4091</td><td>0.053</td></tr><tr><td>37965</td><td>Rothsville</td><td>122</td><td>5551</td><td>0.053</td></tr><tr><td>106838</td><td>Cañon</td><td>121</td><td>4152</td><td>0.053</td></tr><tr><td>57753</td><td>Saint Louis Park</td><td>121</td><td>4131</td><td>0.053</td></tr><tr><td>46952</td><td>Heartwell</td><td>121</td><td>4769</td><td>0.053</td></tr><tr><td>108743</td><td>Trentwood</td><td>121</td><td>4082</td><td>0.053</td></tr><tr><td>56111</td><td>Beaver Bay</td><td>120</td><td>4559</td><td>0.053</td></tr><tr><td>112897</td><td>Jesmond Dene</td><td>120</td><td>4362</td><td>0.053</td></tr><tr><td>112081</td><td>Bombay Beach</td><td>120</td><td>4415</td><td>0.053</td></tr><tr><td>108636</td><td>Royal City</td><td>120</td><td>5051</td><td>0.053</td></tr><tr><td>102885</td><td>Necedah</td><td>119</td><td>4899</td><td>0.052</td></tr><tr><td>107413</td><td>Slanesville</td><td>119</td><td>4277</td><td>0.052</td></tr><tr><td>73446</td><td>Cortaro</td><td>119</td><td>4063</td><td>0.052</td></tr><tr><td>82801</td><td>Compass Lake</td><td>119</td><td>5727</td><td>0.052</td></tr><tr><td>60696</td><td>White Horse Beach</td><td>119</td><td>4977</td><td>0.052</td></tr><tr><td>107027</td><td>La Cueva</td><td>118</td><td>5519</td><td>0.052</td></tr><tr><td>106911</td><td>Cuyamungue</td><td>118</td><td>4955</td><td>0.052</td></tr><tr><td>40339</td><td>Cadogan</td><td>118</td><td>4571</td><td>0.052</td></tr><tr><td>113447</td><td>Tilleda</td><td>118</td><td>4797</td><td>0.052</td></tr><tr><td>108678</td><td>Skyway</td><td>118</td><td>4306</td><td>0.052</td></tr><tr><td>111746</td><td>Broomtown</td><td>118</td><td>4525</td><td>0.052</td></tr><tr><td>108137</td><td>Newberg</td><td>117</td><td>3751</td><td>0.051</td></tr><tr><td>108054</td><td>Armstrong Creek</td><td>117</td><td>4225</td><td>0.051</td></tr><tr><td>42613</td><td>Oval</td><td>117</td><td>4325</td><td>0.051</td></tr><tr><td>82793</td><td>Cloud Lake</td><td>117</td><td>4375</td><td>0.051</td></tr><tr><td>113251</td><td>Segundo</td><td>117</td><td>4123</td><td>0.051</td></tr><tr><td>110491</td><td>El Centro</td><td>116</td><td>3730</td><td>0.051</td></tr><tr><td>61044</td><td>Scofield</td><td>116</td><td>5292</td><td>0.051</td></tr><tr><td>108294</td><td>Wasco</td><td>116</td><td>4142</td><td>0.051</td></tr><tr><td>111048</td><td>Marion Junction</td><td>116</td><td>4140</td><td>0.051</td></tr><tr><td>56244</td><td>Cokato</td><td>116</td><td>4463</td><td>0.051</td></tr><tr><td>114000</td><td>Antonito</td><td>116</td><td>4142</td><td>0.051</td></tr><tr><td>109124</td><td>Lytle Creek</td><td>116</td><td>3929</td><td>0.051</td></tr><tr><td>61597</td><td>Madaket</td><td>115</td><td>3881</td><td>0.050</td></tr><tr><td>113171</td><td>Orchard Mesa</td><td>115</td><td>3513</td><td>0.050</td></tr><tr><td>87378</td><td>Vamo</td><td>115</td><td>4807</td><td>0.050</td></tr><tr><td>64642</td><td>Tiff City</td><td>115</td><td>3993</td><td>0.050</td></tr><tr><td>108354</td><td>Cavendish</td><td>114</td><td>5010</td><td>0.050</td></tr><tr><td>109688</td><td>Orick</td><td>113</td><td>4740</td><td>0.050</td></tr><tr><td>112167</td><td>Caruthers</td><td>113</td><td>4239</td><td>0.050</td></tr><tr><td>40225</td><td>Bell Acres</td><td>113</td><td>4650</td><td>0.050</td></tr><tr><td>84344</td><td>Mary Esther</td><td>113</td><td>3890</td><td>0.050</td></tr><tr><td>113354</td><td>Sayner</td><td>113</td><td>4915</td><td>0.050</td></tr><tr><td>108466</td><td>Panton</td><td>113</td><td>3418</td><td>0.050</td></tr><tr><td>108660</td><td>Sekiu</td><td>113</td><td>3504</td><td>0.050</td></tr><tr><td>87419</td><td>West Frostproof</td><td>112</td><td>4735</td><td>0.049</td></tr><tr><td>108467</td><td>Pawlet</td><td>112</td><td>3876</td><td>0.049</td></tr><tr><td>114085</td><td>Cheyenne Wells</td><td>111</td><td>5532</td><td>0.049</td></tr><tr><td>109858</td><td>Moquino</td><td>111</td><td>4520</td><td>0.049</td></tr><tr><td>108290</td><td>Wapinitia</td><td>110</td><td>3728</td><td>0.048</td></tr><tr><td>114038</td><td>Bow Mar</td><td>110</td><td>5632</td><td>0.048</td></tr><tr><td>109936</td><td>Raton</td><td>110</td><td>4608</td><td>0.048</td></tr><tr><td>112931</td><td>Knights Landing</td><td>110</td><td>3516</td><td>0.048</td></tr><tr><td>109634</td><td>Nicasio</td><td>109</td><td>5462</td><td>0.048</td></tr><tr><td>110908</td><td>Guin</td><td>109</td><td>3603</td><td>0.048</td></tr><tr><td>114087</td><td>Chipita Park</td><td>109</td><td>4089</td><td>0.048</td></tr><tr><td>69540</td><td>East Fultonham</td><td>108</td><td>3739</td><td>0.047</td></tr><tr><td>78610</td><td>Bozeman Hot Springs</td><td>108</td><td>3657</td><td>0.047</td></tr><tr><td>107607</td><td>Twin Peaks</td><td>108</td><td>4226</td><td>0.047</td></tr><tr><td>84269</td><td>Lake Clarke Shores</td><td>108</td><td>4353</td><td>0.047</td></tr><tr><td>107510</td><td>Stallion Springs</td><td>108</td><td>4883</td><td>0.047</td></tr><tr><td>109856</td><td>Montoya</td><td>108</td><td>4416</td><td>0.047</td></tr><tr><td>112063</td><td>Biggs</td><td>107</td><td>4555</td><td>0.047</td></tr><tr><td>113196</td><td>Pikeview</td><td>107</td><td>4007</td><td>0.047</td></tr><tr><td>97733</td><td>Arbor Vitae</td><td>106</td><td>4163</td><td>0.046</td></tr><tr><td>97194</td><td>Cavendish</td><td>106</td><td>3818</td><td>0.046</td></tr><tr><td>107721</td><td>Yermo</td><td>106</td><td>2625</td><td>0.046</td></tr><tr><td>108770</td><td>Venersborg</td><td>106</td><td>4872</td><td>0.046</td></tr><tr><td>113258</td><td>Silver Plume</td><td>106</td><td>4920</td><td>0.046</td></tr><tr><td>112291</td><td>Koontzville</td><td>105</td><td>3673</td><td>0.046</td></tr><tr><td>111992</td><td>Arrowbear Lake</td><td>105</td><td>4158</td><td>0.046</td></tr><tr><td>113642</td><td>Chetek</td><td>105</td><td>5484</td><td>0.046</td></tr><tr><td>107623</td><td>Valley View Park</td><td>105</td><td>4024</td><td>0.046</td></tr><tr><td>113033</td><td>Lompoc</td><td>105</td><td>3193</td><td>0.046</td></tr><tr><td>112962</td><td>Lake Davis</td><td>105</td><td>4029</td><td>0.046</td></tr><tr><td>111804</td><td>Coker</td><td>105</td><td>4145</td><td>0.046</td></tr><tr><td>111877</td><td>Eulaton</td><td>104</td><td>4318</td><td>0.046</td></tr><tr><td>72456</td><td>Red Mesa</td><td>104</td><td>3358</td><td>0.046</td></tr><tr><td>41975</td><td>Greenfield</td><td>103</td><td>4692</td><td>0.045</td></tr><tr><td>97767</td><td>Baraboo</td><td>103</td><td>3727</td><td>0.045</td></tr><tr><td>107492</td><td>South Laguna</td><td>103</td><td>3546</td><td>0.045</td></tr><tr><td>109827</td><td>Madrone</td><td>103</td><td>4545</td><td>0.045</td></tr><tr><td>108430</td><td>Manchester Center</td><td>102</td><td>3591</td><td>0.045</td></tr><tr><td>107539</td><td>Taft Heights</td><td>102</td><td>3882</td><td>0.045</td></tr><tr><td>113126</td><td>McClave</td><td>101</td><td>3586</td><td>0.044</td></tr><tr><td>107753</td><td>Amanda Park</td><td>101</td><td>3582</td><td>0.044</td></tr><tr><td>112863</td><td>Idria</td><td>101</td><td>3930</td><td>0.044</td></tr><tr><td>85134</td><td>Twodot</td><td>101</td><td>2698</td><td>0.044</td></tr><tr><td>113998</td><td>Andrix</td><td>101</td><td>3690</td><td>0.044</td></tr><tr><td>97307</td><td>Pawlet</td><td>101</td><td>4088</td><td>0.044</td></tr><tr><td>85117</td><td>Sylvanite</td><td>100</td><td>4593</td><td>0.044</td></tr><tr><td>94014</td><td>Grantsburg</td><td>100</td><td>3416</td><td>0.044</td></tr><tr><td>87366</td><td>Tierra Verde</td><td>100</td><td>4142</td><td>0.044</td></tr><tr><td>111100</td><td>Nanafalia</td><td>99</td><td>3861</td><td>0.043</td></tr><tr><td>97958</td><td>Cylon</td><td>99</td><td>4002</td><td>0.043</td></tr><tr><td>110251</td><td>Gallipolis Ferry</td><td>99</td><td>3485</td><td>0.043</td></tr><tr><td>82792</td><td>Clewiston</td><td>99</td><td>3321</td><td>0.043</td></tr><tr><td>70409</td><td>Bladenboro</td><td>99</td><td>3654</td><td>0.043</td></tr><tr><td>112646</td><td>Grantsburg</td><td>98</td><td>3614</td><td>0.043</td></tr><tr><td>114952</td><td>Tuscaloosa</td><td>98</td><td>4071</td><td>0.043</td></tr><tr><td>108881</td><td>Rail Road Flat</td><td>98</td><td>4226</td><td>0.043</td></tr><tr><td>97742</td><td>Armstrong Creek</td><td>98</td><td>3600</td><td>0.043</td></tr><tr><td>108045</td><td>Arbor Vitae</td><td>98</td><td>3792</td><td>0.043</td></tr><tr><td>109758</td><td>Vollmar</td><td>98</td><td>3875</td><td>0.043</td></tr><tr><td>98256</td><td>Sayner</td><td>97</td><td>4227</td><td>0.042</td></tr><tr><td>111706</td><td>Belgreen</td><td>97</td><td>3893</td><td>0.042</td></tr><tr><td>114899</td><td>Southside</td><td>97</td><td>4341</td><td>0.042</td></tr><tr><td>108919</td><td>Ridgemark</td><td>97</td><td>5041</td><td>0.042</td></tr><tr><td>114058</td><td>Byers</td><td>97</td><td>3772</td><td>0.042</td></tr><tr><td>110256</td><td>Gassaway</td><td>97</td><td>3781</td><td>0.042</td></tr><tr><td>108988</td><td>San Jacinto</td><td>97</td><td>3987</td><td>0.042</td></tr><tr><td>110978</td><td>Jemison</td><td>96</td><td>3867</td><td>0.042</td></tr><tr><td>114008</td><td>Aspen Park</td><td>95</td><td>3807</td><td>0.042</td></tr><tr><td>103906</td><td>Lancaster</td><td>95</td><td>3091</td><td>0.042</td></tr><tr><td>97900</td><td>Chetek</td><td>94</td><td>3531</td><td>0.041</td></tr><tr><td>108758</td><td>Upper Preston</td><td>94</td><td>3741</td><td>0.041</td></tr><tr><td>114856</td><td>Saks</td><td>94</td><td>4088</td><td>0.041</td></tr><tr><td>48833</td><td>Biggs</td><td>94</td><td>4072</td><td>0.041</td></tr><tr><td>61336</td><td>Claycomo</td><td>93</td><td>4440</td><td>0.041</td></tr><tr><td>106901</td><td>Crossroads</td><td>93</td><td>3734</td><td>0.041</td></tr><tr><td>75266</td><td>Teutopolis</td><td>93</td><td>3093</td><td>0.041</td></tr><tr><td>114122</td><td>Dacono</td><td>92</td><td>3945</td><td>0.040</td></tr><tr><td>112965</td><td>Lake Hughes</td><td>92</td><td>2832</td><td>0.040</td></tr><tr><td>112350</td><td>Malott</td><td>92</td><td>3220</td><td>0.040</td></tr><tr><td>111993</td><td>Arrowhead Highlands</td><td>92</td><td>3985</td><td>0.040</td></tr><tr><td>102209</td><td>Liberty Plain</td><td>92</td><td>4474</td><td>0.040</td></tr><tr><td>42646</td><td>Penns Creek</td><td>91</td><td>3185</td><td>0.040</td></tr><tr><td>112008</td><td>Avenal</td><td>91</td><td>3057</td><td>0.040</td></tr><tr><td>78724</td><td>Fishtail</td><td>91</td><td>3586</td><td>0.040</td></tr><tr><td>114145</td><td>East Portal</td><td>89</td><td>3016</td><td>0.039</td></tr><tr><td>110140</td><td>Bruceton Mills</td><td>89</td><td>4306</td><td>0.039</td></tr><tr><td>109898</td><td>Pastura</td><td>89</td><td>2785</td><td>0.039</td></tr><tr><td>107442</td><td>Triadelphia</td><td>89</td><td>3489</td><td>0.039</td></tr><tr><td>115719</td><td>Lostine</td><td>88</td><td>3125</td><td>0.039</td></tr><tr><td>114842</td><td>Robertsdale</td><td>88</td><td>3591</td><td>0.039</td></tr><tr><td>97306</td><td>Panton</td><td>88</td><td>3920</td><td>0.039</td></tr><tr><td>111898</td><td>Flomaton</td><td>87</td><td>3743</td><td>0.038</td></tr><tr><td>111702</td><td>Bazemore</td><td>87</td><td>3214</td><td>0.038</td></tr><tr><td>109874</td><td>New Laguna</td><td>87</td><td>2634</td><td>0.038</td></tr><tr><td>48409</td><td>Lynne</td><td>87</td><td>2727</td><td>0.038</td></tr><tr><td>114022</td><td>Bergen Park</td><td>86</td><td>3473</td><td>0.038</td></tr><tr><td>109405</td><td>Necedah</td><td>86</td><td>3657</td><td>0.038</td></tr><tr><td>109132</td><td>Magalia</td><td>86</td><td>2827</td><td>0.038</td></tr><tr><td>107284</td><td>Middleway</td><td>85</td><td>2868</td><td>0.037</td></tr><tr><td>114847</td><td>Rogersville</td><td>84</td><td>3327</td><td>0.037</td></tr><tr><td>112540</td><td>Edmund</td><td>84</td><td>3176</td><td>0.037</td></tr><tr><td>107383</td><td>Robertsburg</td><td>84</td><td>2999</td><td>0.037</td></tr><tr><td>78767</td><td>Greycliff</td><td>84</td><td>3648</td><td>0.037</td></tr><tr><td>93908</td><td>Edmund</td><td>84</td><td>3309</td><td>0.037</td></tr><tr><td>109889</td><td>Optimo</td><td>82</td><td>3538</td><td>0.036</td></tr><tr><td>88809</td><td>Naples Park</td><td>82</td><td>3287</td><td>0.036</td></tr><tr><td>110220</td><td>Elk Garden</td><td>82</td><td>3847</td><td>0.036</td></tr><tr><td>110600</td><td>Glen Avon</td><td>82</td><td>4889</td><td>0.036</td></tr><tr><td>76193</td><td>Astor Park</td><td>82</td><td>3025</td><td>0.036</td></tr><tr><td>107878</td><td>College Place</td><td>82</td><td>2902</td><td>0.036</td></tr><tr><td>48331</td><td>Key Biscayne</td><td>81</td><td>3998</td><td>0.035</td></tr><tr><td>87402</td><td>Ward Ridge</td><td>81</td><td>2729</td><td>0.035</td></tr><tr><td>109791</td><td>Wray</td><td>81</td><td>2930</td><td>0.035</td></tr><tr><td>110080</td><td>Annamoriah</td><td>81</td><td>3698</td><td>0.035</td></tr><tr><td>107255</td><td>Lorentz</td><td>81</td><td>3057</td><td>0.035</td></tr><tr><td>50784</td><td>Glen Park</td><td>81</td><td>3488</td><td>0.035</td></tr><tr><td>50539</td><td>Conesus Lake</td><td>81</td><td>3464</td><td>0.035</td></tr><tr><td>98349</td><td>Tilleda</td><td>81</td><td>2249</td><td>0.035</td></tr><tr><td>108541</td><td>Wells</td><td>80</td><td>3031</td><td>0.035</td></tr><tr><td>82716</td><td>Bokeelia</td><td>80</td><td>2520</td><td>0.035</td></tr><tr><td>115533</td><td>Cave Junction</td><td>79</td><td>3397</td><td>0.035</td></tr><tr><td>78550</td><td>Yaak</td><td>79</td><td>2362</td><td>0.035</td></tr><tr><td>102935</td><td>Oconto Falls</td><td>79</td><td>2652</td><td>0.035</td></tr><tr><td>108577</td><td>Point Roberts</td><td>79</td><td>2722</td><td>0.035</td></tr><tr><td>82730</td><td>Bratt</td><td>79</td><td>2715</td><td>0.035</td></tr><tr><td>108118</td><td>Molalla</td><td>79</td><td>2799</td><td>0.035</td></tr><tr><td>109792</td><td>Yampa</td><td>78</td><td>2390</td><td>0.034</td></tr><tr><td>51287</td><td>Coupland</td><td>78</td><td>3142</td><td>0.034</td></tr><tr><td>82826</td><td>Cypress Quarters</td><td>78</td><td>2399</td><td>0.034</td></tr><tr><td>104145</td><td>Roberta Mill</td><td>78</td><td>3054</td><td>0.034</td></tr><tr><td>106909</td><td>Cundiyo</td><td>78</td><td>3406</td><td>0.034</td></tr><tr><td>88868</td><td>Oriole Beach</td><td>77</td><td>2379</td><td>0.034</td></tr><tr><td>56993</td><td>Indios</td><td>77</td><td>3748</td><td>0.034</td></tr><tr><td>107558</td><td>Termo</td><td>76</td><td>2624</td><td>0.033</td></tr><tr><td>112229</td><td>Harbour Pointe</td><td>76</td><td>3195</td><td>0.033</td></tr><tr><td>56868</td><td>Plata</td><td>75</td><td>3072</td><td>0.033</td></tr><tr><td>48482</td><td>Highland Home</td><td>75</td><td>3059</td><td>0.033</td></tr><tr><td>109143</td><td>Marin City</td><td>75</td><td>3351</td><td>0.033</td></tr><tr><td>64015</td><td>Keosauqua</td><td>75</td><td>3004</td><td>0.033</td></tr><tr><td>80302</td><td>Walker Valley</td><td>74</td><td>3286</td><td>0.032</td></tr><tr><td>110941</td><td>Highland Home</td><td>74</td><td>2318</td><td>0.032</td></tr><tr><td>59416</td><td>Portales</td><td>74</td><td>3318</td><td>0.032</td></tr><tr><td>112381</td><td>Meadowdale</td><td>74</td><td>2830</td><td>0.032</td></tr><tr><td>72149</td><td>Frenchburg</td><td>74</td><td>2307</td><td>0.032</td></tr><tr><td>58407</td><td>Annamoriah</td><td>74</td><td>3219</td><td>0.032</td></tr><tr><td>109922</td><td>Portales</td><td>73</td><td>3093</td><td>0.032</td></tr><tr><td>50452</td><td>McCamey</td><td>72</td><td>2762</td><td>0.032</td></tr><tr><td>112823</td><td>Herlong</td><td>72</td><td>2909</td><td>0.032</td></tr><tr><td>67967</td><td>Waite Hill</td><td>71</td><td>2078</td><td>0.031</td></tr><tr><td>75976</td><td>Linden</td><td>71</td><td>2859</td><td>0.031</td></tr><tr><td>113509</td><td>Baraboo</td><td>71</td><td>3776</td><td>0.031</td></tr><tr><td>57278</td><td>Islip Terrace</td><td>71</td><td>2741</td><td>0.031</td></tr><tr><td>58467</td><td>Bruceton Mills</td><td>70</td><td>3053</td><td>0.031</td></tr><tr><td>40944</td><td>Trentwood</td><td>70</td><td>2413</td><td>0.031</td></tr><tr><td>109963</td><td>San Acacia</td><td>70</td><td>2975</td><td>0.031</td></tr><tr><td>72294</td><td>Knifley</td><td>69</td><td>2169</td><td>0.030</td></tr><tr><td>74559</td><td>Chipita Park</td><td>69</td><td>2324</td><td>0.030</td></tr><tr><td>49849</td><td>Kopperl</td><td>69</td><td>2101</td><td>0.030</td></tr><tr><td>48351</td><td>Lake Clarke Shores</td><td>69</td><td>2515</td><td>0.030</td></tr><tr><td>112421</td><td>Naches</td><td>68</td><td>3706</td><td>0.030</td></tr><tr><td>71601</td><td>New Baden</td><td>68</td><td>2668</td><td>0.030</td></tr><tr><td>50448</td><td>Maypearl</td><td>68</td><td>2876</td><td>0.030</td></tr><tr><td>56939</td><td>Cataño</td><td>68</td><td>2266</td><td>0.030</td></tr><tr><td>49163</td><td>Koontzville</td><td>68</td><td>3091</td><td>0.030</td></tr><tr><td>50767</td><td>Gasport</td><td>68</td><td>2543</td><td>0.030</td></tr><tr><td>70483</td><td>Claremont</td><td>68</td><td>2652</td><td>0.030</td></tr><tr><td>40837</td><td>Royal City</td><td>68</td><td>2322</td><td>0.030</td></tr><tr><td>49176</td><td>Lake Stevens</td><td>67</td><td>2630</td><td>0.029</td></tr><tr><td>45429</td><td>Coker</td><td>67</td><td>2385</td><td>0.029</td></tr><tr><td>51350</td><td>Del Valle</td><td>67</td><td>2510</td><td>0.029</td></tr><tr><td>68855</td><td>Ashtabula</td><td>67</td><td>2531</td><td>0.029</td></tr><tr><td>59037</td><td>Batson</td><td>67</td><td>1979</td><td>0.029</td></tr><tr><td>85112</td><td>Sun River</td><td>66</td><td>2999</td><td>0.029</td></tr><tr><td>39257</td><td>West Frostproof</td><td>66</td><td>2772</td><td>0.029</td></tr><tr><td>59422</td><td>Puerto de Luna</td><td>66</td><td>2511</td><td>0.029</td></tr><tr><td>43131</td><td>Sinclair</td><td>66</td><td>3557</td><td>0.029</td></tr><tr><td>48589</td><td>Marion Junction</td><td>66</td><td>1382</td><td>0.029</td></tr><tr><td>43085</td><td>Orpha</td><td>66</td><td>2401</td><td>0.029</td></tr><tr><td>59457</td><td>San Acacia</td><td>65</td><td>1928</td><td>0.028</td></tr><tr><td>40861</td><td>Sekiu</td><td>65</td><td>3686</td><td>0.028</td></tr><tr><td>46034</td><td>Compass Lake</td><td>65</td><td>2004</td><td>0.028</td></tr><tr><td>39667</td><td>Robertsdale</td><td>65</td><td>2146</td><td>0.028</td></tr><tr><td>70644</td><td>Lakemore</td><td>64</td><td>2451</td><td>0.028</td></tr><tr><td>51544</td><td>Slanesville</td><td>64</td><td>2288</td><td>0.028</td></tr><tr><td>51387</td><td>Lorentz</td><td>64</td><td>2124</td><td>0.028</td></tr><tr><td>63951</td><td>Hedrick</td><td>64</td><td>2930</td><td>0.028</td></tr><tr><td>110014</td><td>Soham</td><td>63</td><td>2315</td><td>0.028</td></tr><tr><td>73288</td><td>Drakesboro</td><td>63</td><td>1982</td><td>0.028</td></tr><tr><td>45502</td><td>Eulaton</td><td>63</td><td>2475</td><td>0.028</td></tr><tr><td>107316</td><td>Nitro</td><td>63</td><td>2876</td><td>0.028</td></tr><tr><td>48519</td><td>Jemison</td><td>62</td><td>2519</td><td>0.027</td></tr><tr><td>74447</td><td>Goodings Grove</td><td>62</td><td>2401</td><td>0.027</td></tr><tr><td>50119</td><td>Chateaugay</td><td>62</td><td>2385</td><td>0.027</td></tr><tr><td>60159</td><td>Spillville</td><td>62</td><td>2707</td><td>0.027</td></tr><tr><td>56844</td><td>Pharr</td><td>62</td><td>3078</td><td>0.027</td></tr><tr><td>53636</td><td>Palatine Bridge</td><td>61</td><td>2401</td><td>0.027</td></tr><tr><td>75086</td><td>Roachtown</td><td>61</td><td>1941</td><td>0.027</td></tr><tr><td>46026</td><td>Cloud Lake</td><td>61</td><td>1910</td><td>0.027</td></tr><tr><td>110213</td><td>East Dailey</td><td>61</td><td>2837</td><td>0.027</td></tr><tr><td>59352</td><td>Moquino</td><td>61</td><td>2206</td><td>0.027</td></tr><tr><td>57369</td><td>Lime Lake</td><td>61</td><td>2582</td><td>0.027</td></tr><tr><td>43128</td><td>Shell</td><td>60</td><td>2334</td><td>0.026</td></tr><tr><td>59392</td><td>Pastura</td><td>60</td><td>2019</td><td>0.026</td></tr><tr><td>70697</td><td>Lowellville</td><td>60</td><td>2355</td><td>0.026</td></tr><tr><td>43161</td><td>Wapiti</td><td>60</td><td>2521</td><td>0.026</td></tr><tr><td>66773</td><td>Obetz</td><td>60</td><td>2032</td><td>0.026</td></tr><tr><td>65852</td><td>Dunkerton</td><td>60</td><td>2153</td><td>0.026</td></tr><tr><td>45887</td><td>Astor Park</td><td>59</td><td>2295</td><td>0.026</td></tr><tr><td>55117</td><td>Truscott</td><td>59</td><td>1569</td><td>0.026</td></tr><tr><td>55146</td><td>Vair</td><td>59</td><td>2653</td><td>0.026</td></tr><tr><td>74480</td><td>Aspen Park</td><td>59</td><td>1909</td><td>0.026</td></tr><tr><td>71742</td><td>Vollmar</td><td>59</td><td>2465</td><td>0.026</td></tr><tr><td>56995</td><td>Isabela</td><td>59</td><td>2685</td><td>0.026</td></tr><tr><td>59622</td><td>Placer</td><td>59</td><td>3345</td><td>0.026</td></tr><tr><td>74617</td><td>East Portal</td><td>58</td><td>2522</td><td>0.025</td></tr><tr><td>57156</td><td>Greig</td><td>58</td><td>2086</td><td>0.025</td></tr><tr><td>57097</td><td>Rosa Sánchez</td><td>58</td><td>2229</td><td>0.025</td></tr><tr><td>73307</td><td>Elkatawa</td><td>58</td><td>2609</td><td>0.025</td></tr><tr><td>57335</td><td>Lake Ronkonkoma</td><td>58</td><td>2713</td><td>0.025</td></tr><tr><td>67855</td><td>South Euclid</td><td>58</td><td>2333</td><td>0.025</td></tr><tr><td>55397</td><td>Sauquoit</td><td>58</td><td>3030</td><td>0.025</td></tr><tr><td>53385</td><td>Yaak</td><td>58</td><td>3010</td><td>0.025</td></tr><tr><td>49915</td><td>Arietta</td><td>57</td><td>2643</td><td>0.025</td></tr><tr><td>49222</td><td>Malott</td><td>57</td><td>2806</td><td>0.025</td></tr><tr><td>67728</td><td>Saxapahaw</td><td>57</td><td>2103</td><td>0.025</td></tr><tr><td>46059</td><td>Cypress Quarters</td><td>57</td><td>2957</td><td>0.025</td></tr><tr><td>49736</td><td>Impact</td><td>56</td><td>3407</td><td>0.025</td></tr><tr><td>49617</td><td>Haltom City</td><td>56</td><td>2072</td><td>0.025</td></tr><tr><td>57327</td><td>Lake Erie Beach</td><td>56</td><td>2365</td><td>0.025</td></tr><tr><td>45327</td><td>Bazemore</td><td>56</td><td>2518</td><td>0.025</td></tr><tr><td>45901</td><td>Bakers Mill</td><td>56</td><td>2272</td><td>0.025</td></tr><tr><td>69490</td><td>Cuyahoga Heights</td><td>56</td><td>2293</td><td>0.025</td></tr><tr><td>90943</td><td>Orland Hills</td><td>55</td><td>2578</td><td>0.024</td></tr><tr><td>56563</td><td>Twodot</td><td>55</td><td>2023</td><td>0.024</td></tr><tr><td>40879</td><td>Skyway</td><td>55</td><td>1222</td><td>0.024</td></tr><tr><td>70871</td><td>New Lexington</td><td>55</td><td>2573</td><td>0.024</td></tr><tr><td>39777</td><td>Tuscaloosa</td><td>55</td><td>2351</td><td>0.024</td></tr><tr><td>51447</td><td>Nitro</td><td>55</td><td>1750</td><td>0.024</td></tr><tr><td>58610</td><td>Hambleton</td><td>55</td><td>2541</td><td>0.024</td></tr><tr><td>53912</td><td>Seagraves</td><td>55</td><td>1707</td><td>0.024</td></tr><tr><td>59893</td><td>La Cueva</td><td>54</td><td>1889</td><td>0.024</td></tr><tr><td>72156</td><td>Garlin</td><td>54</td><td>1669</td><td>0.024</td></tr><tr><td>74288</td><td>Du Quoin</td><td>54</td><td>2330</td><td>0.024</td></tr><tr><td>40971</td><td>Venersborg</td><td>54</td><td>2020</td><td>0.024</td></tr><tr><td>49655</td><td>Helotes</td><td>54</td><td>1983</td><td>0.024</td></tr><tr><td>53682</td><td>Premont</td><td>54</td><td>1983</td><td>0.024</td></tr><tr><td>39204</td><td>Tierra Verde</td><td>53</td><td>1896</td><td>0.023</td></tr><tr><td>74494</td><td>Bergen Park</td><td>53</td><td>2500</td><td>0.023</td></tr><tr><td>65763</td><td>Coin</td><td>53</td><td>1858</td><td>0.023</td></tr><tr><td>64003</td><td>Jolley</td><td>53</td><td>2126</td><td>0.023</td></tr><tr><td>56883</td><td>Port Alto</td><td>53</td><td>1894</td><td>0.023</td></tr><tr><td>58731</td><td>Trumansburg</td><td>53</td><td>2045</td><td>0.023</td></tr><tr><td>73983</td><td>McClave</td><td>53</td><td>1949</td><td>0.023</td></tr><tr><td>41749</td><td>Cos Cob</td><td>53</td><td>2114</td><td>0.023</td></tr><tr><td>49101</td><td>Harbour Pointe</td><td>53</td><td>2244</td><td>0.023</td></tr><tr><td>58547</td><td>Elk Garden</td><td>52</td><td>2334</td><td>0.023</td></tr><tr><td>39957</td><td>Oriole Beach</td><td>52</td><td>1960</td><td>0.023</td></tr><tr><td>63578</td><td>Cave Junction</td><td>52</td><td>1975</td><td>0.023</td></tr><tr><td>40959</td><td>Upper Preston</td><td>52</td><td>2307</td><td>0.023</td></tr><tr><td>73254</td><td>Creelsboro</td><td>52</td><td>1972</td><td>0.023</td></tr><tr><td>63946</td><td>Hawarden</td><td>52</td><td>2559</td><td>0.023</td></tr><tr><td>63764</td><td>Lostine</td><td>52</td><td>2011</td><td>0.023</td></tr><tr><td>49788</td><td>Jones Creek</td><td>51</td><td>2459</td><td>0.022</td></tr><tr><td>50394</td><td>Lytle</td><td>51</td><td>1666</td><td>0.022</td></tr><tr><td>41923</td><td>Windsor Locks</td><td>51</td><td>1395</td><td>0.022</td></tr><tr><td>49253</td><td>Meadowdale</td><td>51</td><td>1450</td><td>0.022</td></tr><tr><td>57087</td><td>Rafael Capó</td><td>51</td><td>1928</td><td>0.022</td></tr><tr><td>50625</td><td>Eagle Valley</td><td>50</td><td>1761</td><td>0.022</td></tr><tr><td>50480</td><td>Mendoza</td><td>50</td><td>2466</td><td>0.022</td></tr><tr><td>104322</td><td>Sigel</td><td>50</td><td>2080</td><td>0.022</td></tr><tr><td>59190</td><td>Buchanan Lake Village</td><td>50</td><td>1954</td><td>0.022</td></tr><tr><td>55406</td><td>Schoharie</td><td>50</td><td>1428</td><td>0.022</td></tr><tr><td>49990</td><td>Big Moose</td><td>50</td><td>1949</td><td>0.022</td></tr><tr><td>70700</td><td>Lucasville</td><td>50</td><td>2317</td><td>0.022</td></tr><tr><td>51415</td><td>Middleway</td><td>50</td><td>1830</td><td>0.022</td></tr><tr><td>45963</td><td>Bratt</td><td>49</td><td>2267</td><td>0.021</td></tr><tr><td>73651</td><td>Hanaford</td><td>49</td><td>1469</td><td>0.021</td></tr><tr><td>63735</td><td>Kerby</td><td>49</td><td>1726</td><td>0.021</td></tr><tr><td>45523</td><td>Flomaton</td><td>49</td><td>1896</td><td>0.021</td></tr><tr><td>57141</td><td>Great Neck Estates</td><td>49</td><td>1675</td><td>0.021</td></tr><tr><td>45600</td><td>Amanda Park</td><td>49</td><td>1618</td><td>0.021</td></tr><tr><td>74510</td><td>Bow Mar</td><td>49</td><td>2242</td><td>0.021</td></tr><tr><td>59776</td><td>Cundiyo</td><td>49</td><td>2222</td><td>0.021</td></tr><tr><td>45949</td><td>Bokeelia</td><td>48</td><td>2099</td><td>0.021</td></tr><tr><td>67778</td><td>Staley</td><td>48</td><td>1894</td><td>0.021</td></tr><tr><td>52278</td><td>Dorchester</td><td>48</td><td>1568</td><td>0.021</td></tr><tr><td>56778</td><td>Ovilla</td><td>48</td><td>2452</td><td>0.021</td></tr><tr><td>59778</td><td>Cuyamungue</td><td>48</td><td>2258</td><td>0.021</td></tr><tr><td>69686</td><td>Hanoverton</td><td>47</td><td>2238</td><td>0.021</td></tr><tr><td>53573</td><td>North Ridge</td><td>47</td><td>1186</td><td>0.021</td></tr><tr><td>45725</td><td>College Place</td><td>47</td><td>2241</td><td>0.021</td></tr><tr><td>51514</td><td>Robertsburg</td><td>47</td><td>1151</td><td>0.021</td></tr><tr><td>58583</td><td>Gassaway</td><td>47</td><td>1561</td><td>0.021</td></tr><tr><td>39209</td><td>Trilby</td><td>47</td><td>1417</td><td>0.021</td></tr><tr><td>72904</td><td>Tolono</td><td>47</td><td>1898</td><td>0.021</td></tr><tr><td>40778</td><td>Point Roberts</td><td>47</td><td>1709</td><td>0.021</td></tr><tr><td>56738</td><td>Oak Point</td><td>47</td><td>2203</td><td>0.021</td></tr><tr><td>68939</td><td>Bourneville</td><td>46</td><td>2192</td><td>0.020</td></tr><tr><td>68948</td><td>Bratenahl</td><td>46</td><td>1985</td><td>0.020</td></tr><tr><td>75213</td><td>Spillertown</td><td>46</td><td>1586</td><td>0.020</td></tr><tr><td>59705</td><td>Cañon</td><td>46</td><td>3047</td><td>0.020</td></tr><tr><td>39216</td><td>Vamo</td><td>46</td><td>1374</td><td>0.020</td></tr><tr><td>66741</td><td>North Eaton</td><td>46</td><td>2013</td><td>0.020</td></tr><tr><td>56541</td><td>Sun River</td><td>45</td><td>1422</td><td>0.020</td></tr><tr><td>83933</td><td>Bowmansville</td><td>45</td><td>2384</td><td>0.020</td></tr><tr><td>56757</td><td>Old River-Winfree</td><td>45</td><td>1848</td><td>0.020</td></tr><tr><td>63961</td><td>Hiteman</td><td>45</td><td>1601</td><td>0.020</td></tr><tr><td>50555</td><td>Corfu</td><td>45</td><td>2334</td><td>0.020</td></tr><tr><td>75692</td><td>Bourbonnais</td><td>45</td><td>1726</td><td>0.020</td></tr><tr><td>67996</td><td>West Elkton</td><td>45</td><td>1415</td><td>0.020</td></tr><tr><td>46025</td><td>Clewiston</td><td>45</td><td>1546</td><td>0.020</td></tr><tr><td>59321</td><td>Madrone</td><td>45</td><td>1686</td><td>0.020</td></tr><tr><td>74594</td><td>Dacono</td><td>45</td><td>1335</td><td>0.020</td></tr><tr><td>56840</td><td>Petronila</td><td>44</td><td>2198</td><td>0.019</td></tr><tr><td>58788</td><td>Wappingers Falls</td><td>44</td><td>1820</td><td>0.019</td></tr><tr><td>48449</td><td>Guin</td><td>44</td><td>1982</td><td>0.019</td></tr><tr><td>49967</td><td>Beekmantown</td><td>44</td><td>1731</td><td>0.019</td></tr><tr><td>73736</td><td>Indian Creek</td><td>43</td><td>1904</td><td>0.019</td></tr><tr><td>52309</td><td>East Mountain</td><td>43</td><td>1081</td><td>0.019</td></tr><tr><td>74470</td><td>Andrix</td><td>43</td><td>1995</td><td>0.019</td></tr><tr><td>59368</td><td>New Laguna</td><td>43</td><td>1466</td><td>0.019</td></tr><tr><td>59350</td><td>Montoya</td><td>43</td><td>1306</td><td>0.019</td></tr><tr><td>39192</td><td>Tavares</td><td>42</td><td>2215</td><td>0.018</td></tr><tr><td>63995</td><td>Jamison</td><td>42</td><td>1485</td><td>0.018</td></tr><tr><td>58540</td><td>East Dailey</td><td>42</td><td>2319</td><td>0.018</td></tr><tr><td>59569</td><td>Molalla</td><td>42</td><td>1683</td><td>0.018</td></tr><tr><td>55070</td><td>The Colony</td><td>42</td><td>1808</td><td>0.018</td></tr><tr><td>59067</td><td>Ben Arnold</td><td>42</td><td>1464</td><td>0.018</td></tr><tr><td>50656</td><td>Eastchester</td><td>42</td><td>1500</td><td>0.018</td></tr><tr><td>51573</td><td>Triadelphia</td><td>42</td><td>1773</td><td>0.018</td></tr><tr><td>74557</td><td>Cheyenne Wells</td><td>42</td><td>1773</td><td>0.018</td></tr><tr><td>50094</td><td>Caton</td><td>41</td><td>1257</td><td>0.018</td></tr><tr><td>50420</td><td>Marfa</td><td>41</td><td>1616</td><td>0.018</td></tr><tr><td>56954</td><td>Corcovado</td><td>41</td><td>1952</td><td>0.018</td></tr><tr><td>48641</td><td>Nanafalia</td><td>41</td><td>1401</td><td>0.018</td></tr><tr><td>74115</td><td>Silver Plume</td><td>41</td><td>1923</td><td>0.018</td></tr><tr><td>62292</td><td>Wapinitia</td><td>41</td><td>1717</td><td>0.018</td></tr><tr><td>45371</td><td>Broomtown</td><td>40</td><td>1255</td><td>0.018</td></tr><tr><td>63824</td><td>Ewart</td><td>40</td><td>994</td><td>0.018</td></tr><tr><td>57058</td><td>Palmas del Mar</td><td>40</td><td>1292</td><td>0.018</td></tr><tr><td>73281</td><td>Diablock</td><td>40</td><td>1908</td><td>0.018</td></tr><tr><td>39898</td><td>Naples Park</td><td>39</td><td>1427</td><td>0.017</td></tr><tr><td>52335</td><td>El Refugio</td><td>39</td><td>1502</td><td>0.017</td></tr><tr><td>52423</td><td>Flowella</td><td>39</td><td>1508</td><td>0.017</td></tr><tr><td>74108</td><td>Segundo</td><td>39</td><td>1897</td><td>0.017</td></tr><tr><td>75236</td><td>Stonefort</td><td>38</td><td>1250</td><td>0.017</td></tr><tr><td>72276</td><td>Johnetta</td><td>38</td><td>1641</td><td>0.017</td></tr><tr><td>39681</td><td>Saks</td><td>38</td><td>1614</td><td>0.017</td></tr><tr><td>48426</td><td>Mary Esther</td><td>38</td><td>1174</td><td>0.017</td></tr><tr><td>59779</td><td>Dahlia</td><td>37</td><td>1415</td><td>0.016</td></tr><tr><td>41896</td><td>Topstone</td><td>37</td><td>1300</td><td>0.016</td></tr><tr><td>59430</td><td>Raton</td><td>37</td><td>1679</td><td>0.016</td></tr><tr><td>71564</td><td>Morton Grove</td><td>37</td><td>2059</td><td>0.016</td></tr><tr><td>43133</td><td>Smoot</td><td>37</td><td>1181</td><td>0.016</td></tr><tr><td>55140</td><td>Universal City</td><td>37</td><td>1176</td><td>0.016</td></tr><tr><td>58076</td><td>Bozeman Hot Springs</td><td>36</td><td>1411</td><td>0.016</td></tr><tr><td>73182</td><td>Calvert City</td><td>36</td><td>1209</td><td>0.016</td></tr><tr><td>70600</td><td>Jeromesville</td><td>36</td><td>1227</td><td>0.016</td></tr><tr><td>45331</td><td>Belgreen</td><td>36</td><td>1118</td><td>0.016</td></tr><tr><td>52261</td><td>Dickworsham</td><td>36</td><td>1001</td><td>0.016</td></tr><tr><td>39724</td><td>Southside</td><td>36</td><td>1465</td><td>0.016</td></tr><tr><td>50541</td><td>Conewango</td><td>35</td><td>1398</td><td>0.015</td></tr><tr><td>74376</td><td>Flanagan</td><td>35</td><td>2167</td><td>0.015</td></tr><tr><td>51328</td><td>Dallardsville</td><td>35</td><td>1215</td><td>0.015</td></tr><tr><td>58830</td><td>West Hempstead</td><td>34</td><td>1215</td><td>0.015</td></tr><tr><td>74028</td><td>Orchard Mesa</td><td>34</td><td>1006</td><td>0.015</td></tr><tr><td>75669</td><td>Birds</td><td>34</td><td>1557</td><td>0.015</td></tr><tr><td>50550</td><td>Copake</td><td>34</td><td>1588</td><td>0.015</td></tr><tr><td>55435</td><td>Shenorock</td><td>34</td><td>1395</td><td>0.015</td></tr><tr><td>69644</td><td>Glenwillow</td><td>34</td><td>1543</td><td>0.015</td></tr><tr><td>59081</td><td>Bernstein</td><td>34</td><td>1454</td><td>0.015</td></tr><tr><td>74472</td><td>Antonito</td><td>34</td><td>1149</td><td>0.015</td></tr><tr><td>58351</td><td>Lavon</td><td>34</td><td>1389</td><td>0.015</td></tr><tr><td>59768</td><td>Crossroads</td><td>33</td><td>1289</td><td>0.014</td></tr><tr><td>49925</td><td>Athol Springs</td><td>33</td><td>1311</td><td>0.014</td></tr><tr><td>55153</td><td>Van Alstyne</td><td>32</td><td>861</td><td>0.014</td></tr><tr><td>50129</td><td>Cherryplain</td><td>32</td><td>1090</td><td>0.014</td></tr><tr><td>73301</td><td>Ekron</td><td>32</td><td>1018</td><td>0.014</td></tr><tr><td>49293</td><td>Naches</td><td>32</td><td>1246</td><td>0.014</td></tr><tr><td>49696</td><td>Hollywood Park</td><td>32</td><td>1587</td><td>0.014</td></tr><tr><td>59383</td><td>Optimo</td><td>31</td><td>1628</td><td>0.014</td></tr><tr><td>90285</td><td>Ellisville</td><td>30</td><td>1028</td><td>0.013</td></tr><tr><td>54957</td><td>South La Paloma</td><td>30</td><td>930</td><td>0.013</td></tr><tr><td>56721</td><td>North Cowden</td><td>30</td><td>1565</td><td>0.013</td></tr><tr><td>73809</td><td>La Grange Park</td><td>29</td><td>1295</td><td>0.013</td></tr><tr><td>112330</td><td>Long Beach</td><td>29</td><td>1576</td><td>0.013</td></tr><tr><td>50690</td><td>Esopus</td><td>29</td><td>838</td><td>0.013</td></tr><tr><td>56894</td><td>Aceitunas</td><td>28</td><td>980</td><td>0.012</td></tr><tr><td>56546</td><td>Sylvanite</td><td>28</td><td>693</td><td>0.012</td></tr><tr><td>58530</td><td>Delray</td><td>28</td><td>899</td><td>0.012</td></tr><tr><td>74053</td><td>Pikeview</td><td>28</td><td>1197</td><td>0.012</td></tr><tr><td>59588</td><td>Newberg</td><td>27</td><td>1264</td><td>0.012</td></tr><tr><td>59508</td><td>Soham</td><td>27</td><td>625</td><td>0.012</td></tr><tr><td>39240</td><td>Ward Ridge</td><td>25</td><td>1346</td><td>0.011</td></tr><tr><td>55341</td><td>Roe Park</td><td>25</td><td>948</td><td>0.011</td></tr><tr><td>59328</td><td>Mayhill</td><td>25</td><td>1423</td><td>0.011</td></tr><tr><td>56631</td><td>Morita</td><td>24</td><td>1021</td><td>0.011</td></tr><tr><td>58190</td><td>Fishtail</td><td>23</td><td>1338</td><td>0.010</td></tr><tr><td>66770</td><td>Oakshade</td><td>17</td><td>561</td><td>0.007</td></tr><tr><td>56313</td><td>Dover</td><td>17</td><td>509</td><td>0.007</td></tr><tr><td>51337</td><td>Dawn</td><td>17</td><td>751</td><td>0.007</td></tr><tr><td>69702</td><td>Haydenville</td><td>16</td><td>678</td><td>0.007</td></tr><tr><td>112394</td><td>Midland</td><td>15</td><td>553</td><td>0.007</td></tr></table>"
                    },
                    "metadata": {}
                }
            ],
            "execution_count": 2
        }
    ]
}